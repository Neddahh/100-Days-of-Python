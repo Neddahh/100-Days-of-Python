{
  "nbformat": 4,
  "nbformat_minor": 0,
  "metadata": {
    "colab": {
      "provenance": [],
      "collapsed_sections": [
        "dHu_Ni5cBVxu",
        "_ldG3-ekTCTD",
        "0Qykylpw43vZ",
        "9_zYX4lNHJPz"
      ],
      "authorship_tag": "ABX9TyMwhCVbG2Umw0kwo8aSDW7E",
      "include_colab_link": true
    },
    "kernelspec": {
      "name": "python3",
      "display_name": "Python 3"
    },
    "language_info": {
      "name": "python"
    }
  },
  "cells": [
    {
      "cell_type": "markdown",
      "metadata": {
        "id": "view-in-github",
        "colab_type": "text"
      },
      "source": [
        "<a href=\"https://colab.research.google.com/github/Neddahh/100-Days-of-Python/blob/main/Python_Days_1_10.ipynb\" target=\"_parent\"><img src=\"https://colab.research.google.com/assets/colab-badge.svg\" alt=\"Open In Colab\"/></a>"
      ]
    },
    {
      "cell_type": "markdown",
      "source": [
        "#Table of Contents:\n",
        "*   [Day1: Introduction & Features](#scrollTo=_ldG3-ekTCTD&line=2&uniqifier=1)\n",
        "*   [Day 2: Power of Python](#scrollTo=A2ml_p0KXk8n&line=1&uniqifier=1)\n",
        "*   [Day3: Modules and pip](#scrollTo=rCPrTFnHUD6-&line=1&uniqifier=1)\n",
        "*   [Extracting video names from a youtube playlist](#scrollTo=9_zYX4lNHJPz&line=1&uniqifier=1)\n",
        "*   [Day 4: The 'Print' Statement](#scrollTo=6DNNsUqgov4I&line=1&uniqifier=1)\n",
        "*   [Quiz: print](#scrollTo=5XNxCKU8thet)\n",
        "*   [Day5: Comments, Escape Sequences & Print Statement](#scrollTo=fdIuEYBvw3GA)\n",
        "*   [KeyBoard Shortcuts ](#scrollTo=dHu_Ni5cBVxu&line=1&uniqifier=1)\n",
        "*   [Lessons ](#scrollTo=0Qykylpw43vZ&line=1&uniqifier=1)\n",
        "\n"
      ],
      "metadata": {
        "id": "iSiYD7LgtqdI"
      }
    },
    {
      "cell_type": "markdown",
      "source": [
        "Channel Link: https://www.youtube.com/playlist?list=PLu0W_9lII9agwh1XjRt242xIpHhPT2llg"
      ],
      "metadata": {
        "id": "6syJVeEcTRY7"
      }
    },
    {
      "cell_type": "markdown",
      "source": [
        "# KeyBoard Shortcuts"
      ],
      "metadata": {
        "id": "dHu_Ni5cBVxu"
      }
    },
    {
      "cell_type": "markdown",
      "source": [
        "\n",
        "Ctrl+/ : For commenting/uncommenting multiple lines simultaneoulsy.\n",
        "\n",
        "Alt+ downkey to move a code snippet downard  (line wise)\n",
        "\n",
        "Alt+Shift : Select the line/variable\n",
        "\n",
        "Then by Alt being selected, select all the other variables and now you can easily realign all of them in a single click. (video8:3:50)\n"
      ],
      "metadata": {
        "id": "Z1YxN9fuBZOP"
      }
    },
    {
      "cell_type": "markdown",
      "source": [
        "## Tips"
      ],
      "metadata": {
        "id": "j8HIKjfW2-Oz"
      }
    },
    {
      "cell_type": "markdown",
      "source": [
        "1. Never make a code file with the name of a Python keyword.\n",
        "If you do so e.g 'if.py' is your own file... python will keep refering to this file as if instead of its own if's functionality and that will raise an error."
      ],
      "metadata": {
        "id": "gyZZ3xSQ2_eJ"
      }
    },
    {
      "cell_type": "markdown",
      "source": [
        "# Day1: Introduction & Features\n"
      ],
      "metadata": {
        "id": "_ldG3-ekTCTD"
      }
    },
    {
      "cell_type": "markdown",
      "source": [
        "**What is Python**\n",
        "*   Dynamically typed, general purpose programming language\n",
        "*   Supports Object-oriented programming\n",
        "\n",
        "**Features of Python**\n",
        "*   Platform Independent- can be switched from Windows to Linux and vice versa\n",
        "*   Fairly easy to write and understand\n",
        "*   Open Source Programming language\n",
        "*   Best language and community support, Ready-made packages available.\n",
        "*   Most used for ML and AI aaplications.\n",
        "\n",
        "**REPL** : Read-Evaluate-Print-Loop\n",
        "\n"
      ],
      "metadata": {
        "id": "ZIV_eI1ATXxN"
      }
    },
    {
      "cell_type": "code",
      "source": [
        "#The Print Statement\n",
        "print(\"I am Nida\")"
      ],
      "metadata": {
        "colab": {
          "base_uri": "https://localhost:8080/"
        },
        "id": "JUGIcI9lWuS4",
        "outputId": "1b464cea-f2cf-4170-b6dd-a9d13066599a"
      },
      "execution_count": 1,
      "outputs": [
        {
          "output_type": "stream",
          "name": "stdout",
          "text": [
            "I am Nida\n"
          ]
        }
      ]
    },
    {
      "cell_type": "markdown",
      "source": [
        "# Day 2: Power of Python"
      ],
      "metadata": {
        "id": "A2ml_p0KXk8n"
      }
    },
    {
      "cell_type": "markdown",
      "source": [
        "**Use Cases**\n",
        "*   Jarvis-AI assistant (voice-based)\n",
        "*   Face detection in Images\n",
        "*   Games"
      ],
      "metadata": {
        "id": "oe6eTpxXXs8z"
      }
    },
    {
      "cell_type": "markdown",
      "source": [
        "# Lessons"
      ],
      "metadata": {
        "id": "0Qykylpw43vZ"
      }
    },
    {
      "cell_type": "markdown",
      "source": [
        "1. Watch again and again. Do whatever it takes to learn.\n",
        "Doesnt matter how many times who wrote a single day program."
      ],
      "metadata": {
        "id": "Hrk23goA45aS"
      }
    },
    {
      "cell_type": "markdown",
      "source": [
        "#Day3 : Modules and pip"
      ],
      "metadata": {
        "id": "rCPrTFnHUD6-"
      }
    },
    {
      "cell_type": "code",
      "source": [
        "pip install pandas #Example\n",
        "\n",
        "#after installation we can import pandas or any other module\n",
        "\n",
        "import pandas as pd\n",
        "\n",
        "#modules need dependencies to be installed as well in order to run successfully"
      ],
      "metadata": {
        "id": "sAfTWqOiUIIu"
      },
      "execution_count": null,
      "outputs": []
    },
    {
      "cell_type": "code",
      "source": [],
      "metadata": {
        "id": "LXd9ptzPGiGV"
      },
      "execution_count": null,
      "outputs": []
    },
    {
      "cell_type": "markdown",
      "source": [
        "#Extracting video names from a youtube playlist"
      ],
      "metadata": {
        "id": "9_zYX4lNHJPz"
      }
    },
    {
      "cell_type": "code",
      "source": [
        "pip install youtube-dl"
      ],
      "metadata": {
        "colab": {
          "base_uri": "https://localhost:8080/"
        },
        "id": "JLLQYz-nI2q6",
        "outputId": "a05fe1c9-1c5d-4fe3-9535-f0fbfa419f5c"
      },
      "execution_count": null,
      "outputs": [
        {
          "output_type": "stream",
          "name": "stdout",
          "text": [
            "Collecting youtube-dl\n",
            "  Downloading youtube_dl-2021.12.17-py2.py3-none-any.whl.metadata (1.5 kB)\n",
            "Downloading youtube_dl-2021.12.17-py2.py3-none-any.whl (1.9 MB)\n",
            "\u001b[2K   \u001b[90m━━━━━━━━━━━━━━━━━━━━━━━━━━━━━━━━━━━━━━━━\u001b[0m \u001b[32m1.9/1.9 MB\u001b[0m \u001b[31m14.8 MB/s\u001b[0m eta \u001b[36m0:00:00\u001b[0m\n",
            "\u001b[?25hInstalling collected packages: youtube-dl\n",
            "Successfully installed youtube-dl-2021.12.17\n"
          ]
        }
      ]
    },
    {
      "cell_type": "code",
      "source": [
        "import youtube_dl\n",
        "\n",
        "def get_playlist_video_titles(playlist_url):\n",
        "    video_titles = []\n",
        "\n",
        "    # YouTubeDL options\n",
        "    ydl_opts = {\n",
        "        'quiet': True,\n",
        "        'extract_flat': True,\n",
        "        'force_generic_extractor': True,\n",
        "        'quiet': False,\n",
        "        'source_address': '0.0.0.0',  # workaround for ipv6 issue on some systems\n",
        "        'postprocessors': [{\n",
        "            'key': 'FFmpegMetadata',\n",
        "        }],\n",
        "    }\n",
        "\n",
        "    with youtube_dl.YoutubeDL(ydl_opts) as ydl:\n",
        "        try:\n",
        "            # Download playlist info\n",
        "            playlist_info = ydl.extract_info(playlist_url, download=False)\n",
        "\n",
        "            # Extract video titles from playlist\n",
        "            for entry in playlist_info['entries']:\n",
        "                video_titles.append(entry['title'])\n",
        "\n",
        "        except youtube_dl.DownloadError as e:\n",
        "            print(f\"Error: {e}\")\n",
        "\n",
        "    return video_titles\n",
        "\n",
        "# Example usage\n",
        "playlist_url = input(\"Enter YouTube playlist URL: \")\n",
        "titles = get_playlist_video_titles(playlist_url)\n",
        "\n",
        "if titles:\n",
        "    print(\"Video Titles:\")\n",
        "    for title in titles:\n",
        "        print(title)\n",
        "else:\n",
        "    print(\"No titles found.\")\n",
        "\n",
        "\n",
        "#playlist url for our case: https://www.youtube.com/playlist?list=PLu0W_9lII9agwh1XjRt242xIpHhPT2llg"
      ],
      "metadata": {
        "colab": {
          "base_uri": "https://localhost:8080/"
        },
        "id": "Ol78BsSzHuIj",
        "outputId": "85651fd9-c6fe-4194-8740-8df9bd6444f7"
      },
      "execution_count": null,
      "outputs": [
        {
          "output_type": "stream",
          "name": "stdout",
          "text": [
            "Enter YouTube playlist URL: https://youtube.com/playlist?list=PLgZaQ3qgjgrGU9IuVczUO_AlVK5NLqK1a&si=9QwheSjWAbGM-ofI\n",
            "[youtube:tab] PLgZaQ3qgjgrGU9IuVczUO_AlVK5NLqK1a: Downloading webpage\n",
            "[download] Downloading playlist: The 100-Day Proven Sales Letter Breakdown Challenge\n",
            "[youtube:tab] Downloading page 1\n",
            "[youtube:tab] playlist The 100-Day Proven Sales Letter Breakdown Challenge: Downloading 103 videos\n",
            "[download] Downloading video 1 of 103\n",
            "[download] Downloading video 2 of 103\n",
            "[download] Downloading video 3 of 103\n",
            "[download] Downloading video 4 of 103\n",
            "[download] Downloading video 5 of 103\n",
            "[download] Downloading video 6 of 103\n",
            "[download] Downloading video 7 of 103\n",
            "[download] Downloading video 8 of 103\n",
            "[download] Downloading video 9 of 103\n",
            "[download] Downloading video 10 of 103\n",
            "[download] Downloading video 11 of 103\n",
            "[download] Downloading video 12 of 103\n",
            "[download] Downloading video 13 of 103\n",
            "[download] Downloading video 14 of 103\n",
            "[download] Downloading video 15 of 103\n",
            "[download] Downloading video 16 of 103\n",
            "[download] Downloading video 17 of 103\n",
            "[download] Downloading video 18 of 103\n",
            "[download] Downloading video 19 of 103\n",
            "[download] Downloading video 20 of 103\n",
            "[download] Downloading video 21 of 103\n",
            "[download] Downloading video 22 of 103\n",
            "[download] Downloading video 23 of 103\n",
            "[download] Downloading video 24 of 103\n",
            "[download] Downloading video 25 of 103\n",
            "[download] Downloading video 26 of 103\n",
            "[download] Downloading video 27 of 103\n",
            "[download] Downloading video 28 of 103\n",
            "[download] Downloading video 29 of 103\n",
            "[download] Downloading video 30 of 103\n",
            "[download] Downloading video 31 of 103\n",
            "[download] Downloading video 32 of 103\n",
            "[download] Downloading video 33 of 103\n",
            "[download] Downloading video 34 of 103\n",
            "[download] Downloading video 35 of 103\n",
            "[download] Downloading video 36 of 103\n",
            "[download] Downloading video 37 of 103\n",
            "[download] Downloading video 38 of 103\n",
            "[download] Downloading video 39 of 103\n",
            "[download] Downloading video 40 of 103\n",
            "[download] Downloading video 41 of 103\n",
            "[download] Downloading video 42 of 103\n",
            "[download] Downloading video 43 of 103\n",
            "[download] Downloading video 44 of 103\n",
            "[download] Downloading video 45 of 103\n",
            "[download] Downloading video 46 of 103\n",
            "[download] Downloading video 47 of 103\n",
            "[download] Downloading video 48 of 103\n",
            "[download] Downloading video 49 of 103\n",
            "[download] Downloading video 50 of 103\n",
            "[download] Downloading video 51 of 103\n",
            "[download] Downloading video 52 of 103\n",
            "[download] Downloading video 53 of 103\n",
            "[download] Downloading video 54 of 103\n",
            "[download] Downloading video 55 of 103\n",
            "[download] Downloading video 56 of 103\n",
            "[download] Downloading video 57 of 103\n",
            "[download] Downloading video 58 of 103\n",
            "[download] Downloading video 59 of 103\n",
            "[download] Downloading video 60 of 103\n",
            "[download] Downloading video 61 of 103\n",
            "[download] Downloading video 62 of 103\n",
            "[download] Downloading video 63 of 103\n",
            "[download] Downloading video 64 of 103\n",
            "[download] Downloading video 65 of 103\n",
            "[download] Downloading video 66 of 103\n",
            "[download] Downloading video 67 of 103\n",
            "[download] Downloading video 68 of 103\n",
            "[download] Downloading video 69 of 103\n",
            "[download] Downloading video 70 of 103\n",
            "[download] Downloading video 71 of 103\n",
            "[download] Downloading video 72 of 103\n",
            "[download] Downloading video 73 of 103\n",
            "[download] Downloading video 74 of 103\n",
            "[download] Downloading video 75 of 103\n",
            "[download] Downloading video 76 of 103\n",
            "[download] Downloading video 77 of 103\n",
            "[download] Downloading video 78 of 103\n",
            "[download] Downloading video 79 of 103\n",
            "[download] Downloading video 80 of 103\n",
            "[download] Downloading video 81 of 103\n",
            "[download] Downloading video 82 of 103\n",
            "[download] Downloading video 83 of 103\n",
            "[download] Downloading video 84 of 103\n",
            "[download] Downloading video 85 of 103\n",
            "[download] Downloading video 86 of 103\n",
            "[download] Downloading video 87 of 103\n",
            "[download] Downloading video 88 of 103\n",
            "[download] Downloading video 89 of 103\n",
            "[download] Downloading video 90 of 103\n",
            "[download] Downloading video 91 of 103\n",
            "[download] Downloading video 92 of 103\n",
            "[download] Downloading video 93 of 103\n",
            "[download] Downloading video 94 of 103\n",
            "[download] Downloading video 95 of 103\n",
            "[download] Downloading video 96 of 103\n",
            "[download] Downloading video 97 of 103\n",
            "[download] Downloading video 98 of 103\n",
            "[download] Downloading video 99 of 103\n",
            "[download] Downloading video 100 of 103\n",
            "[download] Downloading video 101 of 103\n",
            "[download] Downloading video 102 of 103\n",
            "[download] Downloading video 103 of 103\n",
            "[download] Finished downloading playlist: The 100-Day Proven Sales Letter Breakdown Challenge\n",
            "Video Titles:\n",
            "My 100-Day Proven Sales Letter Breakdown Challenge - Trailer\n",
            "Gary Halbert | Social Security Sales Letter Breakdown (Day 1/100)\n",
            "Joe Sugarman | BluBlockers Sales Letter Breakdown (Day 2/100)\n",
            "Gary Bencivenga | \"Shoestring Business\" Sales Letter Breakdown (Day 3/100)\n",
            "Frank Schultz | \"Fluke of Nature\" Ruby Red Grapefruit - Ad Breakdown (4/100)\n",
            "Victor Schwab | \"100 Good Advertising HEADLINES\" Ad Breakdown (5/100)\n",
            "Bill Bonner - Agora Financial | \"International Living\" Sales Letter Breakdown (6/100)\n",
            "Eugene Schwartz | \"The Courage to Earn $500k a Year\" Sales Letter Breakdown (Proven Ads 7/100)\n",
            "Gary Bencivenga | \"Kurobuta Ham\" Sales Letter Breakdown (8/100)\n",
            "Poo-Pourri Commercial | Copywriting Script and Video Ad Breakdown (9/100)\n",
            "Clayton Makepeace | 21 Bullet Secrets that IGNITE the Selling Power of Your Copy (10/100)\n",
            "Gary Bencivenga | Famous \"Olive Oil\" Sales Letter Breakdown (11/100)\n",
            "Eugene Schwartz | \"Boardroom Reports\" Sales Letter Breakdown (12/100)\n",
            "Mel Martin | Boardroom's \"Book of Secrets\" Sales Letter Breakdown (13/100)\n",
            "Parris Lampropoulos | \"Tax Hotline\" Sales Letter Breakdown (Proven Ads 14/100)\n",
            "How to Write Amazing FASCINATIONS | Mel Martin Sales Letter Breakdown (15/100)\n",
            "Gary Halbert | Famous \"Dollar Bill\" Sales Letter Breakdown (16/100)\n",
            "Gary Bencivenga & Perry Marshall | How to Do OFFER LEADS Right (17/100)\n",
            "Gary Bencivenga & Victor Schwab | How to Do PROMISE LEADS Right (18/100)\n",
            "Mel Martin | The Secret to \"Problem-Solution\" Leads | Sales Letter Breakdown (19/100)\n",
            "Motley Fool Sales Letter Breakdown | \"Scarcity Lead\" Example (20/100)\n",
            "Eric Betuel (Boardroom) | \"Big Black Book\" Sales Letter Breakdown (Proven Ads 21/100)\n",
            "The Secret to \"Secret Leads\" | Motley Fool Advertorial Breakdown (22/100)\n",
            "Agora Financial | The \"Stockman Letter\" Sales Page Breakdown pt1 (23/100)\n",
            "Agora Financial | \"The Stockman Letter\" Sales Letter Breakdown part 2 (Proven Ads 24/100)\n",
            "$2B \"Wall Street Journal\" Sales Letter - Martin Conroy - CRITIQUED (Proven Ads 25/100)\n",
            "Gary Halbert | Famous \"Coat of Arms\" Sales Letter Breakdown (26/100)\n",
            "David Ogilvy | Famous \"Rolls Royce\" Ad Copywriting Breakdown (27/100)\n",
            "Gary Bencivenga | \"Copywriting Agency\" Sales Letter Breakdown (Proven Ads 28/100)\n",
            "Gary Halbert | How to Get the HOTTEST, Funniest Women by Writing an Ad About YOURSELF (29/100)\n",
            "John Caples | \"They Laughed When I Sat Down At the Piano\" Sales Letter Breakdown (Proven Ads 30/100)\n",
            "Gary Halbert | \"Get What the US Government Owes You\" Sales Letter Breakdown (Proven Ads 31/100)\n",
            "High-Converting Email Subject Lines Analyzed & Critiqued (32/100)\n",
            "David Ogilvy | Famous \"Man in the Hathaway Shirt\" Sales Letter Breakdown (Proven Ads 33/100)\n",
            "Gary Halbert | \"TOVA Cream\" Sales Letter Breakdown (Proven Ads 34/100)\n",
            "Gary Halbert | Famous “Tova Perfume” Sales Letter BREAKDOWN (Proven Ads 35/100)\n",
            "Ramit Sethi | \"Delegate and Done\" Sales Letter Copywriting BREAKDOWN (Proven Ads 36/100)\n",
            "Eugene Schwartz | \"Burn Disease Out of Your Body\" Sales Letter Breakdown (Proven Ads 37/100\n",
            "Gary Bencivenga | \"Health Confidential\" Sales Letter Breakdown (Proven Ads 38/100)\n",
            "Aharon Grundman | \"Wall St. Couch Potato Wizards\"  Sales Letter Lead Breakdown (Proven Ads 39/100)\n",
            "Billy Mays | Famous \"Oxi Clean\" Infomercial Video Script Breakdown (Proven Ads 40/100)\n",
            "John Carlton | \"55-Year Old Golfer\" Ad Breakdown - Part 1 (Proven Ads 41/100)\n",
            "John Carlton | \"55-Year Old Golfer\" Ad Breakdown - Part 2 (Proven Ads 42/100)\n",
            "John Carlton | \"Free Gun\" Sales Letter Breakdown (Proven Ads 43/100)\n",
            "John Carlton | \"ONE-LEGGED Golfer\" Sales Letter Breakdown (Proven Ads 44/100)\n",
            "Gary Halbert | \"Better Sex\" Sales Letter Breakdown (Proven Ads 45/100)\n",
            "Paleo Hacks | \"Paleo Eats\" Sales Letter Breakdown (Proven Ads 46/100)\n",
            "Gary Bencivenga | \"Lies Lies Lies\" Sales Letter Breakdown (Proven Ads 47/100)\n",
            "David Deutsch | \"Encyclopedia of Estate Planning\" Sales Letter Breakdown (Proven Ads 48/100)\n",
            "Jim Rutz | \"Read This or Die\" Sales Letter Breakdown (Proven Ads 49/100)\n",
            "David Deutsch | \"Super Healing Unlimited\" Sales Letter Breakdown (Proven Ads 50/100)\n",
            "Victor Schwab | \"A Fool Idea\" Sales Letter Breakdown (Proven Ads 51/100)\n",
            "\"Do You Make These Mistakes in English?\" Sales Letter Breakdown | by Maxwell Sackheim (52/100)\n",
            "Jim Rutz | \"Tax Hotline\" Sales Letter Breakdown (Proven Ads 53/100)\n",
            "Chris Haddad | \"Language of LUST\" Sales Letter Breakdown - PART 1 (Proven Ads 54/100)\n",
            "Chris Haddad | \"Language of LUST\" Sales Letter Breakdown - PART 2 (Proven Ads 55/100)\n",
            "Ramit Sethi | \"How to Talk to Anybody\" Sales Page BREAKDOWN (Proven Ads 56/100)\n",
            "50 Proven Facebook Ads Analyzed - PART 1 | Swipe File compiled by Matt Dye (Proven Ads 57/100)\n",
            "David Deutsch | \"Gin-Soaked Raisins / Healing Remedies\" Sales Letter Breakdown (Proven Ads 58/100)\n",
            "John Carlton | \"Naked Girls, Pudgy Guys & Badass Bikers\" Sales Letter Breakdown (Proven Ads 59/100)\n",
            "Clayton Makepeace | \"23 Cent Life Saver\" Sales Letter Breakdown (Proven Ads 60/100)\n",
            "Clayton Makepeace | \"Invest Without Fear\" Sales Letter Breakdown (Proven Ads 61/100)\n",
            "Clayton Makepeace | \"Sweet Indulgences\" Sales Letter Breakdown (Proven Ads 62/100)\n",
            "Clayton Makepeace | The Original \"Health & Healing\" Sales Letter Breakdown (Proven Ads 63/100)\n",
            "50 Proven Facebook Ads Analyzed - PART 2 | Swipe File compiled by Matt Dye (Proven Ads 64/100)\n",
            "Gary Halbert | \"Desperate Nerd From Ohio\" Sales Letter Breakdown (Proven 65/100)\n",
            "BioTrust | \"Ageless Turmeric\" Sales Email Breakdown (Proven Ads 66/100)\n",
            "Mike Palmer | \"End of America\" Sales Letter Breakdown - PART 1 (Proven Ads 67/100)\n",
            "Mike Palmer | \"End of America\" Sales Letter Breakdown - PART 2 (Proven Ads 68/100)\n",
            "David Ogilvy | Zippo Lighter Ad Breakdown (Proven Ads 69/100)\n",
            "John Caples | “Quit Work Someday” Sales Letter Breakdown (Proven Ads 70/100)\n",
            "Kim Krause Schwalm | \"Tax Hotline\" (Boardroom) Sales Letter Breakdown (Proven Ads 71/100)\n",
            "Claude Hopkins | \"Van Camp's Milk\" Sales Letter Breakdown (Proven Ads 72/100)\n",
            "Claude Hopkins | “Pepsodent 10 Day Test” Sales Letter Breakdown (Proven Ads 73/100)\n",
            "Stephen Moulis @ Stansberry | \"Silver Secret\" Sales Letter Breakdown (Proven Ads 74/100)\n",
            "40 Kick-Ass Headline Ideas to Kickstart Your Promotion (Proven Ads 75/100)\n",
            "Evaldo Albuquerque | \"Eccentric Millionaire\" / Agora Financial Sales Letter (Proven Ads 76/100)\n",
            "The Secret Behind Agora Financial's Brilliant Advertorials (Proven Ads 77/100)\n",
            "Parris Lampropoulos | \"How Doctors Stay Well\" Sales Letter Breakdown (Proven Ads 78/100)\n",
            "Gary Halbert | \"Keep Your Money from Being Murdered\" Sales Letter Breakdown (Proven Ads 79/100)\n",
            "Carline Anglade-Cole | \"What Did It?\" Sales Letter Breakdown (Proven Ads 80/100)\n",
            "Taylor Welch / Traffic & Funnels | \"The Productivity Masterclass\" Breakdown (Proven Ads 81/100)\n",
            "Proven Email Breakdowns | Ian Stanley - Chris Orzechowski - Sarah Meuller (Proven Ads 82/100)\n",
            "Merrill Lynch | \"Personal Invitation\" Sales Letter Breakdown (Proven Ads 83/100)\n",
            "Arthur Johnson | \"Had Enough?...\" Sales Letter Breakdown (Proven Ads 84/100)\n",
            "Agora Financial | \"Cryptocurrency Wars\" Sales Letter Breakdown (Proven Ads 85/100)\n",
            "Patriot Health Alliance | \"Patriot Power Greens\" Sales Letter Breakdown (Proven Ads 86/100)\n",
            "The Oxford Club / Agora Financial | \"Single Stock Retirement\" Proven Ads (87/100)\n",
            "Craig Clemens | \"Cat Food Revealed\" Sales Letter Breakdown (Proven Ads 88/100)\n",
            "John Carlton | \"What Women Secretly WISH You Knew About SEX\" (Proven Ads 89/100)\n",
            "Breaking Down a Collection of Random Timeless Ads that CRUSHED It (Proven Ads 90/100)\n",
            "Bill Jayme | \"Psychology Today\" Sales Letter Breakdown (Proven Ads 91/100)\n",
            "Hank Burnett | \"The Admiral Byrd Expedition Letter\" Breakdown (Proven Ads 92/100)\n",
            "Gary Bencivenga | \"64 Toughest Interview Questions\" Sales Letter Breakdown (Proven Ads 93/100)\n",
            "Jim Rutz | \"Champagne Cherry & Limo Larry\" Sales Letter Breakdown (Proven Ads 94/100)\n",
            "John Carlton | \"Are You Mad at Me?\" Sales Letter Breakdown (Proven Ads 95  /100)\n",
            "Clayton Makepeace | \"Shameless Two-Faced SOBs\" Sales Letter Breakdown (Proven Ads 96/100)\n",
            "Nerd Fitness | \"Coaching Call Funnel\" Sales Page Breakdown (Proven Ads 97/100)\n",
            "Stefan Georgi | \"Stem Cell Restore\" Sales Letter Breakdown - PART 1 (Proven Ads 98/100)\n",
            "Stefan Georgi | \"Stem Cell Restore\" Sales Letter Breakdown - PART 2 (Proven Ads 99/100)\n",
            "Gary Halbert | \"Larry's Weight Loss Secret\" Sales Letter Breakdown (Proven Ads 100/100)\n",
            "Derek Johanson | \"CopyHour\" Sales Page Breakdown (Proven Ads 101)\n",
            "Russell Brunson | \"NFT Offer\" Sales Letter Breakdown (Proven Ads #102)\n"
          ]
        }
      ]
    },
    {
      "cell_type": "code",
      "source": [
        "print(type(titles))"
      ],
      "metadata": {
        "id": "EvBoYDP7IpPY",
        "colab": {
          "base_uri": "https://localhost:8080/"
        },
        "outputId": "acc935fe-f861-4139-f885-97b64fa21ea2"
      },
      "execution_count": null,
      "outputs": [
        {
          "output_type": "stream",
          "name": "stdout",
          "text": [
            "<class 'list'>\n"
          ]
        }
      ]
    },
    {
      "cell_type": "code",
      "source": [
        "import pandas as pd\n",
        "\n",
        "df=pd.DataFrame(titles, columns = [ 'file_names'])"
      ],
      "metadata": {
        "id": "fnmm7lEuIv9r"
      },
      "execution_count": null,
      "outputs": []
    },
    {
      "cell_type": "code",
      "source": [
        "df"
      ],
      "metadata": {
        "id": "waGcQ97qJUYr",
        "colab": {
          "base_uri": "https://localhost:8080/",
          "height": 424
        },
        "outputId": "1d491337-c8e8-4b84-cf23-133bf9096e78"
      },
      "execution_count": null,
      "outputs": [
        {
          "output_type": "execute_result",
          "data": {
            "text/plain": [
              "                                            file_names\n",
              "1    Gary Halbert | Social Security Sales Letter Br...\n",
              "2    Joe Sugarman | BluBlockers Sales Letter Breakd...\n",
              "3    Gary Bencivenga | \"Shoestring Business\" Sales ...\n",
              "4    Frank Schultz | \"Fluke of Nature\" Ruby Red Gra...\n",
              "5    Victor Schwab | \"100 Good Advertising HEADLINE...\n",
              "..                                                 ...\n",
              "98   Stefan Georgi | \"Stem Cell Restore\" Sales Lett...\n",
              "99   Stefan Georgi | \"Stem Cell Restore\" Sales Lett...\n",
              "100  Gary Halbert | \"Larry's Weight Loss Secret\" Sa...\n",
              "101  Derek Johanson | \"CopyHour\" Sales Page Breakdo...\n",
              "102  Russell Brunson | \"NFT Offer\" Sales Letter Bre...\n",
              "\n",
              "[102 rows x 1 columns]"
            ],
            "text/html": [
              "\n",
              "  <div id=\"df-c26077ab-896b-4fb6-a7d5-4bbb1b1600de\" class=\"colab-df-container\">\n",
              "    <div>\n",
              "<style scoped>\n",
              "    .dataframe tbody tr th:only-of-type {\n",
              "        vertical-align: middle;\n",
              "    }\n",
              "\n",
              "    .dataframe tbody tr th {\n",
              "        vertical-align: top;\n",
              "    }\n",
              "\n",
              "    .dataframe thead th {\n",
              "        text-align: right;\n",
              "    }\n",
              "</style>\n",
              "<table border=\"1\" class=\"dataframe\">\n",
              "  <thead>\n",
              "    <tr style=\"text-align: right;\">\n",
              "      <th></th>\n",
              "      <th>file_names</th>\n",
              "    </tr>\n",
              "  </thead>\n",
              "  <tbody>\n",
              "    <tr>\n",
              "      <th>1</th>\n",
              "      <td>Gary Halbert | Social Security Sales Letter Br...</td>\n",
              "    </tr>\n",
              "    <tr>\n",
              "      <th>2</th>\n",
              "      <td>Joe Sugarman | BluBlockers Sales Letter Breakd...</td>\n",
              "    </tr>\n",
              "    <tr>\n",
              "      <th>3</th>\n",
              "      <td>Gary Bencivenga | \"Shoestring Business\" Sales ...</td>\n",
              "    </tr>\n",
              "    <tr>\n",
              "      <th>4</th>\n",
              "      <td>Frank Schultz | \"Fluke of Nature\" Ruby Red Gra...</td>\n",
              "    </tr>\n",
              "    <tr>\n",
              "      <th>5</th>\n",
              "      <td>Victor Schwab | \"100 Good Advertising HEADLINE...</td>\n",
              "    </tr>\n",
              "    <tr>\n",
              "      <th>...</th>\n",
              "      <td>...</td>\n",
              "    </tr>\n",
              "    <tr>\n",
              "      <th>98</th>\n",
              "      <td>Stefan Georgi | \"Stem Cell Restore\" Sales Lett...</td>\n",
              "    </tr>\n",
              "    <tr>\n",
              "      <th>99</th>\n",
              "      <td>Stefan Georgi | \"Stem Cell Restore\" Sales Lett...</td>\n",
              "    </tr>\n",
              "    <tr>\n",
              "      <th>100</th>\n",
              "      <td>Gary Halbert | \"Larry's Weight Loss Secret\" Sa...</td>\n",
              "    </tr>\n",
              "    <tr>\n",
              "      <th>101</th>\n",
              "      <td>Derek Johanson | \"CopyHour\" Sales Page Breakdo...</td>\n",
              "    </tr>\n",
              "    <tr>\n",
              "      <th>102</th>\n",
              "      <td>Russell Brunson | \"NFT Offer\" Sales Letter Bre...</td>\n",
              "    </tr>\n",
              "  </tbody>\n",
              "</table>\n",
              "<p>102 rows × 1 columns</p>\n",
              "</div>\n",
              "    <div class=\"colab-df-buttons\">\n",
              "\n",
              "  <div class=\"colab-df-container\">\n",
              "    <button class=\"colab-df-convert\" onclick=\"convertToInteractive('df-c26077ab-896b-4fb6-a7d5-4bbb1b1600de')\"\n",
              "            title=\"Convert this dataframe to an interactive table.\"\n",
              "            style=\"display:none;\">\n",
              "\n",
              "  <svg xmlns=\"http://www.w3.org/2000/svg\" height=\"24px\" viewBox=\"0 -960 960 960\">\n",
              "    <path d=\"M120-120v-720h720v720H120Zm60-500h600v-160H180v160Zm220 220h160v-160H400v160Zm0 220h160v-160H400v160ZM180-400h160v-160H180v160Zm440 0h160v-160H620v160ZM180-180h160v-160H180v160Zm440 0h160v-160H620v160Z\"/>\n",
              "  </svg>\n",
              "    </button>\n",
              "\n",
              "  <style>\n",
              "    .colab-df-container {\n",
              "      display:flex;\n",
              "      gap: 12px;\n",
              "    }\n",
              "\n",
              "    .colab-df-convert {\n",
              "      background-color: #E8F0FE;\n",
              "      border: none;\n",
              "      border-radius: 50%;\n",
              "      cursor: pointer;\n",
              "      display: none;\n",
              "      fill: #1967D2;\n",
              "      height: 32px;\n",
              "      padding: 0 0 0 0;\n",
              "      width: 32px;\n",
              "    }\n",
              "\n",
              "    .colab-df-convert:hover {\n",
              "      background-color: #E2EBFA;\n",
              "      box-shadow: 0px 1px 2px rgba(60, 64, 67, 0.3), 0px 1px 3px 1px rgba(60, 64, 67, 0.15);\n",
              "      fill: #174EA6;\n",
              "    }\n",
              "\n",
              "    .colab-df-buttons div {\n",
              "      margin-bottom: 4px;\n",
              "    }\n",
              "\n",
              "    [theme=dark] .colab-df-convert {\n",
              "      background-color: #3B4455;\n",
              "      fill: #D2E3FC;\n",
              "    }\n",
              "\n",
              "    [theme=dark] .colab-df-convert:hover {\n",
              "      background-color: #434B5C;\n",
              "      box-shadow: 0px 1px 3px 1px rgba(0, 0, 0, 0.15);\n",
              "      filter: drop-shadow(0px 1px 2px rgba(0, 0, 0, 0.3));\n",
              "      fill: #FFFFFF;\n",
              "    }\n",
              "  </style>\n",
              "\n",
              "    <script>\n",
              "      const buttonEl =\n",
              "        document.querySelector('#df-c26077ab-896b-4fb6-a7d5-4bbb1b1600de button.colab-df-convert');\n",
              "      buttonEl.style.display =\n",
              "        google.colab.kernel.accessAllowed ? 'block' : 'none';\n",
              "\n",
              "      async function convertToInteractive(key) {\n",
              "        const element = document.querySelector('#df-c26077ab-896b-4fb6-a7d5-4bbb1b1600de');\n",
              "        const dataTable =\n",
              "          await google.colab.kernel.invokeFunction('convertToInteractive',\n",
              "                                                    [key], {});\n",
              "        if (!dataTable) return;\n",
              "\n",
              "        const docLinkHtml = 'Like what you see? Visit the ' +\n",
              "          '<a target=\"_blank\" href=https://colab.research.google.com/notebooks/data_table.ipynb>data table notebook</a>'\n",
              "          + ' to learn more about interactive tables.';\n",
              "        element.innerHTML = '';\n",
              "        dataTable['output_type'] = 'display_data';\n",
              "        await google.colab.output.renderOutput(dataTable, element);\n",
              "        const docLink = document.createElement('div');\n",
              "        docLink.innerHTML = docLinkHtml;\n",
              "        element.appendChild(docLink);\n",
              "      }\n",
              "    </script>\n",
              "  </div>\n",
              "\n",
              "\n",
              "<div id=\"df-420f6c2c-232a-45c5-8b50-4211732fb754\">\n",
              "  <button class=\"colab-df-quickchart\" onclick=\"quickchart('df-420f6c2c-232a-45c5-8b50-4211732fb754')\"\n",
              "            title=\"Suggest charts\"\n",
              "            style=\"display:none;\">\n",
              "\n",
              "<svg xmlns=\"http://www.w3.org/2000/svg\" height=\"24px\"viewBox=\"0 0 24 24\"\n",
              "     width=\"24px\">\n",
              "    <g>\n",
              "        <path d=\"M19 3H5c-1.1 0-2 .9-2 2v14c0 1.1.9 2 2 2h14c1.1 0 2-.9 2-2V5c0-1.1-.9-2-2-2zM9 17H7v-7h2v7zm4 0h-2V7h2v10zm4 0h-2v-4h2v4z\"/>\n",
              "    </g>\n",
              "</svg>\n",
              "  </button>\n",
              "\n",
              "<style>\n",
              "  .colab-df-quickchart {\n",
              "      --bg-color: #E8F0FE;\n",
              "      --fill-color: #1967D2;\n",
              "      --hover-bg-color: #E2EBFA;\n",
              "      --hover-fill-color: #174EA6;\n",
              "      --disabled-fill-color: #AAA;\n",
              "      --disabled-bg-color: #DDD;\n",
              "  }\n",
              "\n",
              "  [theme=dark] .colab-df-quickchart {\n",
              "      --bg-color: #3B4455;\n",
              "      --fill-color: #D2E3FC;\n",
              "      --hover-bg-color: #434B5C;\n",
              "      --hover-fill-color: #FFFFFF;\n",
              "      --disabled-bg-color: #3B4455;\n",
              "      --disabled-fill-color: #666;\n",
              "  }\n",
              "\n",
              "  .colab-df-quickchart {\n",
              "    background-color: var(--bg-color);\n",
              "    border: none;\n",
              "    border-radius: 50%;\n",
              "    cursor: pointer;\n",
              "    display: none;\n",
              "    fill: var(--fill-color);\n",
              "    height: 32px;\n",
              "    padding: 0;\n",
              "    width: 32px;\n",
              "  }\n",
              "\n",
              "  .colab-df-quickchart:hover {\n",
              "    background-color: var(--hover-bg-color);\n",
              "    box-shadow: 0 1px 2px rgba(60, 64, 67, 0.3), 0 1px 3px 1px rgba(60, 64, 67, 0.15);\n",
              "    fill: var(--button-hover-fill-color);\n",
              "  }\n",
              "\n",
              "  .colab-df-quickchart-complete:disabled,\n",
              "  .colab-df-quickchart-complete:disabled:hover {\n",
              "    background-color: var(--disabled-bg-color);\n",
              "    fill: var(--disabled-fill-color);\n",
              "    box-shadow: none;\n",
              "  }\n",
              "\n",
              "  .colab-df-spinner {\n",
              "    border: 2px solid var(--fill-color);\n",
              "    border-color: transparent;\n",
              "    border-bottom-color: var(--fill-color);\n",
              "    animation:\n",
              "      spin 1s steps(1) infinite;\n",
              "  }\n",
              "\n",
              "  @keyframes spin {\n",
              "    0% {\n",
              "      border-color: transparent;\n",
              "      border-bottom-color: var(--fill-color);\n",
              "      border-left-color: var(--fill-color);\n",
              "    }\n",
              "    20% {\n",
              "      border-color: transparent;\n",
              "      border-left-color: var(--fill-color);\n",
              "      border-top-color: var(--fill-color);\n",
              "    }\n",
              "    30% {\n",
              "      border-color: transparent;\n",
              "      border-left-color: var(--fill-color);\n",
              "      border-top-color: var(--fill-color);\n",
              "      border-right-color: var(--fill-color);\n",
              "    }\n",
              "    40% {\n",
              "      border-color: transparent;\n",
              "      border-right-color: var(--fill-color);\n",
              "      border-top-color: var(--fill-color);\n",
              "    }\n",
              "    60% {\n",
              "      border-color: transparent;\n",
              "      border-right-color: var(--fill-color);\n",
              "    }\n",
              "    80% {\n",
              "      border-color: transparent;\n",
              "      border-right-color: var(--fill-color);\n",
              "      border-bottom-color: var(--fill-color);\n",
              "    }\n",
              "    90% {\n",
              "      border-color: transparent;\n",
              "      border-bottom-color: var(--fill-color);\n",
              "    }\n",
              "  }\n",
              "</style>\n",
              "\n",
              "  <script>\n",
              "    async function quickchart(key) {\n",
              "      const quickchartButtonEl =\n",
              "        document.querySelector('#' + key + ' button');\n",
              "      quickchartButtonEl.disabled = true;  // To prevent multiple clicks.\n",
              "      quickchartButtonEl.classList.add('colab-df-spinner');\n",
              "      try {\n",
              "        const charts = await google.colab.kernel.invokeFunction(\n",
              "            'suggestCharts', [key], {});\n",
              "      } catch (error) {\n",
              "        console.error('Error during call to suggestCharts:', error);\n",
              "      }\n",
              "      quickchartButtonEl.classList.remove('colab-df-spinner');\n",
              "      quickchartButtonEl.classList.add('colab-df-quickchart-complete');\n",
              "    }\n",
              "    (() => {\n",
              "      let quickchartButtonEl =\n",
              "        document.querySelector('#df-420f6c2c-232a-45c5-8b50-4211732fb754 button');\n",
              "      quickchartButtonEl.style.display =\n",
              "        google.colab.kernel.accessAllowed ? 'block' : 'none';\n",
              "    })();\n",
              "  </script>\n",
              "</div>\n",
              "\n",
              "  <div id=\"id_c2098ca4-5ff2-4c0a-a31a-f3451439f749\">\n",
              "    <style>\n",
              "      .colab-df-generate {\n",
              "        background-color: #E8F0FE;\n",
              "        border: none;\n",
              "        border-radius: 50%;\n",
              "        cursor: pointer;\n",
              "        display: none;\n",
              "        fill: #1967D2;\n",
              "        height: 32px;\n",
              "        padding: 0 0 0 0;\n",
              "        width: 32px;\n",
              "      }\n",
              "\n",
              "      .colab-df-generate:hover {\n",
              "        background-color: #E2EBFA;\n",
              "        box-shadow: 0px 1px 2px rgba(60, 64, 67, 0.3), 0px 1px 3px 1px rgba(60, 64, 67, 0.15);\n",
              "        fill: #174EA6;\n",
              "      }\n",
              "\n",
              "      [theme=dark] .colab-df-generate {\n",
              "        background-color: #3B4455;\n",
              "        fill: #D2E3FC;\n",
              "      }\n",
              "\n",
              "      [theme=dark] .colab-df-generate:hover {\n",
              "        background-color: #434B5C;\n",
              "        box-shadow: 0px 1px 3px 1px rgba(0, 0, 0, 0.15);\n",
              "        filter: drop-shadow(0px 1px 2px rgba(0, 0, 0, 0.3));\n",
              "        fill: #FFFFFF;\n",
              "      }\n",
              "    </style>\n",
              "    <button class=\"colab-df-generate\" onclick=\"generateWithVariable('df')\"\n",
              "            title=\"Generate code using this dataframe.\"\n",
              "            style=\"display:none;\">\n",
              "\n",
              "  <svg xmlns=\"http://www.w3.org/2000/svg\" height=\"24px\"viewBox=\"0 0 24 24\"\n",
              "       width=\"24px\">\n",
              "    <path d=\"M7,19H8.4L18.45,9,17,7.55,7,17.6ZM5,21V16.75L18.45,3.32a2,2,0,0,1,2.83,0l1.4,1.43a1.91,1.91,0,0,1,.58,1.4,1.91,1.91,0,0,1-.58,1.4L9.25,21ZM18.45,9,17,7.55Zm-12,3A5.31,5.31,0,0,0,4.9,8.1,5.31,5.31,0,0,0,1,6.5,5.31,5.31,0,0,0,4.9,4.9,5.31,5.31,0,0,0,6.5,1,5.31,5.31,0,0,0,8.1,4.9,5.31,5.31,0,0,0,12,6.5,5.46,5.46,0,0,0,6.5,12Z\"/>\n",
              "  </svg>\n",
              "    </button>\n",
              "    <script>\n",
              "      (() => {\n",
              "      const buttonEl =\n",
              "        document.querySelector('#id_c2098ca4-5ff2-4c0a-a31a-f3451439f749 button.colab-df-generate');\n",
              "      buttonEl.style.display =\n",
              "        google.colab.kernel.accessAllowed ? 'block' : 'none';\n",
              "\n",
              "      buttonEl.onclick = () => {\n",
              "        google.colab.notebook.generateWithVariable('df');\n",
              "      }\n",
              "      })();\n",
              "    </script>\n",
              "  </div>\n",
              "\n",
              "    </div>\n",
              "  </div>\n"
            ],
            "application/vnd.google.colaboratory.intrinsic+json": {
              "type": "dataframe",
              "variable_name": "df",
              "summary": "{\n  \"name\": \"df\",\n  \"rows\": 102,\n  \"fields\": [\n    {\n      \"column\": \"file_names\",\n      \"properties\": {\n        \"dtype\": \"string\",\n        \"num_unique_values\": 102,\n        \"samples\": [\n          \"Gary Halbert | \\\"Get What the US Government Owes You\\\" Sales Letter Breakdown (Proven Ads 31/100)\",\n          \"Mike Palmer | \\\"End of America\\\" Sales Letter Breakdown - PART 2 (Proven Ads 68/100)\",\n          \"Clayton Makepeace | The Original \\\"Health & Healing\\\" Sales Letter Breakdown (Proven Ads 63/100)\"\n        ],\n        \"semantic_type\": \"\",\n        \"description\": \"\"\n      }\n    }\n  ]\n}"
            }
          },
          "metadata": {},
          "execution_count": 37
        }
      ]
    },
    {
      "cell_type": "code",
      "source": [
        "#If the first row is gibberish, use this to drop first row\n",
        "\n",
        "df=df.iloc[1:, :]\n",
        "df"
      ],
      "metadata": {
        "colab": {
          "base_uri": "https://localhost:8080/",
          "height": 424
        },
        "id": "JFodx0frOGOS",
        "outputId": "98f879a7-fc21-4465-a80c-2f2e82b54f05"
      },
      "execution_count": null,
      "outputs": [
        {
          "output_type": "execute_result",
          "data": {
            "text/plain": [
              "                                            file_names\n",
              "1    Gary Halbert | Social Security Sales Letter Br...\n",
              "2    Joe Sugarman | BluBlockers Sales Letter Breakd...\n",
              "3    Gary Bencivenga | \"Shoestring Business\" Sales ...\n",
              "4    Frank Schultz | \"Fluke of Nature\" Ruby Red Gra...\n",
              "5    Victor Schwab | \"100 Good Advertising HEADLINE...\n",
              "..                                                 ...\n",
              "98   Stefan Georgi | \"Stem Cell Restore\" Sales Lett...\n",
              "99   Stefan Georgi | \"Stem Cell Restore\" Sales Lett...\n",
              "100  Gary Halbert | \"Larry's Weight Loss Secret\" Sa...\n",
              "101  Derek Johanson | \"CopyHour\" Sales Page Breakdo...\n",
              "102  Russell Brunson | \"NFT Offer\" Sales Letter Bre...\n",
              "\n",
              "[102 rows x 1 columns]"
            ],
            "text/html": [
              "\n",
              "  <div id=\"df-203d9640-9034-44fb-bdb8-1f7747021ff0\" class=\"colab-df-container\">\n",
              "    <div>\n",
              "<style scoped>\n",
              "    .dataframe tbody tr th:only-of-type {\n",
              "        vertical-align: middle;\n",
              "    }\n",
              "\n",
              "    .dataframe tbody tr th {\n",
              "        vertical-align: top;\n",
              "    }\n",
              "\n",
              "    .dataframe thead th {\n",
              "        text-align: right;\n",
              "    }\n",
              "</style>\n",
              "<table border=\"1\" class=\"dataframe\">\n",
              "  <thead>\n",
              "    <tr style=\"text-align: right;\">\n",
              "      <th></th>\n",
              "      <th>file_names</th>\n",
              "    </tr>\n",
              "  </thead>\n",
              "  <tbody>\n",
              "    <tr>\n",
              "      <th>1</th>\n",
              "      <td>Gary Halbert | Social Security Sales Letter Br...</td>\n",
              "    </tr>\n",
              "    <tr>\n",
              "      <th>2</th>\n",
              "      <td>Joe Sugarman | BluBlockers Sales Letter Breakd...</td>\n",
              "    </tr>\n",
              "    <tr>\n",
              "      <th>3</th>\n",
              "      <td>Gary Bencivenga | \"Shoestring Business\" Sales ...</td>\n",
              "    </tr>\n",
              "    <tr>\n",
              "      <th>4</th>\n",
              "      <td>Frank Schultz | \"Fluke of Nature\" Ruby Red Gra...</td>\n",
              "    </tr>\n",
              "    <tr>\n",
              "      <th>5</th>\n",
              "      <td>Victor Schwab | \"100 Good Advertising HEADLINE...</td>\n",
              "    </tr>\n",
              "    <tr>\n",
              "      <th>...</th>\n",
              "      <td>...</td>\n",
              "    </tr>\n",
              "    <tr>\n",
              "      <th>98</th>\n",
              "      <td>Stefan Georgi | \"Stem Cell Restore\" Sales Lett...</td>\n",
              "    </tr>\n",
              "    <tr>\n",
              "      <th>99</th>\n",
              "      <td>Stefan Georgi | \"Stem Cell Restore\" Sales Lett...</td>\n",
              "    </tr>\n",
              "    <tr>\n",
              "      <th>100</th>\n",
              "      <td>Gary Halbert | \"Larry's Weight Loss Secret\" Sa...</td>\n",
              "    </tr>\n",
              "    <tr>\n",
              "      <th>101</th>\n",
              "      <td>Derek Johanson | \"CopyHour\" Sales Page Breakdo...</td>\n",
              "    </tr>\n",
              "    <tr>\n",
              "      <th>102</th>\n",
              "      <td>Russell Brunson | \"NFT Offer\" Sales Letter Bre...</td>\n",
              "    </tr>\n",
              "  </tbody>\n",
              "</table>\n",
              "<p>102 rows × 1 columns</p>\n",
              "</div>\n",
              "    <div class=\"colab-df-buttons\">\n",
              "\n",
              "  <div class=\"colab-df-container\">\n",
              "    <button class=\"colab-df-convert\" onclick=\"convertToInteractive('df-203d9640-9034-44fb-bdb8-1f7747021ff0')\"\n",
              "            title=\"Convert this dataframe to an interactive table.\"\n",
              "            style=\"display:none;\">\n",
              "\n",
              "  <svg xmlns=\"http://www.w3.org/2000/svg\" height=\"24px\" viewBox=\"0 -960 960 960\">\n",
              "    <path d=\"M120-120v-720h720v720H120Zm60-500h600v-160H180v160Zm220 220h160v-160H400v160Zm0 220h160v-160H400v160ZM180-400h160v-160H180v160Zm440 0h160v-160H620v160ZM180-180h160v-160H180v160Zm440 0h160v-160H620v160Z\"/>\n",
              "  </svg>\n",
              "    </button>\n",
              "\n",
              "  <style>\n",
              "    .colab-df-container {\n",
              "      display:flex;\n",
              "      gap: 12px;\n",
              "    }\n",
              "\n",
              "    .colab-df-convert {\n",
              "      background-color: #E8F0FE;\n",
              "      border: none;\n",
              "      border-radius: 50%;\n",
              "      cursor: pointer;\n",
              "      display: none;\n",
              "      fill: #1967D2;\n",
              "      height: 32px;\n",
              "      padding: 0 0 0 0;\n",
              "      width: 32px;\n",
              "    }\n",
              "\n",
              "    .colab-df-convert:hover {\n",
              "      background-color: #E2EBFA;\n",
              "      box-shadow: 0px 1px 2px rgba(60, 64, 67, 0.3), 0px 1px 3px 1px rgba(60, 64, 67, 0.15);\n",
              "      fill: #174EA6;\n",
              "    }\n",
              "\n",
              "    .colab-df-buttons div {\n",
              "      margin-bottom: 4px;\n",
              "    }\n",
              "\n",
              "    [theme=dark] .colab-df-convert {\n",
              "      background-color: #3B4455;\n",
              "      fill: #D2E3FC;\n",
              "    }\n",
              "\n",
              "    [theme=dark] .colab-df-convert:hover {\n",
              "      background-color: #434B5C;\n",
              "      box-shadow: 0px 1px 3px 1px rgba(0, 0, 0, 0.15);\n",
              "      filter: drop-shadow(0px 1px 2px rgba(0, 0, 0, 0.3));\n",
              "      fill: #FFFFFF;\n",
              "    }\n",
              "  </style>\n",
              "\n",
              "    <script>\n",
              "      const buttonEl =\n",
              "        document.querySelector('#df-203d9640-9034-44fb-bdb8-1f7747021ff0 button.colab-df-convert');\n",
              "      buttonEl.style.display =\n",
              "        google.colab.kernel.accessAllowed ? 'block' : 'none';\n",
              "\n",
              "      async function convertToInteractive(key) {\n",
              "        const element = document.querySelector('#df-203d9640-9034-44fb-bdb8-1f7747021ff0');\n",
              "        const dataTable =\n",
              "          await google.colab.kernel.invokeFunction('convertToInteractive',\n",
              "                                                    [key], {});\n",
              "        if (!dataTable) return;\n",
              "\n",
              "        const docLinkHtml = 'Like what you see? Visit the ' +\n",
              "          '<a target=\"_blank\" href=https://colab.research.google.com/notebooks/data_table.ipynb>data table notebook</a>'\n",
              "          + ' to learn more about interactive tables.';\n",
              "        element.innerHTML = '';\n",
              "        dataTable['output_type'] = 'display_data';\n",
              "        await google.colab.output.renderOutput(dataTable, element);\n",
              "        const docLink = document.createElement('div');\n",
              "        docLink.innerHTML = docLinkHtml;\n",
              "        element.appendChild(docLink);\n",
              "      }\n",
              "    </script>\n",
              "  </div>\n",
              "\n",
              "\n",
              "<div id=\"df-339a51f6-c0bf-4f3d-b666-bbd000cca9d5\">\n",
              "  <button class=\"colab-df-quickchart\" onclick=\"quickchart('df-339a51f6-c0bf-4f3d-b666-bbd000cca9d5')\"\n",
              "            title=\"Suggest charts\"\n",
              "            style=\"display:none;\">\n",
              "\n",
              "<svg xmlns=\"http://www.w3.org/2000/svg\" height=\"24px\"viewBox=\"0 0 24 24\"\n",
              "     width=\"24px\">\n",
              "    <g>\n",
              "        <path d=\"M19 3H5c-1.1 0-2 .9-2 2v14c0 1.1.9 2 2 2h14c1.1 0 2-.9 2-2V5c0-1.1-.9-2-2-2zM9 17H7v-7h2v7zm4 0h-2V7h2v10zm4 0h-2v-4h2v4z\"/>\n",
              "    </g>\n",
              "</svg>\n",
              "  </button>\n",
              "\n",
              "<style>\n",
              "  .colab-df-quickchart {\n",
              "      --bg-color: #E8F0FE;\n",
              "      --fill-color: #1967D2;\n",
              "      --hover-bg-color: #E2EBFA;\n",
              "      --hover-fill-color: #174EA6;\n",
              "      --disabled-fill-color: #AAA;\n",
              "      --disabled-bg-color: #DDD;\n",
              "  }\n",
              "\n",
              "  [theme=dark] .colab-df-quickchart {\n",
              "      --bg-color: #3B4455;\n",
              "      --fill-color: #D2E3FC;\n",
              "      --hover-bg-color: #434B5C;\n",
              "      --hover-fill-color: #FFFFFF;\n",
              "      --disabled-bg-color: #3B4455;\n",
              "      --disabled-fill-color: #666;\n",
              "  }\n",
              "\n",
              "  .colab-df-quickchart {\n",
              "    background-color: var(--bg-color);\n",
              "    border: none;\n",
              "    border-radius: 50%;\n",
              "    cursor: pointer;\n",
              "    display: none;\n",
              "    fill: var(--fill-color);\n",
              "    height: 32px;\n",
              "    padding: 0;\n",
              "    width: 32px;\n",
              "  }\n",
              "\n",
              "  .colab-df-quickchart:hover {\n",
              "    background-color: var(--hover-bg-color);\n",
              "    box-shadow: 0 1px 2px rgba(60, 64, 67, 0.3), 0 1px 3px 1px rgba(60, 64, 67, 0.15);\n",
              "    fill: var(--button-hover-fill-color);\n",
              "  }\n",
              "\n",
              "  .colab-df-quickchart-complete:disabled,\n",
              "  .colab-df-quickchart-complete:disabled:hover {\n",
              "    background-color: var(--disabled-bg-color);\n",
              "    fill: var(--disabled-fill-color);\n",
              "    box-shadow: none;\n",
              "  }\n",
              "\n",
              "  .colab-df-spinner {\n",
              "    border: 2px solid var(--fill-color);\n",
              "    border-color: transparent;\n",
              "    border-bottom-color: var(--fill-color);\n",
              "    animation:\n",
              "      spin 1s steps(1) infinite;\n",
              "  }\n",
              "\n",
              "  @keyframes spin {\n",
              "    0% {\n",
              "      border-color: transparent;\n",
              "      border-bottom-color: var(--fill-color);\n",
              "      border-left-color: var(--fill-color);\n",
              "    }\n",
              "    20% {\n",
              "      border-color: transparent;\n",
              "      border-left-color: var(--fill-color);\n",
              "      border-top-color: var(--fill-color);\n",
              "    }\n",
              "    30% {\n",
              "      border-color: transparent;\n",
              "      border-left-color: var(--fill-color);\n",
              "      border-top-color: var(--fill-color);\n",
              "      border-right-color: var(--fill-color);\n",
              "    }\n",
              "    40% {\n",
              "      border-color: transparent;\n",
              "      border-right-color: var(--fill-color);\n",
              "      border-top-color: var(--fill-color);\n",
              "    }\n",
              "    60% {\n",
              "      border-color: transparent;\n",
              "      border-right-color: var(--fill-color);\n",
              "    }\n",
              "    80% {\n",
              "      border-color: transparent;\n",
              "      border-right-color: var(--fill-color);\n",
              "      border-bottom-color: var(--fill-color);\n",
              "    }\n",
              "    90% {\n",
              "      border-color: transparent;\n",
              "      border-bottom-color: var(--fill-color);\n",
              "    }\n",
              "  }\n",
              "</style>\n",
              "\n",
              "  <script>\n",
              "    async function quickchart(key) {\n",
              "      const quickchartButtonEl =\n",
              "        document.querySelector('#' + key + ' button');\n",
              "      quickchartButtonEl.disabled = true;  // To prevent multiple clicks.\n",
              "      quickchartButtonEl.classList.add('colab-df-spinner');\n",
              "      try {\n",
              "        const charts = await google.colab.kernel.invokeFunction(\n",
              "            'suggestCharts', [key], {});\n",
              "      } catch (error) {\n",
              "        console.error('Error during call to suggestCharts:', error);\n",
              "      }\n",
              "      quickchartButtonEl.classList.remove('colab-df-spinner');\n",
              "      quickchartButtonEl.classList.add('colab-df-quickchart-complete');\n",
              "    }\n",
              "    (() => {\n",
              "      let quickchartButtonEl =\n",
              "        document.querySelector('#df-339a51f6-c0bf-4f3d-b666-bbd000cca9d5 button');\n",
              "      quickchartButtonEl.style.display =\n",
              "        google.colab.kernel.accessAllowed ? 'block' : 'none';\n",
              "    })();\n",
              "  </script>\n",
              "</div>\n",
              "\n",
              "  <div id=\"id_9c9b14db-c429-4661-a033-8cef5ab9a7a2\">\n",
              "    <style>\n",
              "      .colab-df-generate {\n",
              "        background-color: #E8F0FE;\n",
              "        border: none;\n",
              "        border-radius: 50%;\n",
              "        cursor: pointer;\n",
              "        display: none;\n",
              "        fill: #1967D2;\n",
              "        height: 32px;\n",
              "        padding: 0 0 0 0;\n",
              "        width: 32px;\n",
              "      }\n",
              "\n",
              "      .colab-df-generate:hover {\n",
              "        background-color: #E2EBFA;\n",
              "        box-shadow: 0px 1px 2px rgba(60, 64, 67, 0.3), 0px 1px 3px 1px rgba(60, 64, 67, 0.15);\n",
              "        fill: #174EA6;\n",
              "      }\n",
              "\n",
              "      [theme=dark] .colab-df-generate {\n",
              "        background-color: #3B4455;\n",
              "        fill: #D2E3FC;\n",
              "      }\n",
              "\n",
              "      [theme=dark] .colab-df-generate:hover {\n",
              "        background-color: #434B5C;\n",
              "        box-shadow: 0px 1px 3px 1px rgba(0, 0, 0, 0.15);\n",
              "        filter: drop-shadow(0px 1px 2px rgba(0, 0, 0, 0.3));\n",
              "        fill: #FFFFFF;\n",
              "      }\n",
              "    </style>\n",
              "    <button class=\"colab-df-generate\" onclick=\"generateWithVariable('df')\"\n",
              "            title=\"Generate code using this dataframe.\"\n",
              "            style=\"display:none;\">\n",
              "\n",
              "  <svg xmlns=\"http://www.w3.org/2000/svg\" height=\"24px\"viewBox=\"0 0 24 24\"\n",
              "       width=\"24px\">\n",
              "    <path d=\"M7,19H8.4L18.45,9,17,7.55,7,17.6ZM5,21V16.75L18.45,3.32a2,2,0,0,1,2.83,0l1.4,1.43a1.91,1.91,0,0,1,.58,1.4,1.91,1.91,0,0,1-.58,1.4L9.25,21ZM18.45,9,17,7.55Zm-12,3A5.31,5.31,0,0,0,4.9,8.1,5.31,5.31,0,0,0,1,6.5,5.31,5.31,0,0,0,4.9,4.9,5.31,5.31,0,0,0,6.5,1,5.31,5.31,0,0,0,8.1,4.9,5.31,5.31,0,0,0,12,6.5,5.46,5.46,0,0,0,6.5,12Z\"/>\n",
              "  </svg>\n",
              "    </button>\n",
              "    <script>\n",
              "      (() => {\n",
              "      const buttonEl =\n",
              "        document.querySelector('#id_9c9b14db-c429-4661-a033-8cef5ab9a7a2 button.colab-df-generate');\n",
              "      buttonEl.style.display =\n",
              "        google.colab.kernel.accessAllowed ? 'block' : 'none';\n",
              "\n",
              "      buttonEl.onclick = () => {\n",
              "        google.colab.notebook.generateWithVariable('df');\n",
              "      }\n",
              "      })();\n",
              "    </script>\n",
              "  </div>\n",
              "\n",
              "    </div>\n",
              "  </div>\n"
            ],
            "application/vnd.google.colaboratory.intrinsic+json": {
              "type": "dataframe",
              "variable_name": "df",
              "summary": "{\n  \"name\": \"df\",\n  \"rows\": 102,\n  \"fields\": [\n    {\n      \"column\": \"file_names\",\n      \"properties\": {\n        \"dtype\": \"string\",\n        \"num_unique_values\": 102,\n        \"samples\": [\n          \"Gary Halbert | \\\"Get What the US Government Owes You\\\" Sales Letter Breakdown (Proven Ads 31/100)\",\n          \"Mike Palmer | \\\"End of America\\\" Sales Letter Breakdown - PART 2 (Proven Ads 68/100)\",\n          \"Clayton Makepeace | The Original \\\"Health & Healing\\\" Sales Letter Breakdown (Proven Ads 63/100)\"\n        ],\n        \"semantic_type\": \"\",\n        \"description\": \"\"\n      }\n    }\n  ]\n}"
            }
          },
          "metadata": {},
          "execution_count": 27
        }
      ]
    },
    {
      "cell_type": "code",
      "source": [
        "df.iloc[24]='Martin Conroy | $2B \"Wall Street Journal\" Sales Letter Breakdown (Proven Ads 25/100)'\n",
        "df.head(30)"
      ],
      "metadata": {
        "colab": {
          "base_uri": "https://localhost:8080/",
          "height": 774
        },
        "id": "LELaX6zpPGYh",
        "outputId": "4ee1bdff-cb07-448b-e8d6-3a6c324b6a03"
      },
      "execution_count": null,
      "outputs": [
        {
          "output_type": "stream",
          "name": "stderr",
          "text": [
            "<ipython-input-35-8f8cc0fff763>:1: SettingWithCopyWarning: \n",
            "A value is trying to be set on a copy of a slice from a DataFrame\n",
            "\n",
            "See the caveats in the documentation: https://pandas.pydata.org/pandas-docs/stable/user_guide/indexing.html#returning-a-view-versus-a-copy\n",
            "  df.iloc[24]='Martin Conroy | $2B \"Wall Street Journal\" Sales Letter Breakdown (Proven Ads 25/100)'\n"
          ]
        },
        {
          "output_type": "execute_result",
          "data": {
            "text/plain": [
              "                                           file_names\n",
              "1   Gary Halbert | Social Security Sales Letter Br...\n",
              "2   Joe Sugarman | BluBlockers Sales Letter Breakd...\n",
              "3   Gary Bencivenga | \"Shoestring Business\" Sales ...\n",
              "4   Frank Schultz | \"Fluke of Nature\" Ruby Red Gra...\n",
              "5   Victor Schwab | \"100 Good Advertising HEADLINE...\n",
              "6   Bill Bonner - Agora Financial | \"International...\n",
              "7   Eugene Schwartz | \"The Courage to Earn $500k a...\n",
              "8   Gary Bencivenga | \"Kurobuta Ham\" Sales Letter ...\n",
              "9   Poo-Pourri Commercial | Copywriting Script and...\n",
              "10  Clayton Makepeace | 21 Bullet Secrets that IGN...\n",
              "11  Gary Bencivenga | Famous \"Olive Oil\" Sales Let...\n",
              "12  Eugene Schwartz | \"Boardroom Reports\" Sales Le...\n",
              "13  Mel Martin | Boardroom's \"Book of Secrets\" Sal...\n",
              "14  Parris Lampropoulos | \"Tax Hotline\" Sales Lett...\n",
              "15  How to Write Amazing FASCINATIONS | Mel Martin...\n",
              "16  Gary Halbert | Famous \"Dollar Bill\" Sales Lett...\n",
              "17  Gary Bencivenga & Perry Marshall | How to Do O...\n",
              "18  Gary Bencivenga & Victor Schwab | How to Do PR...\n",
              "19  Mel Martin | The Secret to \"Problem-Solution\" ...\n",
              "20  Motley Fool Sales Letter Breakdown | \"Scarcity...\n",
              "21  Eric Betuel (Boardroom) | \"Big Black Book\" Sal...\n",
              "22  The Secret to \"Secret Leads\" | Motley Fool Adv...\n",
              "23  Agora Financial | The \"Stockman Letter\" Sales ...\n",
              "24  Agora Financial | \"The Stockman Letter\" Sales ...\n",
              "25  Martin Conroy | $2B \"Wall Street Journal\" Sale...\n",
              "26  Gary Halbert | Famous \"Coat of Arms\" Sales Let...\n",
              "27  David Ogilvy | Famous \"Rolls Royce\" Ad Copywri...\n",
              "28  Gary Bencivenga | \"Copywriting Agency\" Sales L...\n",
              "29  Gary Halbert | How to Get the HOTTEST, Funnies...\n",
              "30  John Caples | \"They Laughed When I Sat Down At..."
            ],
            "text/html": [
              "\n",
              "  <div id=\"df-ab2b7a3f-7f30-448a-a7de-26e5cf7a18f2\" class=\"colab-df-container\">\n",
              "    <div>\n",
              "<style scoped>\n",
              "    .dataframe tbody tr th:only-of-type {\n",
              "        vertical-align: middle;\n",
              "    }\n",
              "\n",
              "    .dataframe tbody tr th {\n",
              "        vertical-align: top;\n",
              "    }\n",
              "\n",
              "    .dataframe thead th {\n",
              "        text-align: right;\n",
              "    }\n",
              "</style>\n",
              "<table border=\"1\" class=\"dataframe\">\n",
              "  <thead>\n",
              "    <tr style=\"text-align: right;\">\n",
              "      <th></th>\n",
              "      <th>file_names</th>\n",
              "    </tr>\n",
              "  </thead>\n",
              "  <tbody>\n",
              "    <tr>\n",
              "      <th>1</th>\n",
              "      <td>Gary Halbert | Social Security Sales Letter Br...</td>\n",
              "    </tr>\n",
              "    <tr>\n",
              "      <th>2</th>\n",
              "      <td>Joe Sugarman | BluBlockers Sales Letter Breakd...</td>\n",
              "    </tr>\n",
              "    <tr>\n",
              "      <th>3</th>\n",
              "      <td>Gary Bencivenga | \"Shoestring Business\" Sales ...</td>\n",
              "    </tr>\n",
              "    <tr>\n",
              "      <th>4</th>\n",
              "      <td>Frank Schultz | \"Fluke of Nature\" Ruby Red Gra...</td>\n",
              "    </tr>\n",
              "    <tr>\n",
              "      <th>5</th>\n",
              "      <td>Victor Schwab | \"100 Good Advertising HEADLINE...</td>\n",
              "    </tr>\n",
              "    <tr>\n",
              "      <th>6</th>\n",
              "      <td>Bill Bonner - Agora Financial | \"International...</td>\n",
              "    </tr>\n",
              "    <tr>\n",
              "      <th>7</th>\n",
              "      <td>Eugene Schwartz | \"The Courage to Earn $500k a...</td>\n",
              "    </tr>\n",
              "    <tr>\n",
              "      <th>8</th>\n",
              "      <td>Gary Bencivenga | \"Kurobuta Ham\" Sales Letter ...</td>\n",
              "    </tr>\n",
              "    <tr>\n",
              "      <th>9</th>\n",
              "      <td>Poo-Pourri Commercial | Copywriting Script and...</td>\n",
              "    </tr>\n",
              "    <tr>\n",
              "      <th>10</th>\n",
              "      <td>Clayton Makepeace | 21 Bullet Secrets that IGN...</td>\n",
              "    </tr>\n",
              "    <tr>\n",
              "      <th>11</th>\n",
              "      <td>Gary Bencivenga | Famous \"Olive Oil\" Sales Let...</td>\n",
              "    </tr>\n",
              "    <tr>\n",
              "      <th>12</th>\n",
              "      <td>Eugene Schwartz | \"Boardroom Reports\" Sales Le...</td>\n",
              "    </tr>\n",
              "    <tr>\n",
              "      <th>13</th>\n",
              "      <td>Mel Martin | Boardroom's \"Book of Secrets\" Sal...</td>\n",
              "    </tr>\n",
              "    <tr>\n",
              "      <th>14</th>\n",
              "      <td>Parris Lampropoulos | \"Tax Hotline\" Sales Lett...</td>\n",
              "    </tr>\n",
              "    <tr>\n",
              "      <th>15</th>\n",
              "      <td>How to Write Amazing FASCINATIONS | Mel Martin...</td>\n",
              "    </tr>\n",
              "    <tr>\n",
              "      <th>16</th>\n",
              "      <td>Gary Halbert | Famous \"Dollar Bill\" Sales Lett...</td>\n",
              "    </tr>\n",
              "    <tr>\n",
              "      <th>17</th>\n",
              "      <td>Gary Bencivenga &amp; Perry Marshall | How to Do O...</td>\n",
              "    </tr>\n",
              "    <tr>\n",
              "      <th>18</th>\n",
              "      <td>Gary Bencivenga &amp; Victor Schwab | How to Do PR...</td>\n",
              "    </tr>\n",
              "    <tr>\n",
              "      <th>19</th>\n",
              "      <td>Mel Martin | The Secret to \"Problem-Solution\" ...</td>\n",
              "    </tr>\n",
              "    <tr>\n",
              "      <th>20</th>\n",
              "      <td>Motley Fool Sales Letter Breakdown | \"Scarcity...</td>\n",
              "    </tr>\n",
              "    <tr>\n",
              "      <th>21</th>\n",
              "      <td>Eric Betuel (Boardroom) | \"Big Black Book\" Sal...</td>\n",
              "    </tr>\n",
              "    <tr>\n",
              "      <th>22</th>\n",
              "      <td>The Secret to \"Secret Leads\" | Motley Fool Adv...</td>\n",
              "    </tr>\n",
              "    <tr>\n",
              "      <th>23</th>\n",
              "      <td>Agora Financial | The \"Stockman Letter\" Sales ...</td>\n",
              "    </tr>\n",
              "    <tr>\n",
              "      <th>24</th>\n",
              "      <td>Agora Financial | \"The Stockman Letter\" Sales ...</td>\n",
              "    </tr>\n",
              "    <tr>\n",
              "      <th>25</th>\n",
              "      <td>Martin Conroy | $2B \"Wall Street Journal\" Sale...</td>\n",
              "    </tr>\n",
              "    <tr>\n",
              "      <th>26</th>\n",
              "      <td>Gary Halbert | Famous \"Coat of Arms\" Sales Let...</td>\n",
              "    </tr>\n",
              "    <tr>\n",
              "      <th>27</th>\n",
              "      <td>David Ogilvy | Famous \"Rolls Royce\" Ad Copywri...</td>\n",
              "    </tr>\n",
              "    <tr>\n",
              "      <th>28</th>\n",
              "      <td>Gary Bencivenga | \"Copywriting Agency\" Sales L...</td>\n",
              "    </tr>\n",
              "    <tr>\n",
              "      <th>29</th>\n",
              "      <td>Gary Halbert | How to Get the HOTTEST, Funnies...</td>\n",
              "    </tr>\n",
              "    <tr>\n",
              "      <th>30</th>\n",
              "      <td>John Caples | \"They Laughed When I Sat Down At...</td>\n",
              "    </tr>\n",
              "  </tbody>\n",
              "</table>\n",
              "</div>\n",
              "    <div class=\"colab-df-buttons\">\n",
              "\n",
              "  <div class=\"colab-df-container\">\n",
              "    <button class=\"colab-df-convert\" onclick=\"convertToInteractive('df-ab2b7a3f-7f30-448a-a7de-26e5cf7a18f2')\"\n",
              "            title=\"Convert this dataframe to an interactive table.\"\n",
              "            style=\"display:none;\">\n",
              "\n",
              "  <svg xmlns=\"http://www.w3.org/2000/svg\" height=\"24px\" viewBox=\"0 -960 960 960\">\n",
              "    <path d=\"M120-120v-720h720v720H120Zm60-500h600v-160H180v160Zm220 220h160v-160H400v160Zm0 220h160v-160H400v160ZM180-400h160v-160H180v160Zm440 0h160v-160H620v160ZM180-180h160v-160H180v160Zm440 0h160v-160H620v160Z\"/>\n",
              "  </svg>\n",
              "    </button>\n",
              "\n",
              "  <style>\n",
              "    .colab-df-container {\n",
              "      display:flex;\n",
              "      gap: 12px;\n",
              "    }\n",
              "\n",
              "    .colab-df-convert {\n",
              "      background-color: #E8F0FE;\n",
              "      border: none;\n",
              "      border-radius: 50%;\n",
              "      cursor: pointer;\n",
              "      display: none;\n",
              "      fill: #1967D2;\n",
              "      height: 32px;\n",
              "      padding: 0 0 0 0;\n",
              "      width: 32px;\n",
              "    }\n",
              "\n",
              "    .colab-df-convert:hover {\n",
              "      background-color: #E2EBFA;\n",
              "      box-shadow: 0px 1px 2px rgba(60, 64, 67, 0.3), 0px 1px 3px 1px rgba(60, 64, 67, 0.15);\n",
              "      fill: #174EA6;\n",
              "    }\n",
              "\n",
              "    .colab-df-buttons div {\n",
              "      margin-bottom: 4px;\n",
              "    }\n",
              "\n",
              "    [theme=dark] .colab-df-convert {\n",
              "      background-color: #3B4455;\n",
              "      fill: #D2E3FC;\n",
              "    }\n",
              "\n",
              "    [theme=dark] .colab-df-convert:hover {\n",
              "      background-color: #434B5C;\n",
              "      box-shadow: 0px 1px 3px 1px rgba(0, 0, 0, 0.15);\n",
              "      filter: drop-shadow(0px 1px 2px rgba(0, 0, 0, 0.3));\n",
              "      fill: #FFFFFF;\n",
              "    }\n",
              "  </style>\n",
              "\n",
              "    <script>\n",
              "      const buttonEl =\n",
              "        document.querySelector('#df-ab2b7a3f-7f30-448a-a7de-26e5cf7a18f2 button.colab-df-convert');\n",
              "      buttonEl.style.display =\n",
              "        google.colab.kernel.accessAllowed ? 'block' : 'none';\n",
              "\n",
              "      async function convertToInteractive(key) {\n",
              "        const element = document.querySelector('#df-ab2b7a3f-7f30-448a-a7de-26e5cf7a18f2');\n",
              "        const dataTable =\n",
              "          await google.colab.kernel.invokeFunction('convertToInteractive',\n",
              "                                                    [key], {});\n",
              "        if (!dataTable) return;\n",
              "\n",
              "        const docLinkHtml = 'Like what you see? Visit the ' +\n",
              "          '<a target=\"_blank\" href=https://colab.research.google.com/notebooks/data_table.ipynb>data table notebook</a>'\n",
              "          + ' to learn more about interactive tables.';\n",
              "        element.innerHTML = '';\n",
              "        dataTable['output_type'] = 'display_data';\n",
              "        await google.colab.output.renderOutput(dataTable, element);\n",
              "        const docLink = document.createElement('div');\n",
              "        docLink.innerHTML = docLinkHtml;\n",
              "        element.appendChild(docLink);\n",
              "      }\n",
              "    </script>\n",
              "  </div>\n",
              "\n",
              "\n",
              "<div id=\"df-194c9fe6-e21c-42cd-97a5-0e87d3ba18bd\">\n",
              "  <button class=\"colab-df-quickchart\" onclick=\"quickchart('df-194c9fe6-e21c-42cd-97a5-0e87d3ba18bd')\"\n",
              "            title=\"Suggest charts\"\n",
              "            style=\"display:none;\">\n",
              "\n",
              "<svg xmlns=\"http://www.w3.org/2000/svg\" height=\"24px\"viewBox=\"0 0 24 24\"\n",
              "     width=\"24px\">\n",
              "    <g>\n",
              "        <path d=\"M19 3H5c-1.1 0-2 .9-2 2v14c0 1.1.9 2 2 2h14c1.1 0 2-.9 2-2V5c0-1.1-.9-2-2-2zM9 17H7v-7h2v7zm4 0h-2V7h2v10zm4 0h-2v-4h2v4z\"/>\n",
              "    </g>\n",
              "</svg>\n",
              "  </button>\n",
              "\n",
              "<style>\n",
              "  .colab-df-quickchart {\n",
              "      --bg-color: #E8F0FE;\n",
              "      --fill-color: #1967D2;\n",
              "      --hover-bg-color: #E2EBFA;\n",
              "      --hover-fill-color: #174EA6;\n",
              "      --disabled-fill-color: #AAA;\n",
              "      --disabled-bg-color: #DDD;\n",
              "  }\n",
              "\n",
              "  [theme=dark] .colab-df-quickchart {\n",
              "      --bg-color: #3B4455;\n",
              "      --fill-color: #D2E3FC;\n",
              "      --hover-bg-color: #434B5C;\n",
              "      --hover-fill-color: #FFFFFF;\n",
              "      --disabled-bg-color: #3B4455;\n",
              "      --disabled-fill-color: #666;\n",
              "  }\n",
              "\n",
              "  .colab-df-quickchart {\n",
              "    background-color: var(--bg-color);\n",
              "    border: none;\n",
              "    border-radius: 50%;\n",
              "    cursor: pointer;\n",
              "    display: none;\n",
              "    fill: var(--fill-color);\n",
              "    height: 32px;\n",
              "    padding: 0;\n",
              "    width: 32px;\n",
              "  }\n",
              "\n",
              "  .colab-df-quickchart:hover {\n",
              "    background-color: var(--hover-bg-color);\n",
              "    box-shadow: 0 1px 2px rgba(60, 64, 67, 0.3), 0 1px 3px 1px rgba(60, 64, 67, 0.15);\n",
              "    fill: var(--button-hover-fill-color);\n",
              "  }\n",
              "\n",
              "  .colab-df-quickchart-complete:disabled,\n",
              "  .colab-df-quickchart-complete:disabled:hover {\n",
              "    background-color: var(--disabled-bg-color);\n",
              "    fill: var(--disabled-fill-color);\n",
              "    box-shadow: none;\n",
              "  }\n",
              "\n",
              "  .colab-df-spinner {\n",
              "    border: 2px solid var(--fill-color);\n",
              "    border-color: transparent;\n",
              "    border-bottom-color: var(--fill-color);\n",
              "    animation:\n",
              "      spin 1s steps(1) infinite;\n",
              "  }\n",
              "\n",
              "  @keyframes spin {\n",
              "    0% {\n",
              "      border-color: transparent;\n",
              "      border-bottom-color: var(--fill-color);\n",
              "      border-left-color: var(--fill-color);\n",
              "    }\n",
              "    20% {\n",
              "      border-color: transparent;\n",
              "      border-left-color: var(--fill-color);\n",
              "      border-top-color: var(--fill-color);\n",
              "    }\n",
              "    30% {\n",
              "      border-color: transparent;\n",
              "      border-left-color: var(--fill-color);\n",
              "      border-top-color: var(--fill-color);\n",
              "      border-right-color: var(--fill-color);\n",
              "    }\n",
              "    40% {\n",
              "      border-color: transparent;\n",
              "      border-right-color: var(--fill-color);\n",
              "      border-top-color: var(--fill-color);\n",
              "    }\n",
              "    60% {\n",
              "      border-color: transparent;\n",
              "      border-right-color: var(--fill-color);\n",
              "    }\n",
              "    80% {\n",
              "      border-color: transparent;\n",
              "      border-right-color: var(--fill-color);\n",
              "      border-bottom-color: var(--fill-color);\n",
              "    }\n",
              "    90% {\n",
              "      border-color: transparent;\n",
              "      border-bottom-color: var(--fill-color);\n",
              "    }\n",
              "  }\n",
              "</style>\n",
              "\n",
              "  <script>\n",
              "    async function quickchart(key) {\n",
              "      const quickchartButtonEl =\n",
              "        document.querySelector('#' + key + ' button');\n",
              "      quickchartButtonEl.disabled = true;  // To prevent multiple clicks.\n",
              "      quickchartButtonEl.classList.add('colab-df-spinner');\n",
              "      try {\n",
              "        const charts = await google.colab.kernel.invokeFunction(\n",
              "            'suggestCharts', [key], {});\n",
              "      } catch (error) {\n",
              "        console.error('Error during call to suggestCharts:', error);\n",
              "      }\n",
              "      quickchartButtonEl.classList.remove('colab-df-spinner');\n",
              "      quickchartButtonEl.classList.add('colab-df-quickchart-complete');\n",
              "    }\n",
              "    (() => {\n",
              "      let quickchartButtonEl =\n",
              "        document.querySelector('#df-194c9fe6-e21c-42cd-97a5-0e87d3ba18bd button');\n",
              "      quickchartButtonEl.style.display =\n",
              "        google.colab.kernel.accessAllowed ? 'block' : 'none';\n",
              "    })();\n",
              "  </script>\n",
              "</div>\n",
              "\n",
              "    </div>\n",
              "  </div>\n"
            ],
            "application/vnd.google.colaboratory.intrinsic+json": {
              "type": "dataframe",
              "variable_name": "df",
              "summary": "{\n  \"name\": \"df\",\n  \"rows\": 102,\n  \"fields\": [\n    {\n      \"column\": \"file_names\",\n      \"properties\": {\n        \"dtype\": \"string\",\n        \"num_unique_values\": 102,\n        \"samples\": [\n          \"Gary Halbert | \\\"Get What the US Government Owes You\\\" Sales Letter Breakdown (Proven Ads 31/100)\",\n          \"Mike Palmer | \\\"End of America\\\" Sales Letter Breakdown - PART 2 (Proven Ads 68/100)\",\n          \"Clayton Makepeace | The Original \\\"Health & Healing\\\" Sales Letter Breakdown (Proven Ads 63/100)\"\n        ],\n        \"semantic_type\": \"\",\n        \"description\": \"\"\n      }\n    }\n  ]\n}"
            }
          },
          "metadata": {},
          "execution_count": 35
        }
      ]
    },
    {
      "cell_type": "code",
      "source": [
        "df[['Video_title','Day_Num']]=df['file_names'].str.split('|',expand=True)\n",
        "df"
      ],
      "metadata": {
        "id": "WmsEV5cUKEo1",
        "colab": {
          "base_uri": "https://localhost:8080/",
          "height": 304
        },
        "outputId": "1c3d4779-b117-4920-f2de-322630814356",
        "collapsed": true
      },
      "execution_count": null,
      "outputs": [
        {
          "output_type": "error",
          "ename": "ValueError",
          "evalue": "Columns must be same length as key",
          "traceback": [
            "\u001b[0;31m---------------------------------------------------------------------------\u001b[0m",
            "\u001b[0;31mValueError\u001b[0m                                Traceback (most recent call last)",
            "\u001b[0;32m<ipython-input-29-2e711d3f2543>\u001b[0m in \u001b[0;36m<cell line: 1>\u001b[0;34m()\u001b[0m\n\u001b[0;32m----> 1\u001b[0;31m \u001b[0mdf\u001b[0m\u001b[0;34m[\u001b[0m\u001b[0;34m[\u001b[0m\u001b[0;34m'Video_title'\u001b[0m\u001b[0;34m,\u001b[0m\u001b[0;34m'Day_Num'\u001b[0m\u001b[0;34m]\u001b[0m\u001b[0;34m]\u001b[0m\u001b[0;34m=\u001b[0m\u001b[0mdf\u001b[0m\u001b[0;34m[\u001b[0m\u001b[0;34m'file_names'\u001b[0m\u001b[0;34m]\u001b[0m\u001b[0;34m.\u001b[0m\u001b[0mstr\u001b[0m\u001b[0;34m.\u001b[0m\u001b[0msplit\u001b[0m\u001b[0;34m(\u001b[0m\u001b[0;34m'|'\u001b[0m\u001b[0;34m,\u001b[0m\u001b[0mexpand\u001b[0m\u001b[0;34m=\u001b[0m\u001b[0;32mTrue\u001b[0m\u001b[0;34m)\u001b[0m\u001b[0;34m\u001b[0m\u001b[0;34m\u001b[0m\u001b[0m\n\u001b[0m\u001b[1;32m      2\u001b[0m \u001b[0mdf\u001b[0m\u001b[0;34m\u001b[0m\u001b[0;34m\u001b[0m\u001b[0m\n",
            "\u001b[0;32m/usr/local/lib/python3.10/dist-packages/pandas/core/frame.py\u001b[0m in \u001b[0;36m__setitem__\u001b[0;34m(self, key, value)\u001b[0m\n\u001b[1;32m   4077\u001b[0m             \u001b[0mself\u001b[0m\u001b[0;34m.\u001b[0m\u001b[0m_setitem_frame\u001b[0m\u001b[0;34m(\u001b[0m\u001b[0mkey\u001b[0m\u001b[0;34m,\u001b[0m \u001b[0mvalue\u001b[0m\u001b[0;34m)\u001b[0m\u001b[0;34m\u001b[0m\u001b[0;34m\u001b[0m\u001b[0m\n\u001b[1;32m   4078\u001b[0m         \u001b[0;32melif\u001b[0m \u001b[0misinstance\u001b[0m\u001b[0;34m(\u001b[0m\u001b[0mkey\u001b[0m\u001b[0;34m,\u001b[0m \u001b[0;34m(\u001b[0m\u001b[0mSeries\u001b[0m\u001b[0;34m,\u001b[0m \u001b[0mnp\u001b[0m\u001b[0;34m.\u001b[0m\u001b[0mndarray\u001b[0m\u001b[0;34m,\u001b[0m \u001b[0mlist\u001b[0m\u001b[0;34m,\u001b[0m \u001b[0mIndex\u001b[0m\u001b[0;34m)\u001b[0m\u001b[0;34m)\u001b[0m\u001b[0;34m:\u001b[0m\u001b[0;34m\u001b[0m\u001b[0;34m\u001b[0m\u001b[0m\n\u001b[0;32m-> 4079\u001b[0;31m             \u001b[0mself\u001b[0m\u001b[0;34m.\u001b[0m\u001b[0m_setitem_array\u001b[0m\u001b[0;34m(\u001b[0m\u001b[0mkey\u001b[0m\u001b[0;34m,\u001b[0m \u001b[0mvalue\u001b[0m\u001b[0;34m)\u001b[0m\u001b[0;34m\u001b[0m\u001b[0;34m\u001b[0m\u001b[0m\n\u001b[0m\u001b[1;32m   4080\u001b[0m         \u001b[0;32melif\u001b[0m \u001b[0misinstance\u001b[0m\u001b[0;34m(\u001b[0m\u001b[0mvalue\u001b[0m\u001b[0;34m,\u001b[0m \u001b[0mDataFrame\u001b[0m\u001b[0;34m)\u001b[0m\u001b[0;34m:\u001b[0m\u001b[0;34m\u001b[0m\u001b[0;34m\u001b[0m\u001b[0m\n\u001b[1;32m   4081\u001b[0m             \u001b[0mself\u001b[0m\u001b[0;34m.\u001b[0m\u001b[0m_set_item_frame_value\u001b[0m\u001b[0;34m(\u001b[0m\u001b[0mkey\u001b[0m\u001b[0;34m,\u001b[0m \u001b[0mvalue\u001b[0m\u001b[0;34m)\u001b[0m\u001b[0;34m\u001b[0m\u001b[0;34m\u001b[0m\u001b[0m\n",
            "\u001b[0;32m/usr/local/lib/python3.10/dist-packages/pandas/core/frame.py\u001b[0m in \u001b[0;36m_setitem_array\u001b[0;34m(self, key, value)\u001b[0m\n\u001b[1;32m   4119\u001b[0m \u001b[0;34m\u001b[0m\u001b[0m\n\u001b[1;32m   4120\u001b[0m             \u001b[0;32mif\u001b[0m \u001b[0misinstance\u001b[0m\u001b[0;34m(\u001b[0m\u001b[0mvalue\u001b[0m\u001b[0;34m,\u001b[0m \u001b[0mDataFrame\u001b[0m\u001b[0;34m)\u001b[0m\u001b[0;34m:\u001b[0m\u001b[0;34m\u001b[0m\u001b[0;34m\u001b[0m\u001b[0m\n\u001b[0;32m-> 4121\u001b[0;31m                 \u001b[0mcheck_key_length\u001b[0m\u001b[0;34m(\u001b[0m\u001b[0mself\u001b[0m\u001b[0;34m.\u001b[0m\u001b[0mcolumns\u001b[0m\u001b[0;34m,\u001b[0m \u001b[0mkey\u001b[0m\u001b[0;34m,\u001b[0m \u001b[0mvalue\u001b[0m\u001b[0;34m)\u001b[0m\u001b[0;34m\u001b[0m\u001b[0;34m\u001b[0m\u001b[0m\n\u001b[0m\u001b[1;32m   4122\u001b[0m                 \u001b[0;32mfor\u001b[0m \u001b[0mk1\u001b[0m\u001b[0;34m,\u001b[0m \u001b[0mk2\u001b[0m \u001b[0;32min\u001b[0m \u001b[0mzip\u001b[0m\u001b[0;34m(\u001b[0m\u001b[0mkey\u001b[0m\u001b[0;34m,\u001b[0m \u001b[0mvalue\u001b[0m\u001b[0;34m.\u001b[0m\u001b[0mcolumns\u001b[0m\u001b[0;34m)\u001b[0m\u001b[0;34m:\u001b[0m\u001b[0;34m\u001b[0m\u001b[0;34m\u001b[0m\u001b[0m\n\u001b[1;32m   4123\u001b[0m                     \u001b[0mself\u001b[0m\u001b[0;34m[\u001b[0m\u001b[0mk1\u001b[0m\u001b[0;34m]\u001b[0m \u001b[0;34m=\u001b[0m \u001b[0mvalue\u001b[0m\u001b[0;34m[\u001b[0m\u001b[0mk2\u001b[0m\u001b[0;34m]\u001b[0m\u001b[0;34m\u001b[0m\u001b[0;34m\u001b[0m\u001b[0m\n",
            "\u001b[0;32m/usr/local/lib/python3.10/dist-packages/pandas/core/indexers/utils.py\u001b[0m in \u001b[0;36mcheck_key_length\u001b[0;34m(columns, key, value)\u001b[0m\n\u001b[1;32m    388\u001b[0m     \u001b[0;32mif\u001b[0m \u001b[0mcolumns\u001b[0m\u001b[0;34m.\u001b[0m\u001b[0mis_unique\u001b[0m\u001b[0;34m:\u001b[0m\u001b[0;34m\u001b[0m\u001b[0;34m\u001b[0m\u001b[0m\n\u001b[1;32m    389\u001b[0m         \u001b[0;32mif\u001b[0m \u001b[0mlen\u001b[0m\u001b[0;34m(\u001b[0m\u001b[0mvalue\u001b[0m\u001b[0;34m.\u001b[0m\u001b[0mcolumns\u001b[0m\u001b[0;34m)\u001b[0m \u001b[0;34m!=\u001b[0m \u001b[0mlen\u001b[0m\u001b[0;34m(\u001b[0m\u001b[0mkey\u001b[0m\u001b[0;34m)\u001b[0m\u001b[0;34m:\u001b[0m\u001b[0;34m\u001b[0m\u001b[0;34m\u001b[0m\u001b[0m\n\u001b[0;32m--> 390\u001b[0;31m             \u001b[0;32mraise\u001b[0m \u001b[0mValueError\u001b[0m\u001b[0;34m(\u001b[0m\u001b[0;34m\"Columns must be same length as key\"\u001b[0m\u001b[0;34m)\u001b[0m\u001b[0;34m\u001b[0m\u001b[0;34m\u001b[0m\u001b[0m\n\u001b[0m\u001b[1;32m    391\u001b[0m     \u001b[0;32melse\u001b[0m\u001b[0;34m:\u001b[0m\u001b[0;34m\u001b[0m\u001b[0;34m\u001b[0m\u001b[0m\n\u001b[1;32m    392\u001b[0m         \u001b[0;31m# Missing keys in columns are represented as -1\u001b[0m\u001b[0;34m\u001b[0m\u001b[0;34m\u001b[0m\u001b[0m\n",
            "\u001b[0;31mValueError\u001b[0m: Columns must be same length as key"
          ]
        }
      ]
    },
    {
      "cell_type": "code",
      "source": [
        "df[['Ad writer','Details']]=df['file_names'].str.split('|',expand=True)\n",
        "df"
      ],
      "metadata": {
        "colab": {
          "base_uri": "https://localhost:8080/",
          "height": 304
        },
        "id": "YtURbVhRNofY",
        "outputId": "1462552a-971b-4357-c373-40f2afe392ee"
      },
      "execution_count": null,
      "outputs": [
        {
          "output_type": "error",
          "ename": "ValueError",
          "evalue": "Columns must be same length as key",
          "traceback": [
            "\u001b[0;31m---------------------------------------------------------------------------\u001b[0m",
            "\u001b[0;31mValueError\u001b[0m                                Traceback (most recent call last)",
            "\u001b[0;32m<ipython-input-36-3d761afdf739>\u001b[0m in \u001b[0;36m<cell line: 1>\u001b[0;34m()\u001b[0m\n\u001b[0;32m----> 1\u001b[0;31m \u001b[0mdf\u001b[0m\u001b[0;34m[\u001b[0m\u001b[0;34m[\u001b[0m\u001b[0;34m'Ad writer'\u001b[0m\u001b[0;34m,\u001b[0m\u001b[0;34m'Details'\u001b[0m\u001b[0;34m]\u001b[0m\u001b[0;34m]\u001b[0m\u001b[0;34m=\u001b[0m\u001b[0mdf\u001b[0m\u001b[0;34m[\u001b[0m\u001b[0;34m'file_names'\u001b[0m\u001b[0;34m]\u001b[0m\u001b[0;34m.\u001b[0m\u001b[0mstr\u001b[0m\u001b[0;34m.\u001b[0m\u001b[0msplit\u001b[0m\u001b[0;34m(\u001b[0m\u001b[0;34m'|'\u001b[0m\u001b[0;34m,\u001b[0m\u001b[0mexpand\u001b[0m\u001b[0;34m=\u001b[0m\u001b[0;32mTrue\u001b[0m\u001b[0;34m)\u001b[0m\u001b[0;34m\u001b[0m\u001b[0;34m\u001b[0m\u001b[0m\n\u001b[0m\u001b[1;32m      2\u001b[0m \u001b[0mdf\u001b[0m\u001b[0;34m\u001b[0m\u001b[0;34m\u001b[0m\u001b[0m\n",
            "\u001b[0;32m/usr/local/lib/python3.10/dist-packages/pandas/core/frame.py\u001b[0m in \u001b[0;36m__setitem__\u001b[0;34m(self, key, value)\u001b[0m\n\u001b[1;32m   4077\u001b[0m             \u001b[0mself\u001b[0m\u001b[0;34m.\u001b[0m\u001b[0m_setitem_frame\u001b[0m\u001b[0;34m(\u001b[0m\u001b[0mkey\u001b[0m\u001b[0;34m,\u001b[0m \u001b[0mvalue\u001b[0m\u001b[0;34m)\u001b[0m\u001b[0;34m\u001b[0m\u001b[0;34m\u001b[0m\u001b[0m\n\u001b[1;32m   4078\u001b[0m         \u001b[0;32melif\u001b[0m \u001b[0misinstance\u001b[0m\u001b[0;34m(\u001b[0m\u001b[0mkey\u001b[0m\u001b[0;34m,\u001b[0m \u001b[0;34m(\u001b[0m\u001b[0mSeries\u001b[0m\u001b[0;34m,\u001b[0m \u001b[0mnp\u001b[0m\u001b[0;34m.\u001b[0m\u001b[0mndarray\u001b[0m\u001b[0;34m,\u001b[0m \u001b[0mlist\u001b[0m\u001b[0;34m,\u001b[0m \u001b[0mIndex\u001b[0m\u001b[0;34m)\u001b[0m\u001b[0;34m)\u001b[0m\u001b[0;34m:\u001b[0m\u001b[0;34m\u001b[0m\u001b[0;34m\u001b[0m\u001b[0m\n\u001b[0;32m-> 4079\u001b[0;31m             \u001b[0mself\u001b[0m\u001b[0;34m.\u001b[0m\u001b[0m_setitem_array\u001b[0m\u001b[0;34m(\u001b[0m\u001b[0mkey\u001b[0m\u001b[0;34m,\u001b[0m \u001b[0mvalue\u001b[0m\u001b[0;34m)\u001b[0m\u001b[0;34m\u001b[0m\u001b[0;34m\u001b[0m\u001b[0m\n\u001b[0m\u001b[1;32m   4080\u001b[0m         \u001b[0;32melif\u001b[0m \u001b[0misinstance\u001b[0m\u001b[0;34m(\u001b[0m\u001b[0mvalue\u001b[0m\u001b[0;34m,\u001b[0m \u001b[0mDataFrame\u001b[0m\u001b[0;34m)\u001b[0m\u001b[0;34m:\u001b[0m\u001b[0;34m\u001b[0m\u001b[0;34m\u001b[0m\u001b[0m\n\u001b[1;32m   4081\u001b[0m             \u001b[0mself\u001b[0m\u001b[0;34m.\u001b[0m\u001b[0m_set_item_frame_value\u001b[0m\u001b[0;34m(\u001b[0m\u001b[0mkey\u001b[0m\u001b[0;34m,\u001b[0m \u001b[0mvalue\u001b[0m\u001b[0;34m)\u001b[0m\u001b[0;34m\u001b[0m\u001b[0;34m\u001b[0m\u001b[0m\n",
            "\u001b[0;32m/usr/local/lib/python3.10/dist-packages/pandas/core/frame.py\u001b[0m in \u001b[0;36m_setitem_array\u001b[0;34m(self, key, value)\u001b[0m\n\u001b[1;32m   4119\u001b[0m \u001b[0;34m\u001b[0m\u001b[0m\n\u001b[1;32m   4120\u001b[0m             \u001b[0;32mif\u001b[0m \u001b[0misinstance\u001b[0m\u001b[0;34m(\u001b[0m\u001b[0mvalue\u001b[0m\u001b[0;34m,\u001b[0m \u001b[0mDataFrame\u001b[0m\u001b[0;34m)\u001b[0m\u001b[0;34m:\u001b[0m\u001b[0;34m\u001b[0m\u001b[0;34m\u001b[0m\u001b[0m\n\u001b[0;32m-> 4121\u001b[0;31m                 \u001b[0mcheck_key_length\u001b[0m\u001b[0;34m(\u001b[0m\u001b[0mself\u001b[0m\u001b[0;34m.\u001b[0m\u001b[0mcolumns\u001b[0m\u001b[0;34m,\u001b[0m \u001b[0mkey\u001b[0m\u001b[0;34m,\u001b[0m \u001b[0mvalue\u001b[0m\u001b[0;34m)\u001b[0m\u001b[0;34m\u001b[0m\u001b[0;34m\u001b[0m\u001b[0m\n\u001b[0m\u001b[1;32m   4122\u001b[0m                 \u001b[0;32mfor\u001b[0m \u001b[0mk1\u001b[0m\u001b[0;34m,\u001b[0m \u001b[0mk2\u001b[0m \u001b[0;32min\u001b[0m \u001b[0mzip\u001b[0m\u001b[0;34m(\u001b[0m\u001b[0mkey\u001b[0m\u001b[0;34m,\u001b[0m \u001b[0mvalue\u001b[0m\u001b[0;34m.\u001b[0m\u001b[0mcolumns\u001b[0m\u001b[0;34m)\u001b[0m\u001b[0;34m:\u001b[0m\u001b[0;34m\u001b[0m\u001b[0;34m\u001b[0m\u001b[0m\n\u001b[1;32m   4123\u001b[0m                     \u001b[0mself\u001b[0m\u001b[0;34m[\u001b[0m\u001b[0mk1\u001b[0m\u001b[0;34m]\u001b[0m \u001b[0;34m=\u001b[0m \u001b[0mvalue\u001b[0m\u001b[0;34m[\u001b[0m\u001b[0mk2\u001b[0m\u001b[0;34m]\u001b[0m\u001b[0;34m\u001b[0m\u001b[0;34m\u001b[0m\u001b[0m\n",
            "\u001b[0;32m/usr/local/lib/python3.10/dist-packages/pandas/core/indexers/utils.py\u001b[0m in \u001b[0;36mcheck_key_length\u001b[0;34m(columns, key, value)\u001b[0m\n\u001b[1;32m    388\u001b[0m     \u001b[0;32mif\u001b[0m \u001b[0mcolumns\u001b[0m\u001b[0;34m.\u001b[0m\u001b[0mis_unique\u001b[0m\u001b[0;34m:\u001b[0m\u001b[0;34m\u001b[0m\u001b[0;34m\u001b[0m\u001b[0m\n\u001b[1;32m    389\u001b[0m         \u001b[0;32mif\u001b[0m \u001b[0mlen\u001b[0m\u001b[0;34m(\u001b[0m\u001b[0mvalue\u001b[0m\u001b[0;34m.\u001b[0m\u001b[0mcolumns\u001b[0m\u001b[0;34m)\u001b[0m \u001b[0;34m!=\u001b[0m \u001b[0mlen\u001b[0m\u001b[0;34m(\u001b[0m\u001b[0mkey\u001b[0m\u001b[0;34m)\u001b[0m\u001b[0;34m:\u001b[0m\u001b[0;34m\u001b[0m\u001b[0;34m\u001b[0m\u001b[0m\n\u001b[0;32m--> 390\u001b[0;31m             \u001b[0;32mraise\u001b[0m \u001b[0mValueError\u001b[0m\u001b[0;34m(\u001b[0m\u001b[0;34m\"Columns must be same length as key\"\u001b[0m\u001b[0;34m)\u001b[0m\u001b[0;34m\u001b[0m\u001b[0;34m\u001b[0m\u001b[0m\n\u001b[0m\u001b[1;32m    391\u001b[0m     \u001b[0;32melse\u001b[0m\u001b[0;34m:\u001b[0m\u001b[0;34m\u001b[0m\u001b[0;34m\u001b[0m\u001b[0m\n\u001b[1;32m    392\u001b[0m         \u001b[0;31m# Missing keys in columns are represented as -1\u001b[0m\u001b[0;34m\u001b[0m\u001b[0;34m\u001b[0m\u001b[0m\n",
            "\u001b[0;31mValueError\u001b[0m: Columns must be same length as key"
          ]
        }
      ]
    },
    {
      "cell_type": "code",
      "source": [
        "df = df.drop('file_names', axis= 'columns')\n",
        "df"
      ],
      "metadata": {
        "id": "qY6YGlH7Mnf9",
        "colab": {
          "base_uri": "https://localhost:8080/",
          "height": 424
        },
        "outputId": "f32ece8f-81f1-4e9a-d39c-02d5a8b5e780"
      },
      "execution_count": null,
      "outputs": [
        {
          "output_type": "execute_result",
          "data": {
            "text/plain": [
              "                                          Video_title  \\\n",
              "0               Introduction to Programming & Python    \n",
              "1   Some Amazing Python Programs - The Power of Py...   \n",
              "2                                    Modules and Pip    \n",
              "3                           Our First Python Program    \n",
              "4       Comments, Escape Sequences & Print Statement    \n",
              "..                                                ...   \n",
              "95                                 AsyncIO in Python    \n",
              "96                          Multithreading in Python    \n",
              "97                         MultiProcessing in Python    \n",
              "98  Exercise 11: Solution + Shoutouts - Desktop No...   \n",
              "99              Conclusion and Where to go from here    \n",
              "\n",
              "                        Day_Num  \n",
              "0      Python Tutorial - Day #1  \n",
              "1      Python Tutorial - Day #2  \n",
              "2      Python Tutorial - Day #3  \n",
              "3      Python Tutorial - Day #4  \n",
              "4      Python Tutorial - Day #5  \n",
              "..                          ...  \n",
              "95    Python Tutorial - Day #96  \n",
              "96    Python Tutorial - Day #97  \n",
              "97    Python Tutorial - Day #98  \n",
              "98    Python Tutorial - Day #99  \n",
              "99   Python Tutorial - Day #100  \n",
              "\n",
              "[100 rows x 2 columns]"
            ],
            "text/html": [
              "\n",
              "  <div id=\"df-962c52e7-4ade-4490-b4fb-057d0a01819d\" class=\"colab-df-container\">\n",
              "    <div>\n",
              "<style scoped>\n",
              "    .dataframe tbody tr th:only-of-type {\n",
              "        vertical-align: middle;\n",
              "    }\n",
              "\n",
              "    .dataframe tbody tr th {\n",
              "        vertical-align: top;\n",
              "    }\n",
              "\n",
              "    .dataframe thead th {\n",
              "        text-align: right;\n",
              "    }\n",
              "</style>\n",
              "<table border=\"1\" class=\"dataframe\">\n",
              "  <thead>\n",
              "    <tr style=\"text-align: right;\">\n",
              "      <th></th>\n",
              "      <th>Video_title</th>\n",
              "      <th>Day_Num</th>\n",
              "    </tr>\n",
              "  </thead>\n",
              "  <tbody>\n",
              "    <tr>\n",
              "      <th>0</th>\n",
              "      <td>Introduction to Programming &amp; Python</td>\n",
              "      <td>Python Tutorial - Day #1</td>\n",
              "    </tr>\n",
              "    <tr>\n",
              "      <th>1</th>\n",
              "      <td>Some Amazing Python Programs - The Power of Py...</td>\n",
              "      <td>Python Tutorial - Day #2</td>\n",
              "    </tr>\n",
              "    <tr>\n",
              "      <th>2</th>\n",
              "      <td>Modules and Pip</td>\n",
              "      <td>Python Tutorial - Day #3</td>\n",
              "    </tr>\n",
              "    <tr>\n",
              "      <th>3</th>\n",
              "      <td>Our First Python Program</td>\n",
              "      <td>Python Tutorial - Day #4</td>\n",
              "    </tr>\n",
              "    <tr>\n",
              "      <th>4</th>\n",
              "      <td>Comments, Escape Sequences &amp; Print Statement</td>\n",
              "      <td>Python Tutorial - Day #5</td>\n",
              "    </tr>\n",
              "    <tr>\n",
              "      <th>...</th>\n",
              "      <td>...</td>\n",
              "      <td>...</td>\n",
              "    </tr>\n",
              "    <tr>\n",
              "      <th>95</th>\n",
              "      <td>AsyncIO in Python</td>\n",
              "      <td>Python Tutorial - Day #96</td>\n",
              "    </tr>\n",
              "    <tr>\n",
              "      <th>96</th>\n",
              "      <td>Multithreading in Python</td>\n",
              "      <td>Python Tutorial - Day #97</td>\n",
              "    </tr>\n",
              "    <tr>\n",
              "      <th>97</th>\n",
              "      <td>MultiProcessing in Python</td>\n",
              "      <td>Python Tutorial - Day #98</td>\n",
              "    </tr>\n",
              "    <tr>\n",
              "      <th>98</th>\n",
              "      <td>Exercise 11: Solution + Shoutouts - Desktop No...</td>\n",
              "      <td>Python Tutorial - Day #99</td>\n",
              "    </tr>\n",
              "    <tr>\n",
              "      <th>99</th>\n",
              "      <td>Conclusion and Where to go from here</td>\n",
              "      <td>Python Tutorial - Day #100</td>\n",
              "    </tr>\n",
              "  </tbody>\n",
              "</table>\n",
              "<p>100 rows × 2 columns</p>\n",
              "</div>\n",
              "    <div class=\"colab-df-buttons\">\n",
              "\n",
              "  <div class=\"colab-df-container\">\n",
              "    <button class=\"colab-df-convert\" onclick=\"convertToInteractive('df-962c52e7-4ade-4490-b4fb-057d0a01819d')\"\n",
              "            title=\"Convert this dataframe to an interactive table.\"\n",
              "            style=\"display:none;\">\n",
              "\n",
              "  <svg xmlns=\"http://www.w3.org/2000/svg\" height=\"24px\" viewBox=\"0 -960 960 960\">\n",
              "    <path d=\"M120-120v-720h720v720H120Zm60-500h600v-160H180v160Zm220 220h160v-160H400v160Zm0 220h160v-160H400v160ZM180-400h160v-160H180v160Zm440 0h160v-160H620v160ZM180-180h160v-160H180v160Zm440 0h160v-160H620v160Z\"/>\n",
              "  </svg>\n",
              "    </button>\n",
              "\n",
              "  <style>\n",
              "    .colab-df-container {\n",
              "      display:flex;\n",
              "      gap: 12px;\n",
              "    }\n",
              "\n",
              "    .colab-df-convert {\n",
              "      background-color: #E8F0FE;\n",
              "      border: none;\n",
              "      border-radius: 50%;\n",
              "      cursor: pointer;\n",
              "      display: none;\n",
              "      fill: #1967D2;\n",
              "      height: 32px;\n",
              "      padding: 0 0 0 0;\n",
              "      width: 32px;\n",
              "    }\n",
              "\n",
              "    .colab-df-convert:hover {\n",
              "      background-color: #E2EBFA;\n",
              "      box-shadow: 0px 1px 2px rgba(60, 64, 67, 0.3), 0px 1px 3px 1px rgba(60, 64, 67, 0.15);\n",
              "      fill: #174EA6;\n",
              "    }\n",
              "\n",
              "    .colab-df-buttons div {\n",
              "      margin-bottom: 4px;\n",
              "    }\n",
              "\n",
              "    [theme=dark] .colab-df-convert {\n",
              "      background-color: #3B4455;\n",
              "      fill: #D2E3FC;\n",
              "    }\n",
              "\n",
              "    [theme=dark] .colab-df-convert:hover {\n",
              "      background-color: #434B5C;\n",
              "      box-shadow: 0px 1px 3px 1px rgba(0, 0, 0, 0.15);\n",
              "      filter: drop-shadow(0px 1px 2px rgba(0, 0, 0, 0.3));\n",
              "      fill: #FFFFFF;\n",
              "    }\n",
              "  </style>\n",
              "\n",
              "    <script>\n",
              "      const buttonEl =\n",
              "        document.querySelector('#df-962c52e7-4ade-4490-b4fb-057d0a01819d button.colab-df-convert');\n",
              "      buttonEl.style.display =\n",
              "        google.colab.kernel.accessAllowed ? 'block' : 'none';\n",
              "\n",
              "      async function convertToInteractive(key) {\n",
              "        const element = document.querySelector('#df-962c52e7-4ade-4490-b4fb-057d0a01819d');\n",
              "        const dataTable =\n",
              "          await google.colab.kernel.invokeFunction('convertToInteractive',\n",
              "                                                    [key], {});\n",
              "        if (!dataTable) return;\n",
              "\n",
              "        const docLinkHtml = 'Like what you see? Visit the ' +\n",
              "          '<a target=\"_blank\" href=https://colab.research.google.com/notebooks/data_table.ipynb>data table notebook</a>'\n",
              "          + ' to learn more about interactive tables.';\n",
              "        element.innerHTML = '';\n",
              "        dataTable['output_type'] = 'display_data';\n",
              "        await google.colab.output.renderOutput(dataTable, element);\n",
              "        const docLink = document.createElement('div');\n",
              "        docLink.innerHTML = docLinkHtml;\n",
              "        element.appendChild(docLink);\n",
              "      }\n",
              "    </script>\n",
              "  </div>\n",
              "\n",
              "\n",
              "<div id=\"df-23f117b1-b16a-44a7-bc70-aa3c56d7c383\">\n",
              "  <button class=\"colab-df-quickchart\" onclick=\"quickchart('df-23f117b1-b16a-44a7-bc70-aa3c56d7c383')\"\n",
              "            title=\"Suggest charts\"\n",
              "            style=\"display:none;\">\n",
              "\n",
              "<svg xmlns=\"http://www.w3.org/2000/svg\" height=\"24px\"viewBox=\"0 0 24 24\"\n",
              "     width=\"24px\">\n",
              "    <g>\n",
              "        <path d=\"M19 3H5c-1.1 0-2 .9-2 2v14c0 1.1.9 2 2 2h14c1.1 0 2-.9 2-2V5c0-1.1-.9-2-2-2zM9 17H7v-7h2v7zm4 0h-2V7h2v10zm4 0h-2v-4h2v4z\"/>\n",
              "    </g>\n",
              "</svg>\n",
              "  </button>\n",
              "\n",
              "<style>\n",
              "  .colab-df-quickchart {\n",
              "      --bg-color: #E8F0FE;\n",
              "      --fill-color: #1967D2;\n",
              "      --hover-bg-color: #E2EBFA;\n",
              "      --hover-fill-color: #174EA6;\n",
              "      --disabled-fill-color: #AAA;\n",
              "      --disabled-bg-color: #DDD;\n",
              "  }\n",
              "\n",
              "  [theme=dark] .colab-df-quickchart {\n",
              "      --bg-color: #3B4455;\n",
              "      --fill-color: #D2E3FC;\n",
              "      --hover-bg-color: #434B5C;\n",
              "      --hover-fill-color: #FFFFFF;\n",
              "      --disabled-bg-color: #3B4455;\n",
              "      --disabled-fill-color: #666;\n",
              "  }\n",
              "\n",
              "  .colab-df-quickchart {\n",
              "    background-color: var(--bg-color);\n",
              "    border: none;\n",
              "    border-radius: 50%;\n",
              "    cursor: pointer;\n",
              "    display: none;\n",
              "    fill: var(--fill-color);\n",
              "    height: 32px;\n",
              "    padding: 0;\n",
              "    width: 32px;\n",
              "  }\n",
              "\n",
              "  .colab-df-quickchart:hover {\n",
              "    background-color: var(--hover-bg-color);\n",
              "    box-shadow: 0 1px 2px rgba(60, 64, 67, 0.3), 0 1px 3px 1px rgba(60, 64, 67, 0.15);\n",
              "    fill: var(--button-hover-fill-color);\n",
              "  }\n",
              "\n",
              "  .colab-df-quickchart-complete:disabled,\n",
              "  .colab-df-quickchart-complete:disabled:hover {\n",
              "    background-color: var(--disabled-bg-color);\n",
              "    fill: var(--disabled-fill-color);\n",
              "    box-shadow: none;\n",
              "  }\n",
              "\n",
              "  .colab-df-spinner {\n",
              "    border: 2px solid var(--fill-color);\n",
              "    border-color: transparent;\n",
              "    border-bottom-color: var(--fill-color);\n",
              "    animation:\n",
              "      spin 1s steps(1) infinite;\n",
              "  }\n",
              "\n",
              "  @keyframes spin {\n",
              "    0% {\n",
              "      border-color: transparent;\n",
              "      border-bottom-color: var(--fill-color);\n",
              "      border-left-color: var(--fill-color);\n",
              "    }\n",
              "    20% {\n",
              "      border-color: transparent;\n",
              "      border-left-color: var(--fill-color);\n",
              "      border-top-color: var(--fill-color);\n",
              "    }\n",
              "    30% {\n",
              "      border-color: transparent;\n",
              "      border-left-color: var(--fill-color);\n",
              "      border-top-color: var(--fill-color);\n",
              "      border-right-color: var(--fill-color);\n",
              "    }\n",
              "    40% {\n",
              "      border-color: transparent;\n",
              "      border-right-color: var(--fill-color);\n",
              "      border-top-color: var(--fill-color);\n",
              "    }\n",
              "    60% {\n",
              "      border-color: transparent;\n",
              "      border-right-color: var(--fill-color);\n",
              "    }\n",
              "    80% {\n",
              "      border-color: transparent;\n",
              "      border-right-color: var(--fill-color);\n",
              "      border-bottom-color: var(--fill-color);\n",
              "    }\n",
              "    90% {\n",
              "      border-color: transparent;\n",
              "      border-bottom-color: var(--fill-color);\n",
              "    }\n",
              "  }\n",
              "</style>\n",
              "\n",
              "  <script>\n",
              "    async function quickchart(key) {\n",
              "      const quickchartButtonEl =\n",
              "        document.querySelector('#' + key + ' button');\n",
              "      quickchartButtonEl.disabled = true;  // To prevent multiple clicks.\n",
              "      quickchartButtonEl.classList.add('colab-df-spinner');\n",
              "      try {\n",
              "        const charts = await google.colab.kernel.invokeFunction(\n",
              "            'suggestCharts', [key], {});\n",
              "      } catch (error) {\n",
              "        console.error('Error during call to suggestCharts:', error);\n",
              "      }\n",
              "      quickchartButtonEl.classList.remove('colab-df-spinner');\n",
              "      quickchartButtonEl.classList.add('colab-df-quickchart-complete');\n",
              "    }\n",
              "    (() => {\n",
              "      let quickchartButtonEl =\n",
              "        document.querySelector('#df-23f117b1-b16a-44a7-bc70-aa3c56d7c383 button');\n",
              "      quickchartButtonEl.style.display =\n",
              "        google.colab.kernel.accessAllowed ? 'block' : 'none';\n",
              "    })();\n",
              "  </script>\n",
              "</div>\n",
              "\n",
              "  <div id=\"id_8a37f877-672d-420f-83cf-7d4726bb08a7\">\n",
              "    <style>\n",
              "      .colab-df-generate {\n",
              "        background-color: #E8F0FE;\n",
              "        border: none;\n",
              "        border-radius: 50%;\n",
              "        cursor: pointer;\n",
              "        display: none;\n",
              "        fill: #1967D2;\n",
              "        height: 32px;\n",
              "        padding: 0 0 0 0;\n",
              "        width: 32px;\n",
              "      }\n",
              "\n",
              "      .colab-df-generate:hover {\n",
              "        background-color: #E2EBFA;\n",
              "        box-shadow: 0px 1px 2px rgba(60, 64, 67, 0.3), 0px 1px 3px 1px rgba(60, 64, 67, 0.15);\n",
              "        fill: #174EA6;\n",
              "      }\n",
              "\n",
              "      [theme=dark] .colab-df-generate {\n",
              "        background-color: #3B4455;\n",
              "        fill: #D2E3FC;\n",
              "      }\n",
              "\n",
              "      [theme=dark] .colab-df-generate:hover {\n",
              "        background-color: #434B5C;\n",
              "        box-shadow: 0px 1px 3px 1px rgba(0, 0, 0, 0.15);\n",
              "        filter: drop-shadow(0px 1px 2px rgba(0, 0, 0, 0.3));\n",
              "        fill: #FFFFFF;\n",
              "      }\n",
              "    </style>\n",
              "    <button class=\"colab-df-generate\" onclick=\"generateWithVariable('df')\"\n",
              "            title=\"Generate code using this dataframe.\"\n",
              "            style=\"display:none;\">\n",
              "\n",
              "  <svg xmlns=\"http://www.w3.org/2000/svg\" height=\"24px\"viewBox=\"0 0 24 24\"\n",
              "       width=\"24px\">\n",
              "    <path d=\"M7,19H8.4L18.45,9,17,7.55,7,17.6ZM5,21V16.75L18.45,3.32a2,2,0,0,1,2.83,0l1.4,1.43a1.91,1.91,0,0,1,.58,1.4,1.91,1.91,0,0,1-.58,1.4L9.25,21ZM18.45,9,17,7.55Zm-12,3A5.31,5.31,0,0,0,4.9,8.1,5.31,5.31,0,0,0,1,6.5,5.31,5.31,0,0,0,4.9,4.9,5.31,5.31,0,0,0,6.5,1,5.31,5.31,0,0,0,8.1,4.9,5.31,5.31,0,0,0,12,6.5,5.46,5.46,0,0,0,6.5,12Z\"/>\n",
              "  </svg>\n",
              "    </button>\n",
              "    <script>\n",
              "      (() => {\n",
              "      const buttonEl =\n",
              "        document.querySelector('#id_8a37f877-672d-420f-83cf-7d4726bb08a7 button.colab-df-generate');\n",
              "      buttonEl.style.display =\n",
              "        google.colab.kernel.accessAllowed ? 'block' : 'none';\n",
              "\n",
              "      buttonEl.onclick = () => {\n",
              "        google.colab.notebook.generateWithVariable('df');\n",
              "      }\n",
              "      })();\n",
              "    </script>\n",
              "  </div>\n",
              "\n",
              "    </div>\n",
              "  </div>\n"
            ],
            "application/vnd.google.colaboratory.intrinsic+json": {
              "type": "dataframe",
              "variable_name": "df",
              "summary": "{\n  \"name\": \"df\",\n  \"rows\": 100,\n  \"fields\": [\n    {\n      \"column\": \"Video_title\",\n      \"properties\": {\n        \"dtype\": \"string\",\n        \"num_unique_values\": 100,\n        \"samples\": [\n          \"Time Module in Python \",\n          \"'is' vs '==' in Python \",\n          \"dir, __dict__ and help method in Python \"\n        ],\n        \"semantic_type\": \"\",\n        \"description\": \"\"\n      }\n    },\n    {\n      \"column\": \"Day_Num\",\n      \"properties\": {\n        \"dtype\": \"string\",\n        \"num_unique_values\": 100,\n        \"samples\": [\n          \" Python Tutorial - Day #84\",\n          \" Python Tutorial - Day #54\",\n          \" Python Tutorial - Day #71\"\n        ],\n        \"semantic_type\": \"\",\n        \"description\": \"\"\n      }\n    }\n  ]\n}"
            }
          },
          "metadata": {},
          "execution_count": 7
        }
      ]
    },
    {
      "cell_type": "code",
      "source": [
        "df['Day_Num']=df['Day_Num'].str.replace('Python Tutorial - ','')\n",
        "df"
      ],
      "metadata": {
        "id": "iZJwY2L5Nc7e",
        "colab": {
          "base_uri": "https://localhost:8080/",
          "height": 424
        },
        "outputId": "b76ab8c0-c09f-4048-d46e-9652b89cdeb1"
      },
      "execution_count": null,
      "outputs": [
        {
          "output_type": "execute_result",
          "data": {
            "text/plain": [
              "                                          Video_title    Day_Num\n",
              "0               Introduction to Programming & Python      Day #1\n",
              "1   Some Amazing Python Programs - The Power of Py...     Day #2\n",
              "2                                    Modules and Pip      Day #3\n",
              "3                           Our First Python Program      Day #4\n",
              "4       Comments, Escape Sequences & Print Statement      Day #5\n",
              "..                                                ...        ...\n",
              "95                                 AsyncIO in Python     Day #96\n",
              "96                          Multithreading in Python     Day #97\n",
              "97                         MultiProcessing in Python     Day #98\n",
              "98  Exercise 11: Solution + Shoutouts - Desktop No...    Day #99\n",
              "99              Conclusion and Where to go from here    Day #100\n",
              "\n",
              "[100 rows x 2 columns]"
            ],
            "text/html": [
              "\n",
              "  <div id=\"df-9829368f-e886-4f68-9f57-bf821a68f328\" class=\"colab-df-container\">\n",
              "    <div>\n",
              "<style scoped>\n",
              "    .dataframe tbody tr th:only-of-type {\n",
              "        vertical-align: middle;\n",
              "    }\n",
              "\n",
              "    .dataframe tbody tr th {\n",
              "        vertical-align: top;\n",
              "    }\n",
              "\n",
              "    .dataframe thead th {\n",
              "        text-align: right;\n",
              "    }\n",
              "</style>\n",
              "<table border=\"1\" class=\"dataframe\">\n",
              "  <thead>\n",
              "    <tr style=\"text-align: right;\">\n",
              "      <th></th>\n",
              "      <th>Video_title</th>\n",
              "      <th>Day_Num</th>\n",
              "    </tr>\n",
              "  </thead>\n",
              "  <tbody>\n",
              "    <tr>\n",
              "      <th>0</th>\n",
              "      <td>Introduction to Programming &amp; Python</td>\n",
              "      <td>Day #1</td>\n",
              "    </tr>\n",
              "    <tr>\n",
              "      <th>1</th>\n",
              "      <td>Some Amazing Python Programs - The Power of Py...</td>\n",
              "      <td>Day #2</td>\n",
              "    </tr>\n",
              "    <tr>\n",
              "      <th>2</th>\n",
              "      <td>Modules and Pip</td>\n",
              "      <td>Day #3</td>\n",
              "    </tr>\n",
              "    <tr>\n",
              "      <th>3</th>\n",
              "      <td>Our First Python Program</td>\n",
              "      <td>Day #4</td>\n",
              "    </tr>\n",
              "    <tr>\n",
              "      <th>4</th>\n",
              "      <td>Comments, Escape Sequences &amp; Print Statement</td>\n",
              "      <td>Day #5</td>\n",
              "    </tr>\n",
              "    <tr>\n",
              "      <th>...</th>\n",
              "      <td>...</td>\n",
              "      <td>...</td>\n",
              "    </tr>\n",
              "    <tr>\n",
              "      <th>95</th>\n",
              "      <td>AsyncIO in Python</td>\n",
              "      <td>Day #96</td>\n",
              "    </tr>\n",
              "    <tr>\n",
              "      <th>96</th>\n",
              "      <td>Multithreading in Python</td>\n",
              "      <td>Day #97</td>\n",
              "    </tr>\n",
              "    <tr>\n",
              "      <th>97</th>\n",
              "      <td>MultiProcessing in Python</td>\n",
              "      <td>Day #98</td>\n",
              "    </tr>\n",
              "    <tr>\n",
              "      <th>98</th>\n",
              "      <td>Exercise 11: Solution + Shoutouts - Desktop No...</td>\n",
              "      <td>Day #99</td>\n",
              "    </tr>\n",
              "    <tr>\n",
              "      <th>99</th>\n",
              "      <td>Conclusion and Where to go from here</td>\n",
              "      <td>Day #100</td>\n",
              "    </tr>\n",
              "  </tbody>\n",
              "</table>\n",
              "<p>100 rows × 2 columns</p>\n",
              "</div>\n",
              "    <div class=\"colab-df-buttons\">\n",
              "\n",
              "  <div class=\"colab-df-container\">\n",
              "    <button class=\"colab-df-convert\" onclick=\"convertToInteractive('df-9829368f-e886-4f68-9f57-bf821a68f328')\"\n",
              "            title=\"Convert this dataframe to an interactive table.\"\n",
              "            style=\"display:none;\">\n",
              "\n",
              "  <svg xmlns=\"http://www.w3.org/2000/svg\" height=\"24px\" viewBox=\"0 -960 960 960\">\n",
              "    <path d=\"M120-120v-720h720v720H120Zm60-500h600v-160H180v160Zm220 220h160v-160H400v160Zm0 220h160v-160H400v160ZM180-400h160v-160H180v160Zm440 0h160v-160H620v160ZM180-180h160v-160H180v160Zm440 0h160v-160H620v160Z\"/>\n",
              "  </svg>\n",
              "    </button>\n",
              "\n",
              "  <style>\n",
              "    .colab-df-container {\n",
              "      display:flex;\n",
              "      gap: 12px;\n",
              "    }\n",
              "\n",
              "    .colab-df-convert {\n",
              "      background-color: #E8F0FE;\n",
              "      border: none;\n",
              "      border-radius: 50%;\n",
              "      cursor: pointer;\n",
              "      display: none;\n",
              "      fill: #1967D2;\n",
              "      height: 32px;\n",
              "      padding: 0 0 0 0;\n",
              "      width: 32px;\n",
              "    }\n",
              "\n",
              "    .colab-df-convert:hover {\n",
              "      background-color: #E2EBFA;\n",
              "      box-shadow: 0px 1px 2px rgba(60, 64, 67, 0.3), 0px 1px 3px 1px rgba(60, 64, 67, 0.15);\n",
              "      fill: #174EA6;\n",
              "    }\n",
              "\n",
              "    .colab-df-buttons div {\n",
              "      margin-bottom: 4px;\n",
              "    }\n",
              "\n",
              "    [theme=dark] .colab-df-convert {\n",
              "      background-color: #3B4455;\n",
              "      fill: #D2E3FC;\n",
              "    }\n",
              "\n",
              "    [theme=dark] .colab-df-convert:hover {\n",
              "      background-color: #434B5C;\n",
              "      box-shadow: 0px 1px 3px 1px rgba(0, 0, 0, 0.15);\n",
              "      filter: drop-shadow(0px 1px 2px rgba(0, 0, 0, 0.3));\n",
              "      fill: #FFFFFF;\n",
              "    }\n",
              "  </style>\n",
              "\n",
              "    <script>\n",
              "      const buttonEl =\n",
              "        document.querySelector('#df-9829368f-e886-4f68-9f57-bf821a68f328 button.colab-df-convert');\n",
              "      buttonEl.style.display =\n",
              "        google.colab.kernel.accessAllowed ? 'block' : 'none';\n",
              "\n",
              "      async function convertToInteractive(key) {\n",
              "        const element = document.querySelector('#df-9829368f-e886-4f68-9f57-bf821a68f328');\n",
              "        const dataTable =\n",
              "          await google.colab.kernel.invokeFunction('convertToInteractive',\n",
              "                                                    [key], {});\n",
              "        if (!dataTable) return;\n",
              "\n",
              "        const docLinkHtml = 'Like what you see? Visit the ' +\n",
              "          '<a target=\"_blank\" href=https://colab.research.google.com/notebooks/data_table.ipynb>data table notebook</a>'\n",
              "          + ' to learn more about interactive tables.';\n",
              "        element.innerHTML = '';\n",
              "        dataTable['output_type'] = 'display_data';\n",
              "        await google.colab.output.renderOutput(dataTable, element);\n",
              "        const docLink = document.createElement('div');\n",
              "        docLink.innerHTML = docLinkHtml;\n",
              "        element.appendChild(docLink);\n",
              "      }\n",
              "    </script>\n",
              "  </div>\n",
              "\n",
              "\n",
              "<div id=\"df-13e7ec80-3429-4cc8-8c8a-c057ae5e5c08\">\n",
              "  <button class=\"colab-df-quickchart\" onclick=\"quickchart('df-13e7ec80-3429-4cc8-8c8a-c057ae5e5c08')\"\n",
              "            title=\"Suggest charts\"\n",
              "            style=\"display:none;\">\n",
              "\n",
              "<svg xmlns=\"http://www.w3.org/2000/svg\" height=\"24px\"viewBox=\"0 0 24 24\"\n",
              "     width=\"24px\">\n",
              "    <g>\n",
              "        <path d=\"M19 3H5c-1.1 0-2 .9-2 2v14c0 1.1.9 2 2 2h14c1.1 0 2-.9 2-2V5c0-1.1-.9-2-2-2zM9 17H7v-7h2v7zm4 0h-2V7h2v10zm4 0h-2v-4h2v4z\"/>\n",
              "    </g>\n",
              "</svg>\n",
              "  </button>\n",
              "\n",
              "<style>\n",
              "  .colab-df-quickchart {\n",
              "      --bg-color: #E8F0FE;\n",
              "      --fill-color: #1967D2;\n",
              "      --hover-bg-color: #E2EBFA;\n",
              "      --hover-fill-color: #174EA6;\n",
              "      --disabled-fill-color: #AAA;\n",
              "      --disabled-bg-color: #DDD;\n",
              "  }\n",
              "\n",
              "  [theme=dark] .colab-df-quickchart {\n",
              "      --bg-color: #3B4455;\n",
              "      --fill-color: #D2E3FC;\n",
              "      --hover-bg-color: #434B5C;\n",
              "      --hover-fill-color: #FFFFFF;\n",
              "      --disabled-bg-color: #3B4455;\n",
              "      --disabled-fill-color: #666;\n",
              "  }\n",
              "\n",
              "  .colab-df-quickchart {\n",
              "    background-color: var(--bg-color);\n",
              "    border: none;\n",
              "    border-radius: 50%;\n",
              "    cursor: pointer;\n",
              "    display: none;\n",
              "    fill: var(--fill-color);\n",
              "    height: 32px;\n",
              "    padding: 0;\n",
              "    width: 32px;\n",
              "  }\n",
              "\n",
              "  .colab-df-quickchart:hover {\n",
              "    background-color: var(--hover-bg-color);\n",
              "    box-shadow: 0 1px 2px rgba(60, 64, 67, 0.3), 0 1px 3px 1px rgba(60, 64, 67, 0.15);\n",
              "    fill: var(--button-hover-fill-color);\n",
              "  }\n",
              "\n",
              "  .colab-df-quickchart-complete:disabled,\n",
              "  .colab-df-quickchart-complete:disabled:hover {\n",
              "    background-color: var(--disabled-bg-color);\n",
              "    fill: var(--disabled-fill-color);\n",
              "    box-shadow: none;\n",
              "  }\n",
              "\n",
              "  .colab-df-spinner {\n",
              "    border: 2px solid var(--fill-color);\n",
              "    border-color: transparent;\n",
              "    border-bottom-color: var(--fill-color);\n",
              "    animation:\n",
              "      spin 1s steps(1) infinite;\n",
              "  }\n",
              "\n",
              "  @keyframes spin {\n",
              "    0% {\n",
              "      border-color: transparent;\n",
              "      border-bottom-color: var(--fill-color);\n",
              "      border-left-color: var(--fill-color);\n",
              "    }\n",
              "    20% {\n",
              "      border-color: transparent;\n",
              "      border-left-color: var(--fill-color);\n",
              "      border-top-color: var(--fill-color);\n",
              "    }\n",
              "    30% {\n",
              "      border-color: transparent;\n",
              "      border-left-color: var(--fill-color);\n",
              "      border-top-color: var(--fill-color);\n",
              "      border-right-color: var(--fill-color);\n",
              "    }\n",
              "    40% {\n",
              "      border-color: transparent;\n",
              "      border-right-color: var(--fill-color);\n",
              "      border-top-color: var(--fill-color);\n",
              "    }\n",
              "    60% {\n",
              "      border-color: transparent;\n",
              "      border-right-color: var(--fill-color);\n",
              "    }\n",
              "    80% {\n",
              "      border-color: transparent;\n",
              "      border-right-color: var(--fill-color);\n",
              "      border-bottom-color: var(--fill-color);\n",
              "    }\n",
              "    90% {\n",
              "      border-color: transparent;\n",
              "      border-bottom-color: var(--fill-color);\n",
              "    }\n",
              "  }\n",
              "</style>\n",
              "\n",
              "  <script>\n",
              "    async function quickchart(key) {\n",
              "      const quickchartButtonEl =\n",
              "        document.querySelector('#' + key + ' button');\n",
              "      quickchartButtonEl.disabled = true;  // To prevent multiple clicks.\n",
              "      quickchartButtonEl.classList.add('colab-df-spinner');\n",
              "      try {\n",
              "        const charts = await google.colab.kernel.invokeFunction(\n",
              "            'suggestCharts', [key], {});\n",
              "      } catch (error) {\n",
              "        console.error('Error during call to suggestCharts:', error);\n",
              "      }\n",
              "      quickchartButtonEl.classList.remove('colab-df-spinner');\n",
              "      quickchartButtonEl.classList.add('colab-df-quickchart-complete');\n",
              "    }\n",
              "    (() => {\n",
              "      let quickchartButtonEl =\n",
              "        document.querySelector('#df-13e7ec80-3429-4cc8-8c8a-c057ae5e5c08 button');\n",
              "      quickchartButtonEl.style.display =\n",
              "        google.colab.kernel.accessAllowed ? 'block' : 'none';\n",
              "    })();\n",
              "  </script>\n",
              "</div>\n",
              "\n",
              "  <div id=\"id_5b15e208-f3d9-40e2-8cdf-dfd42d2f4811\">\n",
              "    <style>\n",
              "      .colab-df-generate {\n",
              "        background-color: #E8F0FE;\n",
              "        border: none;\n",
              "        border-radius: 50%;\n",
              "        cursor: pointer;\n",
              "        display: none;\n",
              "        fill: #1967D2;\n",
              "        height: 32px;\n",
              "        padding: 0 0 0 0;\n",
              "        width: 32px;\n",
              "      }\n",
              "\n",
              "      .colab-df-generate:hover {\n",
              "        background-color: #E2EBFA;\n",
              "        box-shadow: 0px 1px 2px rgba(60, 64, 67, 0.3), 0px 1px 3px 1px rgba(60, 64, 67, 0.15);\n",
              "        fill: #174EA6;\n",
              "      }\n",
              "\n",
              "      [theme=dark] .colab-df-generate {\n",
              "        background-color: #3B4455;\n",
              "        fill: #D2E3FC;\n",
              "      }\n",
              "\n",
              "      [theme=dark] .colab-df-generate:hover {\n",
              "        background-color: #434B5C;\n",
              "        box-shadow: 0px 1px 3px 1px rgba(0, 0, 0, 0.15);\n",
              "        filter: drop-shadow(0px 1px 2px rgba(0, 0, 0, 0.3));\n",
              "        fill: #FFFFFF;\n",
              "      }\n",
              "    </style>\n",
              "    <button class=\"colab-df-generate\" onclick=\"generateWithVariable('df')\"\n",
              "            title=\"Generate code using this dataframe.\"\n",
              "            style=\"display:none;\">\n",
              "\n",
              "  <svg xmlns=\"http://www.w3.org/2000/svg\" height=\"24px\"viewBox=\"0 0 24 24\"\n",
              "       width=\"24px\">\n",
              "    <path d=\"M7,19H8.4L18.45,9,17,7.55,7,17.6ZM5,21V16.75L18.45,3.32a2,2,0,0,1,2.83,0l1.4,1.43a1.91,1.91,0,0,1,.58,1.4,1.91,1.91,0,0,1-.58,1.4L9.25,21ZM18.45,9,17,7.55Zm-12,3A5.31,5.31,0,0,0,4.9,8.1,5.31,5.31,0,0,0,1,6.5,5.31,5.31,0,0,0,4.9,4.9,5.31,5.31,0,0,0,6.5,1,5.31,5.31,0,0,0,8.1,4.9,5.31,5.31,0,0,0,12,6.5,5.46,5.46,0,0,0,6.5,12Z\"/>\n",
              "  </svg>\n",
              "    </button>\n",
              "    <script>\n",
              "      (() => {\n",
              "      const buttonEl =\n",
              "        document.querySelector('#id_5b15e208-f3d9-40e2-8cdf-dfd42d2f4811 button.colab-df-generate');\n",
              "      buttonEl.style.display =\n",
              "        google.colab.kernel.accessAllowed ? 'block' : 'none';\n",
              "\n",
              "      buttonEl.onclick = () => {\n",
              "        google.colab.notebook.generateWithVariable('df');\n",
              "      }\n",
              "      })();\n",
              "    </script>\n",
              "  </div>\n",
              "\n",
              "    </div>\n",
              "  </div>\n"
            ],
            "application/vnd.google.colaboratory.intrinsic+json": {
              "type": "dataframe",
              "variable_name": "df",
              "summary": "{\n  \"name\": \"df\",\n  \"rows\": 100,\n  \"fields\": [\n    {\n      \"column\": \"Video_title\",\n      \"properties\": {\n        \"dtype\": \"string\",\n        \"num_unique_values\": 100,\n        \"samples\": [\n          \"Time Module in Python \",\n          \"'is' vs '==' in Python \",\n          \"dir, __dict__ and help method in Python \"\n        ],\n        \"semantic_type\": \"\",\n        \"description\": \"\"\n      }\n    },\n    {\n      \"column\": \"Day_Num\",\n      \"properties\": {\n        \"dtype\": \"string\",\n        \"num_unique_values\": 100,\n        \"samples\": [\n          \" Day #84\",\n          \" Day #54\",\n          \" Day #71\"\n        ],\n        \"semantic_type\": \"\",\n        \"description\": \"\"\n      }\n    }\n  ]\n}"
            }
          },
          "metadata": {},
          "execution_count": 8
        }
      ]
    },
    {
      "cell_type": "code",
      "source": [
        "df['Completion']='Incomplete'\n",
        "df"
      ],
      "metadata": {
        "id": "PQSUZtyXX2qw",
        "colab": {
          "base_uri": "https://localhost:8080/",
          "height": 424
        },
        "outputId": "cd4e7ed6-07d9-4cc3-edc5-1a550e49ade3"
      },
      "execution_count": null,
      "outputs": [
        {
          "output_type": "execute_result",
          "data": {
            "text/plain": [
              "                                          Video_title    Day_Num  Completion\n",
              "0               Introduction to Programming & Python      Day #1  Incomplete\n",
              "1   Some Amazing Python Programs - The Power of Py...     Day #2  Incomplete\n",
              "2                                    Modules and Pip      Day #3  Incomplete\n",
              "3                           Our First Python Program      Day #4  Incomplete\n",
              "4       Comments, Escape Sequences & Print Statement      Day #5  Incomplete\n",
              "..                                                ...        ...         ...\n",
              "95                                 AsyncIO in Python     Day #96  Incomplete\n",
              "96                          Multithreading in Python     Day #97  Incomplete\n",
              "97                         MultiProcessing in Python     Day #98  Incomplete\n",
              "98  Exercise 11: Solution + Shoutouts - Desktop No...    Day #99  Incomplete\n",
              "99              Conclusion and Where to go from here    Day #100  Incomplete\n",
              "\n",
              "[100 rows x 3 columns]"
            ],
            "text/html": [
              "\n",
              "  <div id=\"df-6e79f734-0874-4359-8dff-1cdc7b4a347b\" class=\"colab-df-container\">\n",
              "    <div>\n",
              "<style scoped>\n",
              "    .dataframe tbody tr th:only-of-type {\n",
              "        vertical-align: middle;\n",
              "    }\n",
              "\n",
              "    .dataframe tbody tr th {\n",
              "        vertical-align: top;\n",
              "    }\n",
              "\n",
              "    .dataframe thead th {\n",
              "        text-align: right;\n",
              "    }\n",
              "</style>\n",
              "<table border=\"1\" class=\"dataframe\">\n",
              "  <thead>\n",
              "    <tr style=\"text-align: right;\">\n",
              "      <th></th>\n",
              "      <th>Video_title</th>\n",
              "      <th>Day_Num</th>\n",
              "      <th>Completion</th>\n",
              "    </tr>\n",
              "  </thead>\n",
              "  <tbody>\n",
              "    <tr>\n",
              "      <th>0</th>\n",
              "      <td>Introduction to Programming &amp; Python</td>\n",
              "      <td>Day #1</td>\n",
              "      <td>Incomplete</td>\n",
              "    </tr>\n",
              "    <tr>\n",
              "      <th>1</th>\n",
              "      <td>Some Amazing Python Programs - The Power of Py...</td>\n",
              "      <td>Day #2</td>\n",
              "      <td>Incomplete</td>\n",
              "    </tr>\n",
              "    <tr>\n",
              "      <th>2</th>\n",
              "      <td>Modules and Pip</td>\n",
              "      <td>Day #3</td>\n",
              "      <td>Incomplete</td>\n",
              "    </tr>\n",
              "    <tr>\n",
              "      <th>3</th>\n",
              "      <td>Our First Python Program</td>\n",
              "      <td>Day #4</td>\n",
              "      <td>Incomplete</td>\n",
              "    </tr>\n",
              "    <tr>\n",
              "      <th>4</th>\n",
              "      <td>Comments, Escape Sequences &amp; Print Statement</td>\n",
              "      <td>Day #5</td>\n",
              "      <td>Incomplete</td>\n",
              "    </tr>\n",
              "    <tr>\n",
              "      <th>...</th>\n",
              "      <td>...</td>\n",
              "      <td>...</td>\n",
              "      <td>...</td>\n",
              "    </tr>\n",
              "    <tr>\n",
              "      <th>95</th>\n",
              "      <td>AsyncIO in Python</td>\n",
              "      <td>Day #96</td>\n",
              "      <td>Incomplete</td>\n",
              "    </tr>\n",
              "    <tr>\n",
              "      <th>96</th>\n",
              "      <td>Multithreading in Python</td>\n",
              "      <td>Day #97</td>\n",
              "      <td>Incomplete</td>\n",
              "    </tr>\n",
              "    <tr>\n",
              "      <th>97</th>\n",
              "      <td>MultiProcessing in Python</td>\n",
              "      <td>Day #98</td>\n",
              "      <td>Incomplete</td>\n",
              "    </tr>\n",
              "    <tr>\n",
              "      <th>98</th>\n",
              "      <td>Exercise 11: Solution + Shoutouts - Desktop No...</td>\n",
              "      <td>Day #99</td>\n",
              "      <td>Incomplete</td>\n",
              "    </tr>\n",
              "    <tr>\n",
              "      <th>99</th>\n",
              "      <td>Conclusion and Where to go from here</td>\n",
              "      <td>Day #100</td>\n",
              "      <td>Incomplete</td>\n",
              "    </tr>\n",
              "  </tbody>\n",
              "</table>\n",
              "<p>100 rows × 3 columns</p>\n",
              "</div>\n",
              "    <div class=\"colab-df-buttons\">\n",
              "\n",
              "  <div class=\"colab-df-container\">\n",
              "    <button class=\"colab-df-convert\" onclick=\"convertToInteractive('df-6e79f734-0874-4359-8dff-1cdc7b4a347b')\"\n",
              "            title=\"Convert this dataframe to an interactive table.\"\n",
              "            style=\"display:none;\">\n",
              "\n",
              "  <svg xmlns=\"http://www.w3.org/2000/svg\" height=\"24px\" viewBox=\"0 -960 960 960\">\n",
              "    <path d=\"M120-120v-720h720v720H120Zm60-500h600v-160H180v160Zm220 220h160v-160H400v160Zm0 220h160v-160H400v160ZM180-400h160v-160H180v160Zm440 0h160v-160H620v160ZM180-180h160v-160H180v160Zm440 0h160v-160H620v160Z\"/>\n",
              "  </svg>\n",
              "    </button>\n",
              "\n",
              "  <style>\n",
              "    .colab-df-container {\n",
              "      display:flex;\n",
              "      gap: 12px;\n",
              "    }\n",
              "\n",
              "    .colab-df-convert {\n",
              "      background-color: #E8F0FE;\n",
              "      border: none;\n",
              "      border-radius: 50%;\n",
              "      cursor: pointer;\n",
              "      display: none;\n",
              "      fill: #1967D2;\n",
              "      height: 32px;\n",
              "      padding: 0 0 0 0;\n",
              "      width: 32px;\n",
              "    }\n",
              "\n",
              "    .colab-df-convert:hover {\n",
              "      background-color: #E2EBFA;\n",
              "      box-shadow: 0px 1px 2px rgba(60, 64, 67, 0.3), 0px 1px 3px 1px rgba(60, 64, 67, 0.15);\n",
              "      fill: #174EA6;\n",
              "    }\n",
              "\n",
              "    .colab-df-buttons div {\n",
              "      margin-bottom: 4px;\n",
              "    }\n",
              "\n",
              "    [theme=dark] .colab-df-convert {\n",
              "      background-color: #3B4455;\n",
              "      fill: #D2E3FC;\n",
              "    }\n",
              "\n",
              "    [theme=dark] .colab-df-convert:hover {\n",
              "      background-color: #434B5C;\n",
              "      box-shadow: 0px 1px 3px 1px rgba(0, 0, 0, 0.15);\n",
              "      filter: drop-shadow(0px 1px 2px rgba(0, 0, 0, 0.3));\n",
              "      fill: #FFFFFF;\n",
              "    }\n",
              "  </style>\n",
              "\n",
              "    <script>\n",
              "      const buttonEl =\n",
              "        document.querySelector('#df-6e79f734-0874-4359-8dff-1cdc7b4a347b button.colab-df-convert');\n",
              "      buttonEl.style.display =\n",
              "        google.colab.kernel.accessAllowed ? 'block' : 'none';\n",
              "\n",
              "      async function convertToInteractive(key) {\n",
              "        const element = document.querySelector('#df-6e79f734-0874-4359-8dff-1cdc7b4a347b');\n",
              "        const dataTable =\n",
              "          await google.colab.kernel.invokeFunction('convertToInteractive',\n",
              "                                                    [key], {});\n",
              "        if (!dataTable) return;\n",
              "\n",
              "        const docLinkHtml = 'Like what you see? Visit the ' +\n",
              "          '<a target=\"_blank\" href=https://colab.research.google.com/notebooks/data_table.ipynb>data table notebook</a>'\n",
              "          + ' to learn more about interactive tables.';\n",
              "        element.innerHTML = '';\n",
              "        dataTable['output_type'] = 'display_data';\n",
              "        await google.colab.output.renderOutput(dataTable, element);\n",
              "        const docLink = document.createElement('div');\n",
              "        docLink.innerHTML = docLinkHtml;\n",
              "        element.appendChild(docLink);\n",
              "      }\n",
              "    </script>\n",
              "  </div>\n",
              "\n",
              "\n",
              "<div id=\"df-7f0adc43-281b-4805-9bdd-7a0087d2503e\">\n",
              "  <button class=\"colab-df-quickchart\" onclick=\"quickchart('df-7f0adc43-281b-4805-9bdd-7a0087d2503e')\"\n",
              "            title=\"Suggest charts\"\n",
              "            style=\"display:none;\">\n",
              "\n",
              "<svg xmlns=\"http://www.w3.org/2000/svg\" height=\"24px\"viewBox=\"0 0 24 24\"\n",
              "     width=\"24px\">\n",
              "    <g>\n",
              "        <path d=\"M19 3H5c-1.1 0-2 .9-2 2v14c0 1.1.9 2 2 2h14c1.1 0 2-.9 2-2V5c0-1.1-.9-2-2-2zM9 17H7v-7h2v7zm4 0h-2V7h2v10zm4 0h-2v-4h2v4z\"/>\n",
              "    </g>\n",
              "</svg>\n",
              "  </button>\n",
              "\n",
              "<style>\n",
              "  .colab-df-quickchart {\n",
              "      --bg-color: #E8F0FE;\n",
              "      --fill-color: #1967D2;\n",
              "      --hover-bg-color: #E2EBFA;\n",
              "      --hover-fill-color: #174EA6;\n",
              "      --disabled-fill-color: #AAA;\n",
              "      --disabled-bg-color: #DDD;\n",
              "  }\n",
              "\n",
              "  [theme=dark] .colab-df-quickchart {\n",
              "      --bg-color: #3B4455;\n",
              "      --fill-color: #D2E3FC;\n",
              "      --hover-bg-color: #434B5C;\n",
              "      --hover-fill-color: #FFFFFF;\n",
              "      --disabled-bg-color: #3B4455;\n",
              "      --disabled-fill-color: #666;\n",
              "  }\n",
              "\n",
              "  .colab-df-quickchart {\n",
              "    background-color: var(--bg-color);\n",
              "    border: none;\n",
              "    border-radius: 50%;\n",
              "    cursor: pointer;\n",
              "    display: none;\n",
              "    fill: var(--fill-color);\n",
              "    height: 32px;\n",
              "    padding: 0;\n",
              "    width: 32px;\n",
              "  }\n",
              "\n",
              "  .colab-df-quickchart:hover {\n",
              "    background-color: var(--hover-bg-color);\n",
              "    box-shadow: 0 1px 2px rgba(60, 64, 67, 0.3), 0 1px 3px 1px rgba(60, 64, 67, 0.15);\n",
              "    fill: var(--button-hover-fill-color);\n",
              "  }\n",
              "\n",
              "  .colab-df-quickchart-complete:disabled,\n",
              "  .colab-df-quickchart-complete:disabled:hover {\n",
              "    background-color: var(--disabled-bg-color);\n",
              "    fill: var(--disabled-fill-color);\n",
              "    box-shadow: none;\n",
              "  }\n",
              "\n",
              "  .colab-df-spinner {\n",
              "    border: 2px solid var(--fill-color);\n",
              "    border-color: transparent;\n",
              "    border-bottom-color: var(--fill-color);\n",
              "    animation:\n",
              "      spin 1s steps(1) infinite;\n",
              "  }\n",
              "\n",
              "  @keyframes spin {\n",
              "    0% {\n",
              "      border-color: transparent;\n",
              "      border-bottom-color: var(--fill-color);\n",
              "      border-left-color: var(--fill-color);\n",
              "    }\n",
              "    20% {\n",
              "      border-color: transparent;\n",
              "      border-left-color: var(--fill-color);\n",
              "      border-top-color: var(--fill-color);\n",
              "    }\n",
              "    30% {\n",
              "      border-color: transparent;\n",
              "      border-left-color: var(--fill-color);\n",
              "      border-top-color: var(--fill-color);\n",
              "      border-right-color: var(--fill-color);\n",
              "    }\n",
              "    40% {\n",
              "      border-color: transparent;\n",
              "      border-right-color: var(--fill-color);\n",
              "      border-top-color: var(--fill-color);\n",
              "    }\n",
              "    60% {\n",
              "      border-color: transparent;\n",
              "      border-right-color: var(--fill-color);\n",
              "    }\n",
              "    80% {\n",
              "      border-color: transparent;\n",
              "      border-right-color: var(--fill-color);\n",
              "      border-bottom-color: var(--fill-color);\n",
              "    }\n",
              "    90% {\n",
              "      border-color: transparent;\n",
              "      border-bottom-color: var(--fill-color);\n",
              "    }\n",
              "  }\n",
              "</style>\n",
              "\n",
              "  <script>\n",
              "    async function quickchart(key) {\n",
              "      const quickchartButtonEl =\n",
              "        document.querySelector('#' + key + ' button');\n",
              "      quickchartButtonEl.disabled = true;  // To prevent multiple clicks.\n",
              "      quickchartButtonEl.classList.add('colab-df-spinner');\n",
              "      try {\n",
              "        const charts = await google.colab.kernel.invokeFunction(\n",
              "            'suggestCharts', [key], {});\n",
              "      } catch (error) {\n",
              "        console.error('Error during call to suggestCharts:', error);\n",
              "      }\n",
              "      quickchartButtonEl.classList.remove('colab-df-spinner');\n",
              "      quickchartButtonEl.classList.add('colab-df-quickchart-complete');\n",
              "    }\n",
              "    (() => {\n",
              "      let quickchartButtonEl =\n",
              "        document.querySelector('#df-7f0adc43-281b-4805-9bdd-7a0087d2503e button');\n",
              "      quickchartButtonEl.style.display =\n",
              "        google.colab.kernel.accessAllowed ? 'block' : 'none';\n",
              "    })();\n",
              "  </script>\n",
              "</div>\n",
              "\n",
              "  <div id=\"id_4f237843-5e78-4e6b-bd3b-0cc3237e10e4\">\n",
              "    <style>\n",
              "      .colab-df-generate {\n",
              "        background-color: #E8F0FE;\n",
              "        border: none;\n",
              "        border-radius: 50%;\n",
              "        cursor: pointer;\n",
              "        display: none;\n",
              "        fill: #1967D2;\n",
              "        height: 32px;\n",
              "        padding: 0 0 0 0;\n",
              "        width: 32px;\n",
              "      }\n",
              "\n",
              "      .colab-df-generate:hover {\n",
              "        background-color: #E2EBFA;\n",
              "        box-shadow: 0px 1px 2px rgba(60, 64, 67, 0.3), 0px 1px 3px 1px rgba(60, 64, 67, 0.15);\n",
              "        fill: #174EA6;\n",
              "      }\n",
              "\n",
              "      [theme=dark] .colab-df-generate {\n",
              "        background-color: #3B4455;\n",
              "        fill: #D2E3FC;\n",
              "      }\n",
              "\n",
              "      [theme=dark] .colab-df-generate:hover {\n",
              "        background-color: #434B5C;\n",
              "        box-shadow: 0px 1px 3px 1px rgba(0, 0, 0, 0.15);\n",
              "        filter: drop-shadow(0px 1px 2px rgba(0, 0, 0, 0.3));\n",
              "        fill: #FFFFFF;\n",
              "      }\n",
              "    </style>\n",
              "    <button class=\"colab-df-generate\" onclick=\"generateWithVariable('df')\"\n",
              "            title=\"Generate code using this dataframe.\"\n",
              "            style=\"display:none;\">\n",
              "\n",
              "  <svg xmlns=\"http://www.w3.org/2000/svg\" height=\"24px\"viewBox=\"0 0 24 24\"\n",
              "       width=\"24px\">\n",
              "    <path d=\"M7,19H8.4L18.45,9,17,7.55,7,17.6ZM5,21V16.75L18.45,3.32a2,2,0,0,1,2.83,0l1.4,1.43a1.91,1.91,0,0,1,.58,1.4,1.91,1.91,0,0,1-.58,1.4L9.25,21ZM18.45,9,17,7.55Zm-12,3A5.31,5.31,0,0,0,4.9,8.1,5.31,5.31,0,0,0,1,6.5,5.31,5.31,0,0,0,4.9,4.9,5.31,5.31,0,0,0,6.5,1,5.31,5.31,0,0,0,8.1,4.9,5.31,5.31,0,0,0,12,6.5,5.46,5.46,0,0,0,6.5,12Z\"/>\n",
              "  </svg>\n",
              "    </button>\n",
              "    <script>\n",
              "      (() => {\n",
              "      const buttonEl =\n",
              "        document.querySelector('#id_4f237843-5e78-4e6b-bd3b-0cc3237e10e4 button.colab-df-generate');\n",
              "      buttonEl.style.display =\n",
              "        google.colab.kernel.accessAllowed ? 'block' : 'none';\n",
              "\n",
              "      buttonEl.onclick = () => {\n",
              "        google.colab.notebook.generateWithVariable('df');\n",
              "      }\n",
              "      })();\n",
              "    </script>\n",
              "  </div>\n",
              "\n",
              "    </div>\n",
              "  </div>\n"
            ],
            "application/vnd.google.colaboratory.intrinsic+json": {
              "type": "dataframe",
              "variable_name": "df",
              "summary": "{\n  \"name\": \"df\",\n  \"rows\": 100,\n  \"fields\": [\n    {\n      \"column\": \"Video_title\",\n      \"properties\": {\n        \"dtype\": \"string\",\n        \"num_unique_values\": 100,\n        \"samples\": [\n          \"Time Module in Python \",\n          \"'is' vs '==' in Python \",\n          \"dir, __dict__ and help method in Python \"\n        ],\n        \"semantic_type\": \"\",\n        \"description\": \"\"\n      }\n    },\n    {\n      \"column\": \"Day_Num\",\n      \"properties\": {\n        \"dtype\": \"string\",\n        \"num_unique_values\": 100,\n        \"samples\": [\n          \" Day #84\",\n          \" Day #54\",\n          \" Day #71\"\n        ],\n        \"semantic_type\": \"\",\n        \"description\": \"\"\n      }\n    },\n    {\n      \"column\": \"Completion\",\n      \"properties\": {\n        \"dtype\": \"category\",\n        \"num_unique_values\": 1,\n        \"samples\": [\n          \"Incomplete\"\n        ],\n        \"semantic_type\": \"\",\n        \"description\": \"\"\n      }\n    }\n  ]\n}"
            }
          },
          "metadata": {},
          "execution_count": 9
        }
      ]
    },
    {
      "cell_type": "code",
      "source": [
        "import pandas as pd\n",
        "\n",
        "# Create a DataFrame with 21 days\n",
        "days = list(range(1, 22))\n",
        "progress_table = pd.DataFrame({'Day': days})\n",
        "\n",
        "# Assume 'Complete' for days 1 to 20 and show the corresponding completion percentage\n",
        "progress_table['Status'] = 'Complete'\n",
        "progress_table['Completion (%)'] = (progress_table['Day'] / 21) * 100\n",
        "\n",
        "# For Day 21, set the completion percentage to 100%\n",
        "progress_table.loc[progress_table['Day'] == 21, 'Completion (%)'] = 100\n",
        "\n",
        "# Add a new column 'Progress Bar' with a simple text-based progress bar\n",
        "progress_table['Progress Bar'] = progress_table['Completion (%)'].apply(\n",
        "    lambda x: '[' + '#' * int(x / 10) + ' ' * (10 - int(x / 10)) + ']'\n",
        ")\n",
        "\n",
        "# Display the modified progress_table\n",
        "print(progress_table)\n"
      ],
      "metadata": {
        "id": "wxTOinhVYDmM",
        "colab": {
          "base_uri": "https://localhost:8080/"
        },
        "outputId": "fd471a84-14bd-4e09-b718-faa351c1e9c8"
      },
      "execution_count": null,
      "outputs": [
        {
          "output_type": "stream",
          "name": "stdout",
          "text": [
            "    Day    Status  Completion (%)  Progress Bar\n",
            "0     1  Complete        4.761905  [          ]\n",
            "1     2  Complete        9.523810  [          ]\n",
            "2     3  Complete       14.285714  [#         ]\n",
            "3     4  Complete       19.047619  [#         ]\n",
            "4     5  Complete       23.809524  [##        ]\n",
            "5     6  Complete       28.571429  [##        ]\n",
            "6     7  Complete       33.333333  [###       ]\n",
            "7     8  Complete       38.095238  [###       ]\n",
            "8     9  Complete       42.857143  [####      ]\n",
            "9    10  Complete       47.619048  [####      ]\n",
            "10   11  Complete       52.380952  [#####     ]\n",
            "11   12  Complete       57.142857  [#####     ]\n",
            "12   13  Complete       61.904762  [######    ]\n",
            "13   14  Complete       66.666667  [######    ]\n",
            "14   15  Complete       71.428571  [#######   ]\n",
            "15   16  Complete       76.190476  [#######   ]\n",
            "16   17  Complete       80.952381  [########  ]\n",
            "17   18  Complete       85.714286  [########  ]\n",
            "18   19  Complete       90.476190  [######### ]\n",
            "19   20  Complete       95.238095  [######### ]\n",
            "20   21  Complete      100.000000  [##########]\n"
          ]
        }
      ]
    },
    {
      "cell_type": "code",
      "source": [
        "import pandas as pd\n",
        "import matplotlib.pyplot as plt\n",
        "\n",
        "# Create a DataFrame with 21 days\n",
        "days = list(range(1, 22))\n",
        "progress_table = pd.DataFrame({'Day': days})\n",
        "\n",
        "# Assume 'Complete' for days 1 to 20 and show the corresponding completion percentage\n",
        "progress_table['Status'] = 'Complete'\n",
        "progress_table['Completion (%)'] = (progress_table['Day'] / 21) * 100\n",
        "\n",
        "# For Day 21, set the completion percentage to 100%\n",
        "progress_table.loc[progress_table['Day'] == 21, 'Completion (%)'] = 100\n",
        "\n",
        "# Plot a bar chart with progress bars\n",
        "plt.bar(progress_table['Day'], progress_table['Completion (%)'], color='green')\n",
        "plt.title('Progress Chart')\n",
        "plt.xlabel('Day')\n",
        "plt.ylabel('Completion (%)')\n",
        "plt.show()\n",
        "\n",
        "\n"
      ],
      "metadata": {
        "id": "sRLkkRwbkqbX",
        "colab": {
          "base_uri": "https://localhost:8080/",
          "height": 472
        },
        "outputId": "284a411a-7efe-4add-b1b1-464f8111a7a7"
      },
      "execution_count": null,
      "outputs": [
        {
          "output_type": "display_data",
          "data": {
            "text/plain": [
              "<Figure size 640x480 with 1 Axes>"
            ],
            "image/png": "[encoded data removed]"
          },
          "metadata": {}
        }
      ]
    },
    {
      "cell_type": "code",
      "source": [
        "#Title=[df['Video_title'] for i in df['Day_Num'] if df['Day_Num']==\"Day #5\"]\n",
        "\n",
        "Title_of_next_video=df.loc[ df['Day_Num']==\"Day #5\",'Video_title' ]\n",
        "Title_of_next_video"
      ],
      "metadata": {
        "id": "h6FwaZ8jxDhw",
        "colab": {
          "base_uri": "https://localhost:8080/",
          "height": 84
        },
        "outputId": "880f6b67-48d6-4af2-f38f-57cf7fb0cd1c"
      },
      "execution_count": null,
      "outputs": [
        {
          "output_type": "execute_result",
          "data": {
            "text/plain": [
              "Series([], Name: Video_title, dtype: object)"
            ],
            "text/html": [
              "<div>\n",
              "<style scoped>\n",
              "    .dataframe tbody tr th:only-of-type {\n",
              "        vertical-align: middle;\n",
              "    }\n",
              "\n",
              "    .dataframe tbody tr th {\n",
              "        vertical-align: top;\n",
              "    }\n",
              "\n",
              "    .dataframe thead th {\n",
              "        text-align: right;\n",
              "    }\n",
              "</style>\n",
              "<table border=\"1\" class=\"dataframe\">\n",
              "  <thead>\n",
              "    <tr style=\"text-align: right;\">\n",
              "      <th></th>\n",
              "      <th>Video_title</th>\n",
              "    </tr>\n",
              "  </thead>\n",
              "  <tbody>\n",
              "  </tbody>\n",
              "</table>\n",
              "</div><br><label><b>dtype:</b> object</label>"
            ]
          },
          "metadata": {},
          "execution_count": 12
        }
      ]
    },
    {
      "cell_type": "code",
      "source": [
        "result = df.query(\"Day_Num == ' Day #5' \")['Video_title']\n",
        "result"
      ],
      "metadata": {
        "id": "8nl3QaM9ywDs",
        "colab": {
          "base_uri": "https://localhost:8080/",
          "height": 115
        },
        "outputId": "53871b06-4ed4-4bae-81de-43f51fcda8eb"
      },
      "execution_count": null,
      "outputs": [
        {
          "output_type": "execute_result",
          "data": {
            "text/plain": [
              "4    Comments, Escape Sequences & Print Statement \n",
              "Name: Video_title, dtype: object"
            ],
            "text/html": [
              "<div>\n",
              "<style scoped>\n",
              "    .dataframe tbody tr th:only-of-type {\n",
              "        vertical-align: middle;\n",
              "    }\n",
              "\n",
              "    .dataframe tbody tr th {\n",
              "        vertical-align: top;\n",
              "    }\n",
              "\n",
              "    .dataframe thead th {\n",
              "        text-align: right;\n",
              "    }\n",
              "</style>\n",
              "<table border=\"1\" class=\"dataframe\">\n",
              "  <thead>\n",
              "    <tr style=\"text-align: right;\">\n",
              "      <th></th>\n",
              "      <th>Video_title</th>\n",
              "    </tr>\n",
              "  </thead>\n",
              "  <tbody>\n",
              "    <tr>\n",
              "      <th>4</th>\n",
              "      <td>Comments, Escape Sequences &amp; Print Statement</td>\n",
              "    </tr>\n",
              "  </tbody>\n",
              "</table>\n",
              "</div><br><label><b>dtype:</b> object</label>"
            ]
          },
          "metadata": {},
          "execution_count": 13
        }
      ]
    },
    {
      "cell_type": "code",
      "source": [
        "print(df['Day_Num'].unique())"
      ],
      "metadata": {
        "id": "-pEyCdTAzZVV",
        "colab": {
          "base_uri": "https://localhost:8080/"
        },
        "outputId": "b331341f-3197-4ded-8f7f-5f5435850f8d"
      },
      "execution_count": null,
      "outputs": [
        {
          "output_type": "stream",
          "name": "stdout",
          "text": [
            "[' Day #1' ' Day #2' ' Day #3' ' Day #4' ' Day #5' ' Day #6' ' Day #7'\n",
            " ' Day #8' ' Day #9' ' Day #10' ' Day #11' ' Day #12' ' Day #13'\n",
            " ' Day #14' ' Day #15' ' Day #16' ' Day #17' ' Day #18' ' Day #19'\n",
            " ' Day #20' ' Day #21' ' Day #22' ' Day #23' ' Day #24' ' Day #25'\n",
            " ' Day #26' ' Day #27' ' Day #28' ' Day #29' ' Day #30' ' Day #31'\n",
            " ' Day #32' ' Day #33' ' Day #34' ' Day #35' ' Day #36' ' Day #37'\n",
            " ' Day #38' ' Day #39' ' Day #40' ' Day #41' ' Day #42' ' Day #43'\n",
            " ' Day #44' ' Day #45' ' Day #46' ' Day #47' ' Day #48' ' Day #49'\n",
            " ' Day #50' ' Day #51' ' Day #52' ' Day #53' ' Day #54' ' Day #55'\n",
            " ' Day #56' ' Day #57' ' Day #58' ' Day #59' ' Day #60' ' Day #61'\n",
            " ' Day #62' ' Day #63' ' Day #64' ' Day #65' ' Day #66' ' Day #67'\n",
            " ' Day #68' ' Day #69' ' Day #70' ' Day #71' ' Day #72' ' Day #73'\n",
            " ' Day #74' ' Day #75' ' Day #76' ' Day #77' ' Day #78' ' Day #79'\n",
            " ' Day #80' ' Day #81' ' Day #82' ' Day #83' ' Day #84' ' Day #85'\n",
            " ' Day #86' ' Day #87' ' Day #88' ' Day #89' ' Day #90' ' Day #91'\n",
            " ' Day #92' ' Day #93' ' Day #94' ' Day #95' ' Day #96' ' Day #97'\n",
            " ' Day #98' ' Day #99' ' Day #100']\n"
          ]
        }
      ]
    },
    {
      "cell_type": "markdown",
      "source": [
        "#Day 4: The 'Print' Statement  "
      ],
      "metadata": {
        "id": "6DNNsUqgov4I"
      }
    },
    {
      "cell_type": "markdown",
      "source": [
        "-Use ',' to print multiple statements in a single line\n",
        "-we want python to execute multiple statements in a sequential order"
      ],
      "metadata": {
        "id": "k3Q8rv1xoyfW"
      }
    },
    {
      "cell_type": "code",
      "source": [
        "print('day1',4)"
      ],
      "metadata": {
        "colab": {
          "base_uri": "https://localhost:8080/"
        },
        "id": "8nL05irxo3dk",
        "outputId": "389ba36e-6552-4213-a1f0-622e4bfe3cde"
      },
      "execution_count": null,
      "outputs": [
        {
          "output_type": "stream",
          "name": "stdout",
          "text": [
            "day1 4\n"
          ]
        }
      ]
    },
    {
      "cell_type": "markdown",
      "source": [
        "#Quiz : Print"
      ],
      "metadata": {
        "id": "5XNxCKU8thet"
      }
    },
    {
      "cell_type": "code",
      "source": [
        "#Quiz:\n",
        "\n",
        "#Print a few lines about consistency.\n",
        "\n",
        "print(' For the longest period of time I had been inconsistent. I have trouble keeping the momentum of things.\\n If I start, I dont finish. I am starting this course on 18th Jan,2024. \\n The ideal completion date for this course would be 27th April, 2024.\\n My intention is to do it atleast in 55 days. i.e.on 13th March, 2024. Lets see how this one goes.   ')"
      ],
      "metadata": {
        "colab": {
          "base_uri": "https://localhost:8080/"
        },
        "id": "M61NHJpcph-r",
        "outputId": "6931db9e-7cb8-4cc1-d738-78a9761a441f"
      },
      "execution_count": null,
      "outputs": [
        {
          "output_type": "stream",
          "name": "stdout",
          "text": [
            " For the longest period of time I had been inconsistent. I have trouble keeping the momentum of things.\n",
            " If I start, I dont finish. I am starting this course on 18th Jan,2024. \n",
            " The ideal completion date for this course would be 27th April, 2024.\n",
            " My intention is to do it atleast in 55 days. i.e.on 13th March, 2024. Lets see how this one goes.   \n"
          ]
        }
      ]
    },
    {
      "cell_type": "code",
      "source": [
        "from datetime import date\n",
        "import datetime\n",
        "today = date.today()\n",
        "print(\"Today's date:\", today)\n",
        "\n",
        "newdate = today + datetime.timedelta(days=100)\n",
        "print('Actual Completion Date: ', newdate)\n",
        "\n",
        "Target_set=today + datetime.timedelta(days=55)\n",
        "print('Target Date: ', Target_set)"
      ],
      "metadata": {
        "colab": {
          "base_uri": "https://localhost:8080/"
        },
        "id": "l4cuvuJUrKmn",
        "outputId": "27982f5c-8424-4e76-ca2e-e3c608efadc1"
      },
      "execution_count": null,
      "outputs": [
        {
          "output_type": "stream",
          "name": "stdout",
          "text": [
            "Today's date: 2024-01-18\n",
            "Actual Completion Date:  2024-04-27\n",
            "Target Date:  2024-03-13\n"
          ]
        }
      ]
    },
    {
      "cell_type": "markdown",
      "source": [
        "#Day5: Comments, Escape Sequences & Print Statement\n"
      ],
      "metadata": {
        "id": "fdIuEYBvw3GA"
      }
    },
    {
      "cell_type": "markdown",
      "source": [
        " # Escape Sequence Character\n",
        " The characters which cant be used directly in a string  \n",
        "\n",
        " (For example we cant use newline by 'Enter' in print statement )\n",
        "so we use : \\n\n",
        "Double quotes cant be used as it is inside print statement\n",
        "\\\"\"\n",
        "\n",
        "# Comments\n",
        "Non-Executeable lines, so to understand code or to comment certain code lines.\n",
        "**''' '''** : Bigger comments\n",
        "\n",
        "Optionals\n",
        "# Separators in print\n",
        "\n",
        "sep = ',' or '-' or '~' or any other\n",
        "\n",
        "#End in print\n",
        "\n",
        "To end a line with a certain text\n",
        "\n",
        "**What is Syntax highlighting done by any IDE? **\n",
        "\n",
        "e.g we have green for comments, yellow for print statement , def in blue color for function, so any IDE has different coded colors to visually separate out the different chunks in code\n",
        "\n"
      ],
      "metadata": {
        "id": "rkWeGSjV_ex_"
      }
    },
    {
      "cell_type": "code",
      "source": [
        "#Escape Sequences\n",
        "\n",
        "print('I said I will be \\'consistent\\' during this whole series and wont skip a day but here we are. \\n Lol.  ')"
      ],
      "metadata": {
        "colab": {
          "base_uri": "https://localhost:8080/"
        },
        "id": "0L-85DeOCq14",
        "outputId": "8d2029b6-de09-4516-e739-e1235aa610b0"
      },
      "execution_count": null,
      "outputs": [
        {
          "output_type": "stream",
          "name": "stdout",
          "text": [
            "I said I will be 'consistent' during this whole series and wont skip a day but here we are. \n",
            " Lol.  \n"
          ]
        }
      ]
    },
    {
      "cell_type": "code",
      "source": [
        "# Separators\n",
        "\n",
        "print ('Nida', 94 , 'January', sep='-')"
      ],
      "metadata": {
        "id": "-tqOfZo3Siab",
        "colab": {
          "base_uri": "https://localhost:8080/"
        },
        "outputId": "e748b1e8-b0c2-4c37-d191-b237a9d255c5"
      },
      "execution_count": null,
      "outputs": [
        {
          "output_type": "stream",
          "name": "stdout",
          "text": [
            "Nida-94-January\n"
          ]
        }
      ]
    },
    {
      "cell_type": "code",
      "source": [
        "#End\n",
        "\n",
        "print('Nida','Maryam', 'Reporting ' , end='over')"
      ],
      "metadata": {
        "id": "Nx_t9by_E4Fr",
        "colab": {
          "base_uri": "https://localhost:8080/"
        },
        "outputId": "cd1edc8e-1000-4015-84e2-7d55686d94c6"
      },
      "execution_count": null,
      "outputs": [
        {
          "output_type": "stream",
          "name": "stdout",
          "text": [
            "Nida Maryam Reporting over"
          ]
        }
      ]
    },
    {
      "cell_type": "markdown",
      "source": [
        "# Day 6: Variables\n",
        "\n",
        "-Variables allow us to store and reference data in Python's memory (RAM) for later use, making it easier to work with data in programs.\n",
        "-Datatypes:\n",
        "Integer, String, Float, Sequence, List, Tuple, Complex ,Bool, Dictionary  \n",
        "\n",
        "List: Where datatypes could be different\n",
        "Tuple: Immutable (cannot be changed)\n",
        "\n",
        "Dictionary: Mapped with key-Value Pairs\n",
        "\n",
        "**Everything in Python is an object.**\n",
        "\n",
        "\n"
      ],
      "metadata": {
        "id": "1o1KliKUA1Ci"
      }
    },
    {
      "cell_type": "code",
      "source": [
        "#Why string in \"\"\n",
        "\n",
        "a=1234\n",
        "print(a)\n",
        "b='Nida'\n",
        "print(b)\n",
        "\n",
        "Nida=5567\n",
        "print(Nida)\n",
        "\n",
        "'''\n",
        "Nida =5567 is an integer variable named Nida. while b= 'Nida' is a string named b.\n",
        "\n",
        "'''\n",
        "\n",
        "c=complex(8,2) #8+2i\n",
        "print(c)\n",
        "#To know type , just do type(variable_name)\n",
        "\n",
        "\n",
        "dicti={\"name\" : \"Nida\", \"degree\": \"Masters\",\"Day_today\": \"4th on schedule. \"}\n",
        "print(dicti)\n",
        "print(type(a))\n",
        "print(type(b))\n",
        "print(type(Nida))\n",
        "print(type(c))\n",
        "print(type(dicti))"
      ],
      "metadata": {
        "colab": {
          "base_uri": "https://localhost:8080/"
        },
        "id": "fxMY2mVFBhpP",
        "outputId": "d3ac1148-9413-45a9-825f-3e754a3b9885"
      },
      "execution_count": null,
      "outputs": [
        {
          "output_type": "stream",
          "name": "stdout",
          "text": [
            "1234\n",
            "Nida\n",
            "5567\n",
            "(8+2j)\n",
            "{'name': 'Nida', 'degree': 'Masters', 'Day_today': '4th on schedule. '}\n",
            "<class 'int'>\n",
            "<class 'str'>\n",
            "<class 'int'>\n",
            "<class 'complex'>\n",
            "<class 'dict'>\n"
          ]
        }
      ]
    },
    {
      "cell_type": "markdown",
      "source": [
        "# Day7: Calculator Using Python\n",
        "\n",
        "\n",
        "-Floor Division Operator //"
      ],
      "metadata": {
        "id": "LqbIqO-NEEcF"
      }
    },
    {
      "cell_type": "code",
      "source": [
        "print(15/6) # Float\n",
        "print(15//6) # Int in answer\n",
        "\n",
        "\n",
        "print(5*6) #multiplication\n",
        "print(5**6) #exponent"
      ],
      "metadata": {
        "colab": {
          "base_uri": "https://localhost:8080/"
        },
        "id": "slyFD0S3EbgD",
        "outputId": "6b7e2a4f-38dc-44bb-adc8-ccc4edb01bee"
      },
      "execution_count": null,
      "outputs": [
        {
          "output_type": "stream",
          "name": "stdout",
          "text": [
            "2.5\n",
            "2\n",
            "30\n",
            "15625\n"
          ]
        }
      ]
    },
    {
      "cell_type": "code",
      "source": [
        "#Calculator\n",
        "\n",
        "a=int(input(\"Enter number1: \"))\n",
        "b=int(input(\"Enter number2: \"))\n",
        "\n",
        "\n",
        "print(f'{a} + {b} = {a+b}')\n",
        "print(f'{a} - {b} = {a-b}')\n",
        "print(f'{a} * {b} = {a*b}')\n",
        "print(f'{a} / {b} = {round(float(a/b),2)}')\n",
        "print(f'{a} /{b} as integer = {a+b}')"
      ],
      "metadata": {
        "colab": {
          "base_uri": "https://localhost:8080/"
        },
        "id": "XEPWKAIPFTXZ",
        "outputId": "72c80a42-884b-4184-f514-7600e78184c7"
      },
      "execution_count": null,
      "outputs": [
        {
          "output_type": "stream",
          "name": "stdout",
          "text": [
            "Enter number1: 8\n",
            "Enter number2: 6\n",
            "8 + 6 = 14\n",
            "8 - 6 = 2\n",
            "8 * 6 = 48\n",
            "8 / 6 = 1.33\n",
            "8 /6 as integer = 14\n"
          ]
        }
      ]
    },
    {
      "cell_type": "markdown",
      "source": [
        "#Day 9: Typecasting in Python"
      ],
      "metadata": {
        "id": "R7PZskYhw9wc"
      }
    },
    {
      "cell_type": "markdown",
      "source": [
        "Conversion of one datatype to another\n",
        "\n",
        "1.Explicit Typecasting  ... when we specify int(), float()\n",
        "2. implicit Typeasting... Order of datatypes dont have same order.\n",
        "So python converts low-order variable to higher order variable ."
      ],
      "metadata": {
        "id": "M_7rtLGXQ22U"
      }
    },
    {
      "cell_type": "code",
      "source": [
        "num='27'\n",
        "\n",
        "print(num+3)"
      ],
      "metadata": {
        "colab": {
          "base_uri": "https://localhost:8080/",
          "height": 210
        },
        "id": "SBgQ73Jf07Nt",
        "outputId": "bbe9900e-3b42-4c5d-916b-2a8b47252db0"
      },
      "execution_count": null,
      "outputs": [
        {
          "output_type": "error",
          "ename": "TypeError",
          "evalue": "can only concatenate str (not \"int\") to str",
          "traceback": [
            "\u001b[0;31m---------------------------------------------------------------------------\u001b[0m",
            "\u001b[0;31mTypeError\u001b[0m                                 Traceback (most recent call last)",
            "\u001b[0;32m<ipython-input-1-813027363fd2>\u001b[0m in \u001b[0;36m<cell line: 3>\u001b[0;34m()\u001b[0m\n\u001b[1;32m      1\u001b[0m \u001b[0mnum\u001b[0m\u001b[0;34m=\u001b[0m\u001b[0;34m'27'\u001b[0m\u001b[0;34m\u001b[0m\u001b[0;34m\u001b[0m\u001b[0m\n\u001b[1;32m      2\u001b[0m \u001b[0;34m\u001b[0m\u001b[0m\n\u001b[0;32m----> 3\u001b[0;31m \u001b[0mprint\u001b[0m\u001b[0;34m(\u001b[0m\u001b[0mnum\u001b[0m\u001b[0;34m+\u001b[0m\u001b[0;36m3\u001b[0m\u001b[0;34m)\u001b[0m\u001b[0;34m\u001b[0m\u001b[0;34m\u001b[0m\u001b[0m\n\u001b[0m",
            "\u001b[0;31mTypeError\u001b[0m: can only concatenate str (not \"int\") to str"
          ]
        }
      ]
    },
    {
      "cell_type": "code",
      "source": [
        "print(int(num)+3)"
      ],
      "metadata": {
        "colab": {
          "base_uri": "https://localhost:8080/"
        },
        "id": "CDKKVBWCQSPR",
        "outputId": "1fdcc0c1-3174-4222-8ed6-76bf08a01d1d"
      },
      "execution_count": null,
      "outputs": [
        {
          "output_type": "stream",
          "name": "stdout",
          "text": [
            "30\n"
          ]
        }
      ]
    },
    {
      "cell_type": "code",
      "source": [
        "a='1'\n",
        "b='2'\n",
        "print(a+b) #Addition of two strings results in a string"
      ],
      "metadata": {
        "colab": {
          "base_uri": "https://localhost:8080/"
        },
        "id": "rrFUsSrLQcUp",
        "outputId": "51150dc0-4a70-499a-93a8-4acdd59124f8"
      },
      "execution_count": null,
      "outputs": [
        {
          "output_type": "stream",
          "name": "stdout",
          "text": [
            "12\n"
          ]
        }
      ]
    },
    {
      "cell_type": "markdown",
      "source": [
        "Not everything can be typecasted ."
      ],
      "metadata": {
        "id": "yCkwvv2pRBbs"
      }
    },
    {
      "cell_type": "code",
      "source": [
        "Name='Nida'\n",
        "\n",
        "print(int(Name))"
      ],
      "metadata": {
        "colab": {
          "base_uri": "https://localhost:8080/",
          "height": 210
        },
        "id": "ztEUqeM8RENF",
        "outputId": "3d7ea1eb-05e8-4706-dc32-bae6b59022f1"
      },
      "execution_count": null,
      "outputs": [
        {
          "output_type": "error",
          "ename": "ValueError",
          "evalue": "invalid literal for int() with base 10: 'Nida'",
          "traceback": [
            "\u001b[0;31m---------------------------------------------------------------------------\u001b[0m",
            "\u001b[0;31mValueError\u001b[0m                                Traceback (most recent call last)",
            "\u001b[0;32m<ipython-input-4-213a7e1d88ea>\u001b[0m in \u001b[0;36m<cell line: 3>\u001b[0;34m()\u001b[0m\n\u001b[1;32m      1\u001b[0m \u001b[0mName\u001b[0m\u001b[0;34m=\u001b[0m\u001b[0;34m'Nida'\u001b[0m\u001b[0;34m\u001b[0m\u001b[0;34m\u001b[0m\u001b[0m\n\u001b[1;32m      2\u001b[0m \u001b[0;34m\u001b[0m\u001b[0m\n\u001b[0;32m----> 3\u001b[0;31m \u001b[0mprint\u001b[0m\u001b[0;34m(\u001b[0m\u001b[0mint\u001b[0m\u001b[0;34m(\u001b[0m\u001b[0mName\u001b[0m\u001b[0;34m)\u001b[0m\u001b[0;34m)\u001b[0m\u001b[0;34m\u001b[0m\u001b[0;34m\u001b[0m\u001b[0m\n\u001b[0m",
            "\u001b[0;31mValueError\u001b[0m: invalid literal for int() with base 10: 'Nida'"
          ]
        }
      ]
    },
    {
      "cell_type": "code",
      "source": [
        "#Implicit Typecasting\n",
        "\n",
        "#Implicitly python converts c to 'float' based on a.\n",
        "a=1.234\n",
        "b=5\n",
        "\n",
        "c=a+b\n",
        "\n",
        "print(type(c))"
      ],
      "metadata": {
        "colab": {
          "base_uri": "https://localhost:8080/"
        },
        "id": "SnmQp4uPc2op",
        "outputId": "2195072b-1376-4582-9e54-cdb0156349f0"
      },
      "execution_count": null,
      "outputs": [
        {
          "output_type": "stream",
          "name": "stdout",
          "text": [
            "<class 'float'>\n"
          ]
        }
      ]
    },
    {
      "cell_type": "markdown",
      "source": [
        "#Day10: Taking User input"
      ],
      "metadata": {
        "id": "meEHdyfDdvDn"
      }
    },
    {
      "cell_type": "markdown",
      "source": [
        "variable =  input\n",
        "\n",
        "-Also we can change the datatype of input.\n",
        "-Bydefault input takes string. so we have to change its datatype to our desired datatype.\n",
        "\n",
        "variable=int(input('Enter your number: ')\n",
        "\n"
      ],
      "metadata": {
        "id": "d3H-J5p1dxpH"
      }
    },
    {
      "cell_type": "code",
      "source": [
        "num1=input('Enter first number: ')\n",
        "num2=input('Enter second number: ')\n",
        "\n",
        "add=num1+num2\n",
        "\n",
        "print(' Sum of two numbers =:',add)"
      ],
      "metadata": {
        "colab": {
          "base_uri": "https://localhost:8080/"
        },
        "id": "o98A10k5ePac",
        "outputId": "6d6a97ef-eda7-43e6-f068-becf8fc35814"
      },
      "execution_count": null,
      "outputs": [
        {
          "output_type": "stream",
          "name": "stdout",
          "text": [
            "Enter first number: 13\n",
            "Enter second number: 100\n",
            " Sum of two numbers =: 13100\n"
          ]
        }
      ]
    },
    {
      "cell_type": "code",
      "source": [
        "#So we define the datatype for incomoing numbers expicitly\n",
        "\n",
        "num1=int(input('Enter first number: '))\n",
        "num2=int(input('Enter second number: '))\n",
        "\n",
        "add=num1+num2\n",
        "\n",
        "print(' Sum of two numbers =:',add)\n"
      ],
      "metadata": {
        "colab": {
          "base_uri": "https://localhost:8080/"
        },
        "id": "I69XBOy-emlS",
        "outputId": "de4a2e39-0717-40e3-b8d5-64afc786eb5c"
      },
      "execution_count": null,
      "outputs": [
        {
          "output_type": "stream",
          "name": "stdout",
          "text": [
            "Enter first number: 100\n",
            "Enter second number: 13\n",
            " Sum of two numbers =: 113\n"
          ]
        }
      ]
    },
    {
      "cell_type": "markdown",
      "source": [
        "#Day 11:  Strings in Python"
      ],
      "metadata": {
        "id": "Lq7tEMYwgF3x"
      }
    },
    {
      "cell_type": "markdown",
      "source": [
        "In Python a string is like an array of characters.\n",
        "\n",
        "1. Multiline String\n",
        "Enclosed with triple single quotes or double quotes\n",
        "\n",
        "-It prints paragraphs alongwith quotes and apostrophe's.\n",
        "\n",
        "2 Indexing in Strings\n",
        "\n",
        "name[0]"
      ],
      "metadata": {
        "id": "EUAqMjPzgr8T"
      }
    },
    {
      "cell_type": "code",
      "source": [
        "letter= ''' This is my first course whose difficulty level feels just right.\n",
        "It isnt too daunting, neither it is too easy.\n",
        "Pretty interesting, so far. '''\n",
        "\n",
        "print(letter)\n",
        "print(type(letter))"
      ],
      "metadata": {
        "colab": {
          "base_uri": "https://localhost:8080/"
        },
        "id": "7uAOutnhg8GS",
        "outputId": "cebab00f-654d-4703-d121-b2b7dff20f4f"
      },
      "execution_count": null,
      "outputs": [
        {
          "output_type": "stream",
          "name": "stdout",
          "text": [
            " This is my first course whose difficulty level feels just right. \n",
            "It isnt too daunting, neither it is too easy. \n",
            "Pretty interesting, so far. \n",
            "<class 'str'>\n"
          ]
        }
      ]
    },
    {
      "cell_type": "code",
      "source": [
        "name='Nida'\n",
        "\n",
        "print(name[0])"
      ],
      "metadata": {
        "colab": {
          "base_uri": "https://localhost:8080/"
        },
        "id": "L4tfNP0YhbDN",
        "outputId": "f16af833-2e48-45b8-b06f-b18ff8a512df"
      },
      "execution_count": null,
      "outputs": [
        {
          "output_type": "stream",
          "name": "stdout",
          "text": [
            "N\n"
          ]
        }
      ]
    },
    {
      "cell_type": "markdown",
      "source": [
        "#Day12: String Slicing\n",
        "\n",
        "* For indexing: string_name[starting_index: ending_index]\n",
        "ending_index not included\n",
        "\n",
        "* Length of a string\n",
        "\n",
        "* Starting index by default is 0. For any other starting point, we gotta specify.\n",
        "* python automatically prints till end if ending_index isnt specified.\n",
        "* Negative slicing\n",
        "1. string_name[starting_index: **-ve ending_index]**) => Include everything from string except these last characters as speciifed by ending index.\n",
        "\n",
        "Python takes it as: string_name[starting_index: **len(string_name) -ve ending_index]**)\n",
        "if -ve ending index= -3 => Exclude last 3 characters of string.\n",
        "\n",
        "2.\n",
        "\n",
        "\n",
        "\n",
        "\n",
        "2. string_name[-ve starting_index: ) => Only inclue last three characters from the string.\n",
        "\n",
        "\n",
        "Tip: Take **-ve index as => len(string) - index ** and you'll have no difficulty finding out solution at any cost"
      ],
      "metadata": {
        "id": "DWWWZNmRexpc"
      }
    },
    {
      "cell_type": "code",
      "source": [
        "names='Nida,Maryam'\n",
        "print(names[0:5])\n",
        "\n",
        "print(len(names))\n",
        "\n",
        "#if we dont specify starting_index , it is by default zero.\n",
        "\n",
        "print(names[0:4])\n",
        "print(names[:4])#both are same"
      ],
      "metadata": {
        "colab": {
          "base_uri": "https://localhost:8080/"
        },
        "id": "AbLz33zne7tZ",
        "outputId": "924031a6-a6d4-4bfe-9d96-8157b573bd5f"
      },
      "execution_count": null,
      "outputs": [
        {
          "output_type": "stream",
          "name": "stdout",
          "text": [
            "Nida,\n",
            "11\n",
            "Nida\n",
            "Nida\n"
          ]
        }
      ]
    },
    {
      "cell_type": "code",
      "source": [
        "#Ending index\n",
        "\n",
        "print(names[0:])\n",
        "print(names[:]) #both are same"
      ],
      "metadata": {
        "colab": {
          "base_uri": "https://localhost:8080/"
        },
        "id": "rFnOZa-CgPFY",
        "outputId": "116c24fe-f05e-43a3-fced-cdb14cbbf2c4"
      },
      "execution_count": null,
      "outputs": [
        {
          "output_type": "stream",
          "name": "stdout",
          "text": [
            "Nida,Maryam\n",
            "Nida,Maryam\n"
          ]
        }
      ]
    },
    {
      "cell_type": "code",
      "source": [
        "#Negative Slicing\n",
        "\n",
        "\n",
        "# remember len(names) =11\n",
        "print(names[0:-4])  # => 0: 11-4 => print (names [0:7]) where 7 itself isnt included so it prints from 0:6th index\n",
        "print(names[-3:2]) # => 11-3:2 => 8:2 ... No such index exists so the answer is empty\n",
        "print(names[-5:9]) # => 11-5:9 => 6:9  => print (names [6:9]) where 9 itself isnt included so it prints from 6th:8th index\n"
      ],
      "metadata": {
        "colab": {
          "base_uri": "https://localhost:8080/"
        },
        "id": "3oZCERiSggiS",
        "outputId": "858c8119-32fc-4e18-fc0b-f28eb6c8f93b"
      },
      "execution_count": null,
      "outputs": [
        {
          "output_type": "stream",
          "name": "stdout",
          "text": [
            "Nida,Ma\n",
            "\n",
            "ary\n"
          ]
        }
      ]
    },
    {
      "cell_type": "code",
      "source": [
        "#Quickquiz\n",
        "\n",
        "nm=\"Harry \"\n",
        "\n",
        "#print(nm[-4:-2]) =?\n",
        "\n",
        "#sol\n",
        "#len(nm)=6\n",
        "print(nm[-4:-2]) # => 6-4: 6-2 => 2:4 (so 2nd and 3rd index included only => )\n",
        "\n",
        "#mine's different coz I added an extra space at the end."
      ],
      "metadata": {
        "colab": {
          "base_uri": "https://localhost:8080/"
        },
        "id": "KB5l_gtWoiyk",
        "outputId": "2696b2c3-11ef-443a-98a6-fac0265fbb06"
      },
      "execution_count": null,
      "outputs": [
        {
          "output_type": "stream",
          "name": "stdout",
          "text": [
            "rr\n"
          ]
        }
      ]
    },
    {
      "cell_type": "markdown",
      "source": [
        "# Day 13: String operations\n",
        "\n",
        "*   upper, lower\n",
        "*   Concept of immutability : Strings are immutable (We cant change them 'in-place' , but we can make their copies or do operations on those copies but original string remains the same\n",
        "*   .rstrip() to remove trailing remarks\n",
        "*   .replace (replace_what, replace_with)\n",
        "*   .split()\n",
        "*   "
      ],
      "metadata": {
        "id": "5iLYn-szlTDE"
      }
    },
    {
      "cell_type": "code",
      "source": [
        "name='Maryam'\n",
        "\n",
        "name=name.upper() #In this case we are changing the string and then assigning the new value to our previous string\n",
        "\n",
        "#but if we write\n",
        "print(name.upper()) #then it doesnt change our original string it creates another string.\n",
        "\n",
        "print(name)"
      ],
      "metadata": {
        "colab": {
          "base_uri": "https://localhost:8080/"
        },
        "id": "1VwLMc-Glh3M",
        "outputId": "d7da4456-3b01-4db8-cea0-3c654e48b9a1"
      },
      "execution_count": null,
      "outputs": [
        {
          "output_type": "stream",
          "name": "stdout",
          "text": [
            "MARYAM\n"
          ]
        }
      ]
    },
    {
      "cell_type": "code",
      "source": [
        "#.rstrip\n",
        "name='!!Shooze!!!!'\n",
        "print(name.rstrip('!'))\n",
        "\n",
        "#The starting ones are still there."
      ],
      "metadata": {
        "colab": {
          "base_uri": "https://localhost:8080/"
        },
        "id": "SopQML_TmsNF",
        "outputId": "e0e242dc-7da4-4324-b59d-e59f18956889"
      },
      "execution_count": null,
      "outputs": [
        {
          "output_type": "stream",
          "name": "stdout",
          "text": [
            "!!Shooze\n"
          ]
        }
      ]
    },
    {
      "cell_type": "code",
      "source": [
        "#.replace()\n",
        "\n",
        "name='NidaMaryam'\n",
        "print(name.replace('a','xx'))"
      ],
      "metadata": {
        "colab": {
          "base_uri": "https://localhost:8080/"
        },
        "id": "TdqE8Q4cnEgz",
        "outputId": "9758218b-c9f0-4648-9287-3106725eaa19"
      },
      "execution_count": null,
      "outputs": [
        {
          "output_type": "stream",
          "name": "stdout",
          "text": [
            "NidxxMxxryxxm\n"
          ]
        }
      ]
    },
    {
      "cell_type": "code",
      "source": [
        "#.split()\n",
        "\n",
        "#Splits the string at given instance and returns separated string as list items\n",
        "\n",
        "name='nida maryam is a girl'\n",
        "print(name.split())"
      ],
      "metadata": {
        "id": "7nzNZvijnVfJ",
        "colab": {
          "base_uri": "https://localhost:8080/"
        },
        "outputId": "781250de-15e2-4279-831c-5edb431b84cc"
      },
      "execution_count": null,
      "outputs": [
        {
          "output_type": "stream",
          "name": "stdout",
          "text": [
            "['nida', 'maryam', 'is', 'a', 'girl']\n"
          ]
        }
      ]
    },
    {
      "cell_type": "code",
      "source": [
        "#Capitalize\n",
        "print(name.capitalize())\n",
        "#capitalize only capitalizes the first letter of string and nothing else\n"
      ],
      "metadata": {
        "colab": {
          "base_uri": "https://localhost:8080/"
        },
        "id": "rNPapIjPTEk5",
        "outputId": "866ed85f-3658-463e-ac11-5a6a6b6e63a5"
      },
      "execution_count": null,
      "outputs": [
        {
          "output_type": "stream",
          "name": "stdout",
          "text": [
            "Nida maryam is a girl\n"
          ]
        }
      ]
    },
    {
      "cell_type": "code",
      "source": [
        "#.center()\n",
        "\n",
        "#to display string in the center l\n",
        "\n",
        "print(name.center(50))\n",
        "\n",
        "#check lengths\n",
        "\n",
        "print(len(name))\n",
        "print(len(name.center(50)))"
      ],
      "metadata": {
        "colab": {
          "base_uri": "https://localhost:8080/"
        },
        "id": "Dt7haoQzVUW1",
        "outputId": "49ff661b-185e-44a0-b658-e5961eda5c3e"
      },
      "execution_count": null,
      "outputs": [
        {
          "output_type": "stream",
          "name": "stdout",
          "text": [
            "              nida maryam is a girl               \n",
            "21\n",
            "50\n"
          ]
        }
      ]
    },
    {
      "cell_type": "code",
      "source": [
        "#count : counts the number of incidences of a particular value in a string\n",
        "\n",
        "print(name.count('a'))"
      ],
      "metadata": {
        "colab": {
          "base_uri": "https://localhost:8080/"
        },
        "id": "NNXPewRWWAha",
        "outputId": "5b9c483f-c5cf-43c4-aa58-61ec08694fbd"
      },
      "execution_count": null,
      "outputs": [
        {
          "output_type": "stream",
          "name": "stdout",
          "text": [
            "4\n"
          ]
        }
      ]
    },
    {
      "cell_type": "markdown",
      "source": [
        "#Day14: If-Else Statements\n",
        "\n"
      ],
      "metadata": {
        "id": "t5Q6amfuzz_Z"
      }
    },
    {
      "cell_type": "markdown",
      "source": [
        "Conditional operators:\n",
        "\n",
        "> , < , >=, <=, ==, !=\n",
        "\n",
        "\n",
        "-Python's indentation in if-else\n",
        "-Indentation means 'we are starting a block for our program to understand'\n",
        "\n",
        "-if ... elif... else\n",
        "\n",
        "-Nested if-else (if within ifs... ) Their level of indents matter and nothing else"
      ],
      "metadata": {
        "id": "Df23LI890iq1"
      }
    },
    {
      "cell_type": "code",
      "source": [
        "# if else\n",
        "\n",
        "a=int(input('Enter your age   '))\n",
        "print( 'your age is:  ', a)\n",
        "\n",
        "if (a>18):\n",
        "  print('you can drive')\n",
        "else:\n",
        "  print('you cannot drive')"
      ],
      "metadata": {
        "colab": {
          "base_uri": "https://localhost:8080/"
        },
        "id": "LCZLqtYo0EmW",
        "outputId": "ce4b9bfd-4ecc-4446-8f2f-066d757e92ab"
      },
      "execution_count": null,
      "outputs": [
        {
          "output_type": "stream",
          "name": "stdout",
          "text": [
            "Enter your age9\n",
            "your age is:  9\n",
            "you cannot drive\n"
          ]
        }
      ]
    },
    {
      "cell_type": "code",
      "source": [
        "#if..else if\n",
        "\n",
        "a=int(input('Enter your age   '))\n",
        "print( 'your age is:  ', a)\n",
        "\n",
        "if (a>25):\n",
        "  print('you can drive')\n",
        "elif(a>=18 and a<=25):\n",
        "  print('You can drive only on learner\\'s permit')\n",
        "else:\n",
        "  print('you cannot drive')"
      ],
      "metadata": {
        "colab": {
          "base_uri": "https://localhost:8080/"
        },
        "id": "p-DB_KMG12pr",
        "outputId": "c55ba4ad-8b91-456c-894f-cf15228bf03f"
      },
      "execution_count": null,
      "outputs": [
        {
          "output_type": "stream",
          "name": "stdout",
          "text": [
            "Enter your age   20\n",
            "your age is:   20\n",
            "You can drive only on learner's permit\n"
          ]
        }
      ]
    },
    {
      "cell_type": "code",
      "source": [
        "#nested if else\n",
        "\n",
        "a=int(input('Enter your age   '))\n",
        "print( 'your age is:  ', a)\n",
        "\n",
        "if (a>=18):\n",
        "  if(a==18):\n",
        "    print('Apply for learner\\'s permit first.  ')\n",
        "  elif(a>18 and a<23):\n",
        "    print('You can drive on learner\\'s permit only.')\n",
        "  else:\n",
        "    print('You can drive.')\n",
        "else:\n",
        "  print('You are under-age. You cannot drive.')\n",
        "\n",
        "print('For any details, call our 24/7 helpline : 051-111-111-222') #Should be printed in all cases.\n"
      ],
      "metadata": {
        "colab": {
          "base_uri": "https://localhost:8080/"
        },
        "id": "uI1mRtZ_3m4T",
        "outputId": "36bda8fd-bf1b-4003-f370-510caf676bdc"
      },
      "execution_count": null,
      "outputs": [
        {
          "output_type": "stream",
          "name": "stdout",
          "text": [
            "Enter your age   80\n",
            "your age is:   80\n",
            "You can drive.\n",
            "For any details, call our 24/7 helpline : 051-111-111-222\n"
          ]
        }
      ]
    },
    {
      "cell_type": "markdown",
      "source": [
        "#Day 15: Exercise\n",
        "\n",
        "\n",
        "Display Good-morning/good-evening-good night Sir based on the actual time.\n"
      ],
      "metadata": {
        "id": "mrFPnUea5JXE"
      }
    },
    {
      "cell_type": "code",
      "source": [
        "from datetime import datetime\n",
        "\n",
        "now=datetime.now()\n",
        "\n",
        "#This gets the GMT time\n",
        "current_time = now.strftime(\"%H:%M:%S\")\n",
        "print(\"Current Time =\", current_time)\n",
        "\n",
        "#To get Current-hour, we can simply add 5 to our GMT because we have a timezone of GMT+5.\n",
        "current_hour = int(now.strftime(\"%H\"))+5\n",
        "print(\"Current Hour =\", current_hour)\n",
        "\n",
        "if(current_hour>=4 and current_hour<14):\n",
        "  print('Good Morning Sir.')\n",
        "elif(current_hour>=14 and current_hour<18):\n",
        "  print('Good Afternoon Sir.')\n",
        "else:\n",
        "  print('Good Evening Sir.')\n"
      ],
      "metadata": {
        "colab": {
          "base_uri": "https://localhost:8080/"
        },
        "id": "BRcbdZuf5tVI",
        "outputId": "c92e603b-0568-482b-f397-729406149da3"
      },
      "execution_count": null,
      "outputs": [
        {
          "output_type": "stream",
          "name": "stdout",
          "text": [
            "Current Time = 17:21:21\n",
            "Current Hour = 22\n",
            "Good Evening Sir.\n"
          ]
        }
      ]
    },
    {
      "cell_type": "markdown",
      "source": [
        "**We used 'int' conversion on our won so good job Nida ^_^ **"
      ],
      "metadata": {
        "id": "pFTt7lHm81SC"
      }
    },
    {
      "cell_type": "code",
      "source": [
        "import time\n",
        "\n",
        "t = time.localtime()\n",
        "current_time = time.strftime(\"%H:%M:%S\", t)\n",
        "print(current_time)"
      ],
      "metadata": {
        "colab": {
          "base_uri": "https://localhost:8080/"
        },
        "id": "yLt92v1G6Cj0",
        "outputId": "8b7cfe0b-ad9d-4619-911a-dd8b4ad746a3"
      },
      "execution_count": null,
      "outputs": [
        {
          "output_type": "stream",
          "name": "stdout",
          "text": [
            "17:12:04\n"
          ]
        }
      ]
    },
    {
      "cell_type": "code",
      "source": [
        "from datetime import datetime\n",
        "import pytz\n",
        "\n",
        "# Get the timezone object for New York\n",
        "tz_NY = pytz.timezone('America/New_York')\n",
        "\n",
        "# Get the current time in New York\n",
        "datetime_NY = datetime.now(tz_NY)\n",
        "\n",
        "# Format the time as a string and print it\n",
        "print(\"NY time:\", datetime_NY.strftime(\"%H:%M:%S\"))\n",
        "\n",
        "# Get the timezone object for London\n",
        "tz_London = pytz.timezone('Europe/London')\n",
        "\n",
        "# Get the current time in London\n",
        "datetime_London = datetime.now(tz_London)\n",
        "\n",
        "# Format the time as a string and print it\n",
        "print(\"London time:\", datetime_London.strftime(\"%H:%M:%S\"))\n",
        "\n",
        "# Get the timezone object for Karachi\n",
        "tz_Karachi = pytz.timezone('Asia/Karachi')\n",
        "\n",
        "# Get the current time in London\n",
        "datetime_Karachi= datetime.now(tz_Karachi)\n",
        "\n",
        "# Format the time as a string and print it\n",
        "print(\"Islamabad time:\", datetime_Karachi.strftime(\"%H:%M:%S\"))"
      ],
      "metadata": {
        "colab": {
          "base_uri": "https://localhost:8080/"
        },
        "id": "6HF42Fky6KMu",
        "outputId": "46c4a469-ab85-4639-cb81-16d5b7bb1543"
      },
      "execution_count": null,
      "outputs": [
        {
          "output_type": "stream",
          "name": "stdout",
          "text": [
            "NY time: 12:14:07\n",
            "London time: 17:14:07\n",
            "Islamabad time: 22:14:07\n"
          ]
        }
      ]
    },
    {
      "cell_type": "markdown",
      "source": [
        "#Day 16: Match-Case Statements in Python"
      ],
      "metadata": {
        "id": "Ty0em4LN9JGk"
      }
    },
    {
      "cell_type": "markdown",
      "source": [
        "Anew addition in Python 3.10 onwards.\n",
        "\n",
        "Similar to switch-case statements in C or C++.\n",
        "\n",
        "\n",
        "e.g. somebody voting party1, party2, party3 or party 4 in elections.\n",
        "\n",
        "\n",
        "where **match Variable_name:  ** is the variable we have to match\n",
        "\n",
        "and **case _:** is the deafualt case for handling all various cases.\n",
        "\n",
        "\n",
        "Catch:\n",
        "\n",
        "1.  In case of C, C++, it is possible that sometimes more than 1  cases match and the compiler may execute both so we have to use the break statement to get conpiler out of switch scenarios. but here in python nothing like that happens. only one case is executed.\n",
        "2. We can add ifs + multiple default cases in here as well"
      ],
      "metadata": {
        "id": "5okv8b1T9MvC"
      }
    },
    {
      "cell_type": "code",
      "source": [
        "print('Which party are you going to vote for: 1,2,3 or 4 ? Choose your option below:')\n",
        "vote=int(input())\n",
        "\n",
        "#Now vote is our variable to match\n",
        "\n",
        "match vote:\n",
        "  case 1:\n",
        "    print('You voted for party1. ')\n",
        "  case 2:\n",
        "    print('You voted for party2. ')\n",
        "  case 3:\n",
        "    print('You voted for party3. ')\n",
        "  case 4:\n",
        "    print('You voted for party4. ')\n",
        "  case _: #default case\n",
        "    print('Wrong choice. Please poll between option 1,2,3 and 4. ')"
      ],
      "metadata": {
        "colab": {
          "base_uri": "https://localhost:8080/"
        },
        "id": "xrYKvmtMqcpK",
        "outputId": "d075a99c-538e-421e-cedc-7c36b64e434a"
      },
      "execution_count": null,
      "outputs": [
        {
          "output_type": "stream",
          "name": "stdout",
          "text": [
            "Which party are you going to vote for: 1,2,3 or 4 ? Choose your option below:\n",
            "7\n",
            "Wrong choice. Please poll between option 1,2,3 and 4. \n"
          ]
        }
      ]
    },
    {
      "cell_type": "code",
      "source": [
        "#. We can add ifs + multiple default cases in here as well\n",
        "\n",
        "print('Which party are you going to vote for: 1,2,3 or 4 ? Choose your option below:')\n",
        "vote=int(input())\n",
        "\n",
        "#Now vote is our variable to match\n",
        "\n",
        "match vote:\n",
        "  case 1:\n",
        "    print('You voted for party1. ')\n",
        "  case 2:\n",
        "    print('You voted for party2. ')\n",
        "  case 3:\n",
        "    print('You voted for party3. ')\n",
        "  case 4:\n",
        "    print('You voted for party4. ')\n",
        "  case _ if vote ==5 : #default case 1\n",
        "    print('Wrong choice.',vote,' is not available in options.  Please poll between option 1,2,3 and 4.')\n",
        "  case _ if vote ==6 : #default case 2\n",
        "    print('Wrong choice.',vote,' is incorrect..  Please poll between option 1,2,3 and 4.')\n",
        "  case _ : #default case 3\n",
        "    print('Wrong choice.',vote,' is not an option.  Please poll between option 1,2,3 and 4.')"
      ],
      "metadata": {
        "colab": {
          "base_uri": "https://localhost:8080/"
        },
        "id": "w0PcI46OtlsB",
        "outputId": "465b270d-b20f-4f0e-8b9f-b0b8a9658ea7"
      },
      "execution_count": null,
      "outputs": [
        {
          "output_type": "stream",
          "name": "stdout",
          "text": [
            "Which party are you going to vote for: 1,2,3 or 4 ? Choose your option below:\n",
            "6\n",
            "Wrong choice. 6  is incorrect..  Please poll between option 1,2,3 and 4.\n"
          ]
        }
      ]
    },
    {
      "cell_type": "markdown",
      "source": [
        "# Day 17: For loops in Python:\n",
        "\n",
        "\n",
        "* Printing each character of a string array\n",
        "* Print each element of a list\n",
        "* Nested For Loop\n",
        "* Range() --- start,stop, step"
      ],
      "metadata": {
        "id": "n24E0gnZvvOX"
      }
    },
    {
      "cell_type": "code",
      "source": [
        "#Printing each character of a string\n",
        "\n",
        "name='Nid\\Mar++--'\n",
        "for i in name:\n",
        "  print(i)\n",
        "  if (i==\"\\\\\"):\n",
        "    print('This is a special char.')\n",
        "  if (i==\"+\"):\n",
        "    print('This is an addition character.')\n",
        "\n",
        "#For case sta"
      ],
      "metadata": {
        "colab": {
          "base_uri": "https://localhost:8080/"
        },
        "id": "ovoSdYwxwCSI",
        "outputId": "bf1880b7-ac48-4e28-f7ad-21d95a89a7bd"
      },
      "execution_count": null,
      "outputs": [
        {
          "output_type": "stream",
          "name": "stdout",
          "text": [
            "N\n",
            "i\n",
            "d\n",
            "\\\n",
            "This is a special char.\n",
            "M\n",
            "a\n",
            "r\n",
            "+\n",
            "This is an addition character.\n",
            "+\n",
            "This is an addition character.\n",
            "-\n",
            "-\n"
          ]
        }
      ]
    },
    {
      "cell_type": "code",
      "source": [
        "#List\n",
        "#printing a list using for loop\n",
        "\n",
        "colors=['red','green','blue','purple']\n",
        "\n",
        "for color in colors:\n",
        "  print(color)\n",
        "\n",
        "#Its a good practise to name iterable variable same as/ or similar to list_name for better readability"
      ],
      "metadata": {
        "colab": {
          "base_uri": "https://localhost:8080/"
        },
        "id": "xJbQLhfxwYdm",
        "outputId": "b5b7080c-73ee-4b8b-9d0a-cba388c5e6ba"
      },
      "execution_count": null,
      "outputs": [
        {
          "output_type": "stream",
          "name": "stdout",
          "text": [
            "red\n",
            "green\n",
            "blue\n",
            "purple\n"
          ]
        }
      ]
    },
    {
      "cell_type": "code",
      "source": [
        "#Iteratiting within list elements\n",
        "#Nested loop\n",
        "colors=['red','green','blue','purple']\n",
        "\n",
        "for color in colors:\n",
        "  for co in color:\n",
        "    print(co)\n",
        "  print(color)\n"
      ],
      "metadata": {
        "colab": {
          "base_uri": "https://localhost:8080/"
        },
        "id": "OYRzUkk7ZNVv",
        "outputId": "9edd7e5f-65ab-4c7b-b21e-2997296acba9"
      },
      "execution_count": null,
      "outputs": [
        {
          "output_type": "stream",
          "name": "stdout",
          "text": [
            "r\n",
            "e\n",
            "d\n",
            "red\n",
            "g\n",
            "r\n",
            "e\n",
            "e\n",
            "n\n",
            "green\n",
            "b\n",
            "l\n",
            "u\n",
            "e\n",
            "blue\n",
            "p\n",
            "u\n",
            "r\n",
            "p\n",
            "l\n",
            "e\n",
            "purple\n"
          ]
        }
      ]
    },
    {
      "cell_type": "code",
      "source": [
        "#range function for For loops\n",
        "\n",
        "# for k in range(5):    #0....4\n",
        "#   print(k+1)\n",
        "\n",
        "# for k in range(1,9): # 1....8 not 9\n",
        "#   print(k)\n",
        "# #1 is start , 9 is stop , by default step size is 1\n",
        "\n",
        "for k in range (3,46,3): #start from 3, end at 45 (max)\n",
        "  print(k)"
      ],
      "metadata": {
        "colab": {
          "base_uri": "https://localhost:8080/"
        },
        "id": "Bw9s_cYhZGxe",
        "outputId": "5de6010f-b0f1-4e6b-9820-587ed603063b"
      },
      "execution_count": null,
      "outputs": [
        {
          "output_type": "stream",
          "name": "stdout",
          "text": [
            "3\n",
            "6\n",
            "9\n",
            "12\n",
            "15\n",
            "18\n",
            "21\n",
            "24\n",
            "27\n",
            "30\n",
            "33\n",
            "36\n",
            "39\n",
            "42\n",
            "45\n"
          ]
        }
      ]
    },
    {
      "cell_type": "markdown",
      "source": [
        "remember : the 3 step counter means 3->4(1 step) -> 5 (2nd step) -> 6 (3rd step)"
      ],
      "metadata": {
        "id": "vm_sZyZPbSbY"
      }
    },
    {
      "cell_type": "markdown",
      "source": [
        "# Day 17: While Loop\n",
        "\n",
        "While loop for ants and fans ...lol\n",
        "\n",
        "-Infinte while loops\n",
        "-**While loop with else** *(New)*\n",
        "\n",
        "-Do-while loop (runs atleast once)--- But not in Python but in C++, Java\n",
        "\n",
        "do\n",
        "{#loop body ;\n",
        "}while(condition)\n",
        "\n",
        "-Interview question : Emulate do-while loop in python"
      ],
      "metadata": {
        "id": "7Uc-AjYUi4oC"
      }
    },
    {
      "cell_type": "code",
      "source": [
        "for i in range(3):\n",
        "  print (i)"
      ],
      "metadata": {
        "colab": {
          "base_uri": "https://localhost:8080/"
        },
        "id": "ZUJtNtKri7xq",
        "outputId": "4b34bddd-40fd-4080-83c6-2491b1a10c14"
      },
      "execution_count": null,
      "outputs": [
        {
          "output_type": "stream",
          "name": "stdout",
          "text": [
            "0\n",
            "1\n",
            "2\n"
          ]
        }
      ]
    },
    {
      "cell_type": "code",
      "source": [
        "#Same results in while loop by:\n",
        "i=0\n",
        "\n",
        "while(i<3):\n",
        "  print(i)\n",
        "  i+=1 #or i=i+1"
      ],
      "metadata": {
        "colab": {
          "base_uri": "https://localhost:8080/"
        },
        "id": "9LccbplLjP9r",
        "outputId": "563560e4-f62d-432b-e1d5-5fa3bcee2b63"
      },
      "execution_count": null,
      "outputs": [
        {
          "output_type": "stream",
          "name": "stdout",
          "text": [
            "0\n",
            "1\n",
            "2\n"
          ]
        }
      ]
    },
    {
      "cell_type": "code",
      "source": [
        "#use case\n",
        "i=int(input('Value of i : '))\n",
        "while (i<=4):\n",
        "  int(input('Enter the number: '))\n",
        "  i=i+1\n",
        "\n",
        "print('Done with loop')"
      ],
      "metadata": {
        "colab": {
          "base_uri": "https://localhost:8080/"
        },
        "id": "wa7fOzadjyhQ",
        "outputId": "f1633bb5-0d5f-4eb3-f64b-080c97ecf35e"
      },
      "execution_count": null,
      "outputs": [
        {
          "output_type": "stream",
          "name": "stdout",
          "text": [
            "Value of i : 4\n",
            "Enter the number: 90\n",
            "Done with loop\n"
          ]
        }
      ]
    },
    {
      "cell_type": "code",
      "source": [
        "#While loop with else\n",
        "\n",
        "#the code when comes out of while loop (when the condition becomes false), then executes else statement\n",
        "\n",
        "count =5\n",
        "while (count>=0):\n",
        "  print(count)\n",
        "  count-=1\n",
        "else:\n",
        "  print('Counter cannot run coz of non-positive inputs')\n",
        "#see execution of else"
      ],
      "metadata": {
        "colab": {
          "base_uri": "https://localhost:8080/"
        },
        "id": "BIfAfB46k7LL",
        "outputId": "c6e06036-b4fa-4af2-d9eb-9603440135d5"
      },
      "execution_count": null,
      "outputs": [
        {
          "output_type": "stream",
          "name": "stdout",
          "text": [
            "5\n",
            "4\n",
            "3\n",
            "2\n",
            "1\n",
            "0\n",
            "Counter cannot run cox of non-positive inputs\n"
          ]
        }
      ]
    }
  ]
}